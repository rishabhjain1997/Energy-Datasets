{
 "cells": [
  {
   "cell_type": "code",
   "execution_count": 1,
   "id": "209ab9b5-e6d6-48d8-ac51-50815a6afd01",
   "metadata": {},
   "outputs": [
    {
     "name": "stderr",
     "output_type": "stream",
     "text": [
      "2022-05-20 13:48:46.284895: W tensorflow/stream_executor/platform/default/dso_loader.cc:64] Could not load dynamic library 'libcudart.so.11.0'; dlerror: libcudart.so.11.0: cannot open shared object file: No such file or directory\n",
      "2022-05-20 13:48:46.284918: I tensorflow/stream_executor/cuda/cudart_stub.cc:29] Ignore above cudart dlerror if you do not have a GPU set up on your machine.\n"
     ]
    }
   ],
   "source": [
    "import numpy as np\n",
    "from statistics import mean\n",
    "import matplotlib.pyplot as plt\n",
    "import pandas as pd\n",
    "import seaborn as sns\n",
    "import pandas as pd\n",
    "import seaborn as sns\n",
    "from tslearn.clustering import TimeSeriesKMeans\n",
    "import numpy as np\n",
    "from tensorflow.keras.models import Sequential\n",
    "from tensorflow.keras.layers import LSTM, SimpleRNN \n",
    "from tensorflow.keras import regularizers\n",
    "from tensorflow.keras.layers import Dense, Dropout\n",
    "import tensorflow as tf\n",
    "import pandas as pd\n",
    "from matplotlib import pyplot as plt\n",
    "from sklearn.preprocessing import StandardScaler, MinMaxScaler\n",
    "from tensorflow import keras\n",
    "import seaborn as sns"
   ]
  },
  {
   "cell_type": "code",
   "execution_count": 2,
   "id": "a6b970e8-1214-49ad-b3c3-94c65fedaeaa",
   "metadata": {},
   "outputs": [],
   "source": [
    "LSTM_scenario_4_metrics= [0.33654817938804626,\n",
    " 2.1850826740264893,\n",
    " 0.9359216451644897,\n",
    " 0.18174351751804352,\n",
    " 1.4018490314483643,\n",
    " 0.5823843389749527,\n",
    " 74.69379425048828,\n",
    " 393666.0,\n",
    " 204336.0043838501,\n",
    " 0.11326467245817184,\n",
    " 4.774586200714111,\n",
    " 1.3069338098168373]\n",
    "LSTM_scenario_3_metrics = [0.33654817938804626,\n",
    " 2.1850826740264893,\n",
    " 0.9359216451644897,\n",
    " 0.18174351751804352,\n",
    " 1.4018490314483643,\n",
    " 0.5823843389749527,\n",
    " 74.69379425048828,\n",
    " 393666.0,\n",
    " 204336.0043838501,\n",
    " 0.11326467245817184,\n",
    " 4.774586200714111,\n",
    " 1.3069338098168373]\n",
    "LSTM_scenario_2_metrics = [0.33654817938804626,\n",
    " 2.1850826740264893,\n",
    " 0.9359216451644897,\n",
    " 0.18174351751804352,\n",
    " 1.4018490314483643,\n",
    " 0.5823843389749527,\n",
    " 74.69379425048828,\n",
    " 393666.0,\n",
    " 204336.0043838501,\n",
    " 0.11326467245817184,\n",
    " 4.774586200714111,\n",
    " 1.3069338098168373]\n",
    "LSTM_scenario_1_metrics = [0.33654817938804626,\n",
    " 2.1850826740264893,\n",
    " 0.9359216451644897,\n",
    " 0.18174351751804352,\n",
    " 1.4018490314483643,\n",
    " 0.5823843389749527,\n",
    " 74.69379425048828,\n",
    " 393666.0,\n",
    " 204336.0043838501,\n",
    " 0.11326467245817184,\n",
    " 4.774586200714111,\n",
    " 1.3069338098168373]"
   ]
  },
  {
   "cell_type": "code",
   "execution_count": 4,
   "id": "24320bd9-8c43-4bb9-bf3f-c03e32dfc7c9",
   "metadata": {},
   "outputs": [],
   "source": [
    "col_names = ['Min RMSE', 'Max RMSE', 'Mean RMSE','Min MAE', 'Max MAE', 'Mean MAE'\n",
    "            ,'Min MAPE', 'Max MAPE', 'Mean MAPE'\n",
    "            ,'Min MSE', 'Max MSE', 'Mean MSE']"
   ]
  },
  {
   "cell_type": "code",
   "execution_count": 9,
   "id": "14af0126-348b-4f38-9662-66230d991a7b",
   "metadata": {},
   "outputs": [],
   "source": [
    "RNN_scenario_1_metrics = [0.33654817938804626,\n",
    " 2.1850826740264893,\n",
    " 0.9359216451644897,\n",
    " 0.18174351751804352,\n",
    " 1.4018490314483643,\n",
    " 0.5823843389749527,\n",
    " 74.69379425048828,\n",
    " 393666.0,\n",
    " 204336.0043838501,\n",
    " 0.11326467245817184,\n",
    " 4.774586200714111,\n",
    " 1.3069338098168373]\n",
    "RNN_scenario_2_metrics = [0.33654817938804626,\n",
    " 2.1850826740264893,\n",
    " 0.9359216451644897,\n",
    " 0.18174351751804352,\n",
    " 1.4018490314483643,\n",
    " 0.5823843389749527,\n",
    " 74.69379425048828,\n",
    " 393666.0,\n",
    " 204336.0043838501,\n",
    " 0.11326467245817184,\n",
    " 4.774586200714111,\n",
    " 1.3069338098168373]\n",
    "RNN_scenario_3_metrics = [0.33654817938804626,\n",
    " 2.1850826740264893,\n",
    " 0.9359216451644897,\n",
    " 0.18174351751804352,\n",
    " 1.4018490314483643,\n",
    " 0.5823843389749527,\n",
    " 74.69379425048828,\n",
    " 393666.0,\n",
    " 204336.0043838501,\n",
    " 0.11326467245817184,\n",
    " 4.774586200714111,\n",
    " 1.3069338098168373]\n",
    "RNN_scenario_4_metrics = [0.33654817938804626,\n",
    " 2.1850826740264893,\n",
    " 0.9359216451644897,\n",
    " 0.18174351751804352,\n",
    " 1.4018490314483643,\n",
    " 0.5823843389749527,\n",
    " 74.69379425048828,\n",
    " 393666.0,\n",
    " 204336.0043838501,\n",
    " 0.11326467245817184,\n",
    " 4.774586200714111,\n",
    " 1.3069338098168373]"
   ]
  },
  {
   "cell_type": "code",
   "execution_count": 11,
   "id": "4e15ba8f-c51d-4ff0-b321-9df4f8e8070f",
   "metadata": {},
   "outputs": [],
   "source": [
    "data = {'Algorithm':['LSTM','LSTM','LSTM','LSTM','RNN','RNN','RNN','RNN'], 'Scenario': [4,3,2,1,1,2,3,4], \"RMSE\": [LSTM_scenario_4_metrics[2],LSTM_scenario_3_metrics[2],\n",
    "                                                                                                                   LSTM_scenario_2_metrics[2], LSTM_scenario_1_metrics[2],\n",
    "                                                                                                                  RNN_scenario_1_metrics[2],\n",
    "                                                                                                                  RNN_scenario_2_metrics[2],\n",
    "                                                                                                                  RNN_scenario_3_metrics[2],\n",
    "                                                                                                                  RNN_scenario_4_metrics[2]]}\n",
    "df = pd.DataFrame(data)"
   ]
  },
  {
   "cell_type": "code",
   "execution_count": 12,
   "id": "a9520ce0-a25e-47a5-9f59-9b9ff1d9707c",
   "metadata": {},
   "outputs": [
    {
     "name": "stderr",
     "output_type": "stream",
     "text": [
      "/home/rishabh/anaconda3/lib/python3.9/site-packages/seaborn/categorical.py:3717: UserWarning: The `factorplot` function has been renamed to `catplot`. The original name will be removed in a future release. Please update your code. Note that the default `kind` in `factorplot` (`'point'`) has changed `'strip'` in `catplot`.\n",
      "  warnings.warn(msg)\n"
     ]
    },
    {
     "data": {
      "text/plain": [
       "<seaborn.axisgrid.FacetGrid at 0x7f9f49d8c970>"
      ]
     },
     "execution_count": 12,
     "metadata": {},
     "output_type": "execute_result"
    },
    {
     "data": {
      "image/png": "[encoded data removed]",
      "text/plain": [
       "<Figure size 422.375x360 with 1 Axes>"
      ]
     },
     "metadata": {
      "needs_background": "light"
     },
     "output_type": "display_data"
    }
   ],
   "source": [
    "sns.factorplot(x='Scenario', y='RMSE', hue='Algorithm', data=df, kind='bar')"
   ]
  },
  {
   "cell_type": "code",
   "execution_count": 13,
   "id": "622e791a-0351-4f82-bfd3-7d888bff4cc1",
   "metadata": {},
   "outputs": [],
   "source": [
    "data = {'Algorithm':['LSTM','LSTM','LSTM','LSTM','RNN','RNN','RNN','RNN'], 'Scenario': [4,3,2,1,1,2,3,4], \"MAE\": [LSTM_scenario_4_metrics[5],LSTM_scenario_3_metrics[5],\n",
    "                                                                                                                   LSTM_scenario_2_metrics[5], LSTM_scenario_1_metrics[5],\n",
    "                                                                                                                  RNN_scenario_1_metrics[5],\n",
    "                                                                                                                  RNN_scenario_2_metrics[5],\n",
    "                                                                                                                  RNN_scenario_3_metrics[5],\n",
    "                                                                                                                  RNN_scenario_4_metrics[5]]}\n",
    "df = pd.DataFrame(data)"
   ]
  },
  {
   "cell_type": "code",
   "execution_count": 14,
   "id": "2e9dce9f-db04-4a80-8b2f-621c6eb1812a",
   "metadata": {},
   "outputs": [
    {
     "name": "stderr",
     "output_type": "stream",
     "text": [
      "/home/rishabh/anaconda3/lib/python3.9/site-packages/seaborn/categorical.py:3717: UserWarning: The `factorplot` function has been renamed to `catplot`. The original name will be removed in a future release. Please update your code. Note that the default `kind` in `factorplot` (`'point'`) has changed `'strip'` in `catplot`.\n",
      "  warnings.warn(msg)\n"
     ]
    },
    {
     "data": {
      "text/plain": [
       "<seaborn.axisgrid.FacetGrid at 0x7f9fcae03490>"
      ]
     },
     "execution_count": 14,
     "metadata": {},
     "output_type": "execute_result"
    },
    {
     "data": {
      "image/png": "[encoded data removed]",
      "text/plain": [
       "<Figure size 422.375x360 with 1 Axes>"
      ]
     },
     "metadata": {
      "needs_background": "light"
     },
     "output_type": "display_data"
    }
   ],
   "source": [
    "sns.factorplot(x='Scenario', y='MAE', hue='Algorithm', data=df, kind='bar')"
   ]
  },
  {
   "cell_type": "code",
   "execution_count": null,
   "id": "56c2914e-d531-4093-b3bf-485529e6f969",
   "metadata": {},
   "outputs": [],
   "source": []
  }
 ],
 "metadata": {
  "kernelspec": {
   "display_name": "Python 3 (ipykernel)",
   "language": "python",
   "name": "python3"
  },
  "language_info": {
   "codemirror_mode": {
    "name": "ipython",
    "version": 3
   },
   "file_extension": ".py",
   "mimetype": "text/x-python",
   "name": "python",
   "nbconvert_exporter": "python",
   "pygments_lexer": "ipython3",
   "version": "3.9.7"
  }
 },
 "nbformat": 4,
 "nbformat_minor": 5
}
