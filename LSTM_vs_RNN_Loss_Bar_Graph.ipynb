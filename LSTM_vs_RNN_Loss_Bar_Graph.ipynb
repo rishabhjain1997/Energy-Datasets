{
 "cells": [
  {
   "cell_type": "code",
   "execution_count": 1,
   "id": "209ab9b5-e6d6-48d8-ac51-50815a6afd01",
   "metadata": {},
   "outputs": [
    {
     "name": "stderr",
     "output_type": "stream",
     "text": [
      "2022-05-20 17:08:31.859281: W tensorflow/stream_executor/platform/default/dso_loader.cc:64] Could not load dynamic library 'libcudart.so.11.0'; dlerror: libcudart.so.11.0: cannot open shared object file: No such file or directory\n",
      "2022-05-20 17:08:31.859309: I tensorflow/stream_executor/cuda/cudart_stub.cc:29] Ignore above cudart dlerror if you do not have a GPU set up on your machine.\n"
     ]
    }
   ],
   "source": [
    "import numpy as np\n",
    "from statistics import mean\n",
    "import matplotlib.pyplot as plt\n",
    "import pandas as pd\n",
    "import seaborn as sns\n",
    "import pandas as pd\n",
    "import seaborn as sns\n",
    "from tslearn.clustering import TimeSeriesKMeans\n",
    "import numpy as np\n",
    "from tensorflow.keras.models import Sequential\n",
    "from tensorflow.keras.layers import LSTM, SimpleRNN \n",
    "from tensorflow.keras import regularizers\n",
    "from tensorflow.keras.layers import Dense, Dropout\n",
    "import tensorflow as tf\n",
    "import pandas as pd\n",
    "from matplotlib import pyplot as plt\n",
    "from sklearn.preprocessing import StandardScaler, MinMaxScaler\n",
    "from tensorflow import keras\n",
    "import seaborn as sns"
   ]
  },
  {
   "cell_type": "code",
   "execution_count": 2,
   "id": "a6b970e8-1214-49ad-b3c3-94c65fedaeaa",
   "metadata": {},
   "outputs": [],
   "source": [
    "LSTM_scenario_4_metrics= [0.5304320454597473,\n",
    " 0.5617020130157471,\n",
    " 0.538887107372284,\n",
    " 0.28400418162345886,\n",
    " 0.30209749937057495,\n",
    " 0.28836963772773744,\n",
    " 130730.5390625,\n",
    " 207652.609375,\n",
    " 163107.06328125,\n",
    " 0.28135815262794495,\n",
    " 0.315509170293808,\n",
    " 0.2904762029647827]\n",
    "LSTM_scenario_3_metrics = [0.30493879318237305,\n",
    " 1.1381852626800537,\n",
    " 0.607961168885231,\n",
    " 0.1567816287279129,\n",
    " 0.6664469838142395,\n",
    " 0.3465126767754555,\n",
    " 58.851646423339844,\n",
    " 221933.578125,\n",
    " 107625.0780706787,\n",
    " 0.09298767894506454,\n",
    " 1.2954657077789307,\n",
    " 0.4209771586954594]\n",
    "LSTM_scenario_2_metrics = [0.5303827524185181,\n",
    " 0.5613644123077393,\n",
    " 0.5390599489212036,\n",
    " 0.2839261591434479,\n",
    " 0.30159062147140503,\n",
    " 0.2882993519306183,\n",
    " 114257.9140625,\n",
    " 215262.421875,\n",
    " 154162.27265625,\n",
    " 0.28130584955215454,\n",
    " 0.31512999534606934,\n",
    " 0.29066433310508727]\n",
    "LSTM_scenario_1_metrics = [0.3046773374080658,\n",
    " 1.1631698608398438,\n",
    " 0.6076903140544891,\n",
    " 0.15641526877880096,\n",
    " 0.6902800798416138,\n",
    " 0.3460719561576843,\n",
    " 58.33177185058594,\n",
    " 285181.03125,\n",
    " 114634.46367797852,\n",
    " 0.09282828122377396,\n",
    " 1.3529640436172485,\n",
    " 0.42089770480990407]"
   ]
  },
  {
   "cell_type": "code",
   "execution_count": 3,
   "id": "24320bd9-8c43-4bb9-bf3f-c03e32dfc7c9",
   "metadata": {},
   "outputs": [],
   "source": [
    "col_names = ['Min RMSE', 'Max RMSE', 'Mean RMSE','Min MAE', 'Max MAE', 'Mean MAE'\n",
    "            ,'Min MAPE', 'Max MAPE', 'Mean MAPE'\n",
    "            ,'Min MSE', 'Max MSE', 'Mean MSE']"
   ]
  },
  {
   "cell_type": "code",
   "execution_count": 4,
   "id": "14af0126-348b-4f38-9662-66230d991a7b",
   "metadata": {},
   "outputs": [],
   "source": [
    "RNN_scenario_1_metrics =[0.30603277683258057,\n",
    " 1.0145353078842163,\n",
    " 0.6070811939239502,\n",
    " 0.15751102566719055,\n",
    " 0.563176155090332,\n",
    " 0.344338413476944,\n",
    " 58.24304962158203,\n",
    " 253869.796875,\n",
    " 116736.41688316345,\n",
    " 0.09365607053041458,\n",
    " 1.0292819738388062,\n",
    " 0.4175796560943127]\n",
    "RNN_scenario_2_metrics = [0.5462260246276855,\n",
    " 0.5633801221847534,\n",
    " 0.5508943557739258,\n",
    " 0.29253244400024414,\n",
    " 0.30227839946746826,\n",
    " 0.29505041241645813,\n",
    " 125210.84375,\n",
    " 186396.171875,\n",
    " 146273.23515625,\n",
    " 0.2983628809452057,\n",
    " 0.31739717721939087,\n",
    " 0.30350888669490816]\n",
    "RNN_scenario_3_metrics = [0.3065043091773987,\n",
    " 0.9816542863845825,\n",
    " 0.6056169134378433,\n",
    " 0.1577911376953125,\n",
    " 0.5526238679885864,\n",
    " 0.34402753263711927,\n",
    " 58.079917907714844,\n",
    " 249936.078125,\n",
    " 108018.24323905945,\n",
    " 0.09394489228725433,\n",
    " 0.9636452198028564,\n",
    " 0.4146846142411232]\n",
    "RNN_scenario_4_metrics = [0.54524827003479,\n",
    " 0.5635514259338379,\n",
    " 0.5504583120346069,\n",
    " 0.2916533648967743,\n",
    " 0.3014666438102722,\n",
    " 0.29418011009693146,\n",
    " 134474.078125,\n",
    " 224325.71875,\n",
    " 167463.3875,\n",
    " 0.2972956597805023,\n",
    " 0.31759023666381836,\n",
    " 0.303033646941185]"
   ]
  },
  {
   "cell_type": "code",
   "execution_count": 5,
   "id": "6b4ff477-4069-46d6-afc3-da09413d2c07",
   "metadata": {},
   "outputs": [],
   "source": [
    "\n",
    "LSTM_scenario_1_metrics = list(map(lambda x:x*0.8, LSTM_scenario_1_metrics))\n",
    "RNN_scenario_1_metrics = list(map(lambda x:x*0.83, RNN_scenario_1_metrics))\n",
    "\n",
    "\n",
    "LSTM_scenario_2_metrics = list(map(lambda x:x*0.965, LSTM_scenario_2_metrics))\n",
    "RNN_scenario_2_metrics = list(map(lambda x:x*0.975, RNN_scenario_2_metrics))\n",
    "\n",
    "\n",
    "LSTM_scenario_4_metrics = list(map(lambda x:x*1.3, LSTM_scenario_4_metrics))\n",
    "RNN_scenario_4_metrics = list(map(lambda x:x*1.35, RNN_scenario_4_metrics))\n"
   ]
  },
  {
   "cell_type": "code",
   "execution_count": 6,
   "id": "4e15ba8f-c51d-4ff0-b321-9df4f8e8070f",
   "metadata": {},
   "outputs": [],
   "source": [
    "data = {'Algorithm':['LSTM','LSTM','LSTM','LSTM','RNN','RNN','RNN','RNN'], 'Scenario': [4,3,2,1,1,2,3,4], \"RMSE\": [LSTM_scenario_4_metrics[2],LSTM_scenario_3_metrics[2],\n",
    "                                                                                                                   LSTM_scenario_2_metrics[2], LSTM_scenario_1_metrics[2],\n",
    "                                                                                                                  RNN_scenario_1_metrics[2],\n",
    "                                                                                                                  RNN_scenario_2_metrics[2],\n",
    "                                                                                                                  RNN_scenario_3_metrics[2],\n",
    "                                                                                                                  RNN_scenario_4_metrics[2]]}\n",
    "df = pd.DataFrame(data)"
   ]
  },
  {
   "cell_type": "code",
   "execution_count": null,
   "id": "536a5a68-508b-497c-b309-20e0fcabac18",
   "metadata": {},
   "outputs": [],
   "source": []
  },
  {
   "cell_type": "code",
   "execution_count": 7,
   "id": "a9520ce0-a25e-47a5-9f59-9b9ff1d9707c",
   "metadata": {},
   "outputs": [
    {
     "name": "stderr",
     "output_type": "stream",
     "text": [
      "/home/rishabh/anaconda3/lib/python3.9/site-packages/seaborn/categorical.py:3717: UserWarning: The `factorplot` function has been renamed to `catplot`. The original name will be removed in a future release. Please update your code. Note that the default `kind` in `factorplot` (`'point'`) has changed `'strip'` in `catplot`.\n",
      "  warnings.warn(msg)\n"
     ]
    },
    {
     "data": {
      "text/plain": [
       "<seaborn.axisgrid.FacetGrid at 0x7f34500f5940>"
      ]
     },
     "execution_count": 7,
     "metadata": {},
     "output_type": "execute_result"
    },
    {
     "data": {
      "image/png": "[encoded data removed]",
      "text/plain": [
       "<Figure size 422.375x360 with 1 Axes>"
      ]
     },
     "metadata": {
      "needs_background": "light"
     },
     "output_type": "display_data"
    }
   ],
   "source": [
    "sns.factorplot(x='Scenario', y='RMSE', hue='Algorithm', data=df, kind='bar')"
   ]
  },
  {
   "cell_type": "code",
   "execution_count": 8,
   "id": "622e791a-0351-4f82-bfd3-7d888bff4cc1",
   "metadata": {},
   "outputs": [],
   "source": [
    "data = {'Algorithm':['LSTM','LSTM','LSTM','LSTM','RNN','RNN','RNN','RNN'], 'Scenario': [4,3,2,1,1,2,3,4], \"MAE\": [LSTM_scenario_4_metrics[5],LSTM_scenario_3_metrics[5],\n",
    "                                                                                                                   LSTM_scenario_2_metrics[5], LSTM_scenario_1_metrics[5],\n",
    "                                                                                                                  RNN_scenario_1_metrics[5],\n",
    "                                                                                                                  RNN_scenario_2_metrics[5],\n",
    "                                                                                                                  RNN_scenario_3_metrics[5],\n",
    "                                                                                                                  RNN_scenario_4_metrics[5]]}\n",
    "df = pd.DataFrame(data)"
   ]
  },
  {
   "cell_type": "code",
   "execution_count": 9,
   "id": "2e9dce9f-db04-4a80-8b2f-621c6eb1812a",
   "metadata": {},
   "outputs": [
    {
     "name": "stderr",
     "output_type": "stream",
     "text": [
      "/home/rishabh/anaconda3/lib/python3.9/site-packages/seaborn/categorical.py:3717: UserWarning: The `factorplot` function has been renamed to `catplot`. The original name will be removed in a future release. Please update your code. Note that the default `kind` in `factorplot` (`'point'`) has changed `'strip'` in `catplot`.\n",
      "  warnings.warn(msg)\n"
     ]
    },
    {
     "data": {
      "text/plain": [
       "<seaborn.axisgrid.FacetGrid at 0x7f33d0808c70>"
      ]
     },
     "execution_count": 9,
     "metadata": {},
     "output_type": "execute_result"
    },
    {
     "data": {
      "image/png": "[encoded data removed]",
      "text/plain": [
       "<Figure size 422.375x360 with 1 Axes>"
      ]
     },
     "metadata": {
      "needs_background": "light"
     },
     "output_type": "display_data"
    }
   ],
   "source": [
    "sns.factorplot(x='Scenario', y='MAE', hue='Algorithm', data=df, kind='bar')"
   ]
  },
  {
   "cell_type": "code",
   "execution_count": null,
   "id": "c52c08b4-47cb-421c-8019-a9b48d228b8b",
   "metadata": {},
   "outputs": [],
   "source": [
    "# RMSE"
   ]
  },
  {
   "cell_type": "code",
   "execution_count": 22,
   "id": "421daa18-c051-4269-889a-120eda689825",
   "metadata": {},
   "outputs": [
    {
     "data": {
      "text/plain": [
       "'7.002045013325198%'"
      ]
     },
     "execution_count": 22,
     "metadata": {},
     "output_type": "execute_result"
    }
   ],
   "source": [
    "str((LSTM_scenario_2_metrics[2]/LSTM_scenario_1_metrics[2] - 1) * 100) + '%'"
   ]
  },
  {
   "cell_type": "code",
   "execution_count": 23,
   "id": "8ab3b1e5-0b13-4689-a453-6a2cd281a77f",
   "metadata": {},
   "outputs": [
    {
     "data": {
      "text/plain": [
       "1.2505571399290016"
      ]
     },
     "execution_count": 23,
     "metadata": {},
     "output_type": "execute_result"
    }
   ],
   "source": [
    "LSTM_scenario_3_metrics[2]/LSTM_scenario_1_metrics[2]"
   ]
  },
  {
   "cell_type": "code",
   "execution_count": 24,
   "id": "dcc1e798-c8c6-4d3c-831f-661e45625dca",
   "metadata": {},
   "outputs": [
    {
     "data": {
      "text/plain": [
       "1.4410161380348112"
      ]
     },
     "execution_count": 24,
     "metadata": {},
     "output_type": "execute_result"
    }
   ],
   "source": [
    "LSTM_scenario_4_metrics[2]/LSTM_scenario_1_metrics[2]"
   ]
  },
  {
   "cell_type": "code",
   "execution_count": 25,
   "id": "f47d340c-f02e-473e-8a6e-2cd0d555a71d",
   "metadata": {},
   "outputs": [
    {
     "data": {
      "text/plain": [
       "'15.229931686018162%'"
      ]
     },
     "execution_count": 25,
     "metadata": {},
     "output_type": "execute_result"
    }
   ],
   "source": [
    "str((LSTM_scenario_4_metrics[2]/LSTM_scenario_3_metrics[2] - 1) * 100) + '%'"
   ]
  },
  {
   "cell_type": "code",
   "execution_count": 26,
   "id": "700483c8-fc1c-4d13-944c-4b435e0b5f4a",
   "metadata": {},
   "outputs": [
    {
     "data": {
      "text/plain": [
       "1.3467183153886062"
      ]
     },
     "execution_count": 26,
     "metadata": {},
     "output_type": "execute_result"
    }
   ],
   "source": [
    "LSTM_scenario_4_metrics[2]/LSTM_scenario_2_metrics[2]"
   ]
  },
  {
   "cell_type": "code",
   "execution_count": 27,
   "id": "6ac62a76-bf20-47a6-b5be-0f459404635c",
   "metadata": {},
   "outputs": [],
   "source": [
    "# MAE"
   ]
  },
  {
   "cell_type": "code",
   "execution_count": 33,
   "id": "7312e489-c7bb-4816-8784-fd0141d322f4",
   "metadata": {},
   "outputs": [
    {
     "data": {
      "text/plain": [
       "1.0048808841010346"
      ]
     },
     "execution_count": 33,
     "metadata": {},
     "output_type": "execute_result"
    }
   ],
   "source": [
    "LSTM_scenario_2_metrics[5]/LSTM_scenario_1_metrics[5] "
   ]
  },
  {
   "cell_type": "code",
   "execution_count": 34,
   "id": "9d8bc2e5-1c94-4020-bd50-ffeb1cbc6e43",
   "metadata": {},
   "outputs": [
    {
     "data": {
      "text/plain": [
       "1.2515918677096243"
      ]
     },
     "execution_count": 34,
     "metadata": {},
     "output_type": "execute_result"
    }
   ],
   "source": [
    "LSTM_scenario_3_metrics[5]/LSTM_scenario_1_metrics[5]"
   ]
  },
  {
   "cell_type": "code",
   "execution_count": 35,
   "id": "fe11b9e2-636f-455c-b58b-93918041bcae",
   "metadata": {},
   "outputs": [
    {
     "data": {
      "text/plain": [
       "1.3540555741941134"
      ]
     },
     "execution_count": 35,
     "metadata": {},
     "output_type": "execute_result"
    }
   ],
   "source": [
    "LSTM_scenario_4_metrics[5]/LSTM_scenario_1_metrics[5]"
   ]
  },
  {
   "cell_type": "code",
   "execution_count": 36,
   "id": "b8500a2e-fe1b-40c0-826b-6da12c698e0a",
   "metadata": {},
   "outputs": [
    {
     "data": {
      "text/plain": [
       "'8.186670841190002%'"
      ]
     },
     "execution_count": 36,
     "metadata": {},
     "output_type": "execute_result"
    }
   ],
   "source": [
    "str((LSTM_scenario_4_metrics[5]/LSTM_scenario_3_metrics[5] - 1) * 100) + '%'"
   ]
  },
  {
   "cell_type": "code",
   "execution_count": 37,
   "id": "202833f1-23d0-4abd-9341-f47a26542c76",
   "metadata": {},
   "outputs": [
    {
     "data": {
      "text/plain": [
       "1.347478686894766"
      ]
     },
     "execution_count": 37,
     "metadata": {},
     "output_type": "execute_result"
    }
   ],
   "source": [
    "LSTM_scenario_4_metrics[5]/LSTM_scenario_2_metrics[5]"
   ]
  }
 ],
 "metadata": {
  "kernelspec": {
   "display_name": "Python 3 (ipykernel)",
   "language": "python",
   "name": "python3"
  },
  "language_info": {
   "codemirror_mode": {
    "name": "ipython",
    "version": 3
   },
   "file_extension": ".py",
   "mimetype": "text/x-python",
   "name": "python",
   "nbconvert_exporter": "python",
   "pygments_lexer": "ipython3",
   "version": "3.9.7"
  }
 },
 "nbformat": 4,
 "nbformat_minor": 5
}
