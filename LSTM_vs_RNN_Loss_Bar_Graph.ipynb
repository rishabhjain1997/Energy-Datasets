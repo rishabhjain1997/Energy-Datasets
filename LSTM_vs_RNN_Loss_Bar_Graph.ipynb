{
 "cells": [
  {
   "cell_type": "code",
   "execution_count": 1,
   "id": "209ab9b5-e6d6-48d8-ac51-50815a6afd01",
   "metadata": {},
   "outputs": [
    {
     "name": "stderr",
     "output_type": "stream",
     "text": [
      "2022-06-09 18:41:22.428969: W tensorflow/stream_executor/platform/default/dso_loader.cc:64] Could not load dynamic library 'libcudart.so.11.0'; dlerror: libcudart.so.11.0: cannot open shared object file: No such file or directory\n",
      "2022-06-09 18:41:22.429003: I tensorflow/stream_executor/cuda/cudart_stub.cc:29] Ignore above cudart dlerror if you do not have a GPU set up on your machine.\n"
     ]
    }
   ],
   "source": [
    "import numpy as np\n",
    "from statistics import mean\n",
    "import matplotlib.pyplot as plt\n",
    "import pandas as pd\n",
    "import seaborn as sns\n",
    "import pandas as pd\n",
    "import seaborn as sns\n",
    "from tslearn.clustering import TimeSeriesKMeans\n",
    "import numpy as np\n",
    "from tensorflow.keras.models import Sequential\n",
    "from tensorflow.keras.layers import LSTM, SimpleRNN \n",
    "from tensorflow.keras import regularizers\n",
    "from tensorflow.keras.layers import Dense, Dropout\n",
    "import tensorflow as tf\n",
    "import pandas as pd\n",
    "from matplotlib import pyplot as plt\n",
    "from sklearn.preprocessing import StandardScaler, MinMaxScaler\n",
    "from tensorflow import keras\n",
    "import seaborn as sns"
   ]
  },
  {
   "cell_type": "code",
   "execution_count": 2,
   "id": "a6b970e8-1214-49ad-b3c3-94c65fedaeaa",
   "metadata": {},
   "outputs": [],
   "source": [
    "LSTM_scenario_4_metrics= [0.5304320454597473,\n",
    " 0.5617020130157471,\n",
    " 0.538887107372284,\n",
    " 0.28400418162345886,\n",
    " 0.30209749937057495,\n",
    " 0.28836963772773744,\n",
    " 130730.5390625,\n",
    " 207652.609375,\n",
    " 163107.06328125,\n",
    " 0.28135815262794495,\n",
    " 0.315509170293808,\n",
    " 0.2904762029647827]\n",
    "LSTM_scenario_3_metrics = [0.30493879318237305,\n",
    " 1.1381852626800537,\n",
    " 0.607961168885231,\n",
    " 0.1567816287279129,\n",
    " 0.6664469838142395,\n",
    " 0.3465126767754555,\n",
    " 58.851646423339844,\n",
    " 221933.578125,\n",
    " 107625.0780706787,\n",
    " 0.09298767894506454,\n",
    " 1.2954657077789307,\n",
    " 0.4209771586954594]\n",
    "LSTM_scenario_2_metrics = [0.5303827524185181,\n",
    " 0.5613644123077393,\n",
    " 0.5390599489212036,\n",
    " 0.2839261591434479,\n",
    " 0.30159062147140503,\n",
    " 0.2882993519306183,\n",
    " 114257.9140625,\n",
    " 215262.421875,\n",
    " 154162.27265625,\n",
    " 0.28130584955215454,\n",
    " 0.31512999534606934,\n",
    " 0.29066433310508727]\n",
    "LSTM_scenario_1_metrics = [0.3046773374080658,\n",
    " 1.1631698608398438,\n",
    " 0.6076903140544891,\n",
    " 0.15641526877880096,\n",
    " 0.6902800798416138,\n",
    " 0.3460719561576843,\n",
    " 58.33177185058594,\n",
    " 285181.03125,\n",
    " 114634.46367797852,\n",
    " 0.09282828122377396,\n",
    " 1.3529640436172485,\n",
    " 0.42089770480990407]"
   ]
  },
  {
   "cell_type": "code",
   "execution_count": 3,
   "id": "24320bd9-8c43-4bb9-bf3f-c03e32dfc7c9",
   "metadata": {},
   "outputs": [],
   "source": [
    "col_names = ['Min RMSE', 'Max RMSE', 'Mean RMSE','Min MAE', 'Max MAE', 'Mean MAE'\n",
    "            ,'Min MAPE', 'Max MAPE', 'Mean MAPE'\n",
    "            ,'Min MSE', 'Max MSE', 'Mean MSE']"
   ]
  },
  {
   "cell_type": "code",
   "execution_count": 4,
   "id": "14af0126-348b-4f38-9662-66230d991a7b",
   "metadata": {},
   "outputs": [],
   "source": [
    "RNN_scenario_1_metrics =[0.30603277683258057,\n",
    " 1.0145353078842163,\n",
    " 0.6070811939239502,\n",
    " 0.15751102566719055,\n",
    " 0.563176155090332,\n",
    " 0.344338413476944,\n",
    " 58.24304962158203,\n",
    " 253869.796875,\n",
    " 116736.41688316345,\n",
    " 0.09365607053041458,\n",
    " 1.0292819738388062,\n",
    " 0.4175796560943127]\n",
    "RNN_scenario_2_metrics = [0.5462260246276855,\n",
    " 0.5633801221847534,\n",
    " 0.5508943557739258,\n",
    " 0.29253244400024414,\n",
    " 0.30227839946746826,\n",
    " 0.29505041241645813,\n",
    " 125210.84375,\n",
    " 186396.171875,\n",
    " 146273.23515625,\n",
    " 0.2983628809452057,\n",
    " 0.31739717721939087,\n",
    " 0.30350888669490816]\n",
    "RNN_scenario_3_metrics = [0.3065043091773987,\n",
    " 0.9816542863845825,\n",
    " 0.6056169134378433,\n",
    " 0.1577911376953125,\n",
    " 0.5526238679885864,\n",
    " 0.34402753263711927,\n",
    " 58.079917907714844,\n",
    " 249936.078125,\n",
    " 108018.24323905945,\n",
    " 0.09394489228725433,\n",
    " 0.9636452198028564,\n",
    " 0.4146846142411232]\n",
    "RNN_scenario_4_metrics = [0.54524827003479,\n",
    " 0.5635514259338379,\n",
    " 0.5504583120346069,\n",
    " 0.2916533648967743,\n",
    " 0.3014666438102722,\n",
    " 0.29418011009693146,\n",
    " 134474.078125,\n",
    " 224325.71875,\n",
    " 167463.3875,\n",
    " 0.2972956597805023,\n",
    " 0.31759023666381836,\n",
    " 0.303033646941185]"
   ]
  },
  {
   "cell_type": "code",
   "execution_count": 5,
   "id": "dcade036-5291-4bb5-b818-aaac9285e60b",
   "metadata": {},
   "outputs": [],
   "source": [
    "HYBRID_scenario_1_metrics =[0.30603277683258057,\n",
    " 1.0145353078842163,\n",
    " 0.6070811939239502,\n",
    " 0.15751102566719055,\n",
    " 0.563176155090332,\n",
    " 0.344338413476944,\n",
    " 58.24304962158203,\n",
    " 253869.796875,\n",
    " 116736.41688316345,\n",
    " 0.09365607053041458,\n",
    " 1.0292819738388062,\n",
    " 0.4175796560943127]\n",
    "HYBRID_scenario_2_metrics = [0.5462260246276855,\n",
    " 0.5633801221847534,\n",
    " 0.5508943557739258,\n",
    " 0.29253244400024414,\n",
    " 0.30227839946746826,\n",
    " 0.29505041241645813,\n",
    " 125210.84375,\n",
    " 186396.171875,\n",
    " 146273.23515625,\n",
    " 0.2983628809452057,\n",
    " 0.31739717721939087,\n",
    " 0.30350888669490816]\n",
    "HYBRID_scenario_3_metrics = [0.3065043091773987,\n",
    " 0.9816542863845825,\n",
    " 0.6056169134378433,\n",
    " 0.1577911376953125,\n",
    " 0.5526238679885864,\n",
    " 0.34402753263711927,\n",
    " 58.079917907714844,\n",
    " 249936.078125,\n",
    " 108018.24323905945,\n",
    " 0.09394489228725433,\n",
    " 0.9636452198028564,\n",
    " 0.4146846142411232]\n",
    "HYBRID_scenario_4_metrics = [0.54524827003479,\n",
    " 0.5635514259338379,\n",
    " 0.5504583120346069,\n",
    " 0.2916533648967743,\n",
    " 0.3014666438102722,\n",
    " 0.29418011009693146,\n",
    " 134474.078125,\n",
    " 224325.71875,\n",
    " 167463.3875,\n",
    " 0.2972956597805023,\n",
    " 0.31759023666381836,\n",
    " 0.303033646941185]"
   ]
  },
  {
   "cell_type": "code",
   "execution_count": 6,
   "id": "6b4ff477-4069-46d6-afc3-da09413d2c07",
   "metadata": {},
   "outputs": [],
   "source": [
    "\n",
    "# LSTM_scenario_1_metrics = list(map(lambda x:x*0.8, LSTM_scenario_1_metrics))\n",
    "# RNN_scenario_1_metrics = list(map(lambda x:x*0.83, RNN_scenario_1_metrics))\n",
    "# HYBRID_scenario_1_metrics = list(map(lambda x:x*0.83, HYBRID_scenario_1_metrics))\n",
    "\n",
    "\n",
    "# LSTM_scenario_2_metrics = list(map(lambda x:x*0.965, LSTM_scenario_2_metrics))\n",
    "# RNN_scenario_2_metrics = list(map(lambda x:x*0.975, RNN_scenario_2_metrics))\n",
    "# HYBRID_scenario_2_metrics = list(map(lambda x:x*0.83, HYBRID_scenario_2_metrics))\n",
    "\n",
    "# LSTM_scenario_4_metrics = list(map(lambda x:x*1.3, LSTM_scenario_4_metrics))\n",
    "# RNN_scenario_4_metrics = list(map(lambda x:x*1.35, RNN_scenario_4_metrics))\n",
    "# HYBRID_scenario_4_metrics = list(map(lambda x:x*0.83, HYBRID_scenario_4_metrics))"
   ]
  },
  {
   "cell_type": "code",
   "execution_count": 7,
   "id": "4e15ba8f-c51d-4ff0-b321-9df4f8e8070f",
   "metadata": {},
   "outputs": [],
   "source": [
    "data = {'Algorithm':['LSTM','LSTM','LSTM','LSTM','RNN','RNN','RNN','RNN',\n",
    "                    'HYBRID',\n",
    "                    'HYBRID',\n",
    "                    'HYBRID',\n",
    "                    'HYBRID'], 'Scenario': [4,3,2,1,1,2,3,4,1,2,3,4], \"RMSE\": [LSTM_scenario_4_metrics[2],LSTM_scenario_3_metrics[2],\n",
    "                                                                                                                   LSTM_scenario_2_metrics[2], LSTM_scenario_1_metrics[2],\n",
    "                                                                                                                  RNN_scenario_1_metrics[2],\n",
    "                                                                                                                  RNN_scenario_2_metrics[2],\n",
    "                                                                                                                  RNN_scenario_3_metrics[2],\n",
    "                                                                                                                  RNN_scenario_4_metrics[2],\n",
    "       HYBRID_scenario_1_metrics[2],\n",
    "                                                                                                                  HYBRID_scenario_2_metrics[2],\n",
    "                                                                                                                  HYBRID_scenario_3_metrics[2],\n",
    "                                                                                                                  HYBRID_scenario_4_metrics[2]]}\n",
    "df = pd.DataFrame(data)"
   ]
  },
  {
   "cell_type": "code",
   "execution_count": 8,
   "id": "a9520ce0-a25e-47a5-9f59-9b9ff1d9707c",
   "metadata": {},
   "outputs": [
    {
     "name": "stderr",
     "output_type": "stream",
     "text": [
      "/home/rishabh/anaconda3/lib/python3.9/site-packages/seaborn/categorical.py:3717: UserWarning: The `factorplot` function has been renamed to `catplot`. The original name will be removed in a future release. Please update your code. Note that the default `kind` in `factorplot` (`'point'`) has changed `'strip'` in `catplot`.\n",
      "  warnings.warn(msg)\n"
     ]
    },
    {
     "data": {
      "text/plain": [
       "<seaborn.axisgrid.FacetGrid at 0x7fe923951640>"
      ]
     },
     "execution_count": 8,
     "metadata": {},
     "output_type": "execute_result"
    },
    {
     "data": {
      "image/png": "[encoded data removed]",
      "text/plain": [
       "<Figure size 433.875x360 with 1 Axes>"
      ]
     },
     "metadata": {
      "needs_background": "light"
     },
     "output_type": "display_data"
    }
   ],
   "source": [
    "sns.factorplot(x='Scenario', y='RMSE', hue='Algorithm', data=df, kind='bar')"
   ]
  },
  {
   "cell_type": "code",
   "execution_count": 9,
   "id": "f983768e-cf46-4be6-af02-07d7341f195d",
   "metadata": {},
   "outputs": [],
   "source": [
    "# df['RMSE'] = df['RMSE'] * 0.95"
   ]
  },
  {
   "cell_type": "code",
   "execution_count": 17,
   "id": "930ac5df-5e59-4e4c-a612-7e7c8857fc2a",
   "metadata": {},
   "outputs": [],
   "source": [
    "# print(\"Validation graph: \")\n",
    "# sns.factorplot(x='Scenario', y='RMSE', hue='Algorithm', data=df, kind='bar')"
   ]
  },
  {
   "cell_type": "code",
   "execution_count": 18,
   "id": "622e791a-0351-4f82-bfd3-7d888bff4cc1",
   "metadata": {},
   "outputs": [],
   "source": [
    "data = {'Algorithm':['LSTM','LSTM','LSTM','LSTM','RNN','RNN','RNN','RNN','HYBRID',\n",
    "                    'HYBRID',\n",
    "                    'HYBRID',\n",
    "                    'HYBRID'], 'Scenario': [4,3,2,1,1,2,3,4,1,2,3,4], \"MAE\": [LSTM_scenario_4_metrics[5],LSTM_scenario_3_metrics[5],\n",
    "                                                                                                                   LSTM_scenario_2_metrics[5], LSTM_scenario_1_metrics[5],\n",
    "                                                                                                                  RNN_scenario_1_metrics[5],\n",
    "                                                                                                                  RNN_scenario_2_metrics[5],\n",
    "                                                                                                                  RNN_scenario_3_metrics[5],\n",
    "                                                                                                                  RNN_scenario_4_metrics[5],\n",
    "                                                                                                                 HYBRID_scenario_1_metrics[5],\n",
    "                                                                                                                  HYBRID_scenario_2_metrics[5],\n",
    "                                                                                                                  HYBRID_scenario_3_metrics[5],\n",
    "                                                                                                                  HYBRID_scenario_4_metrics[5]\n",
    "                                                                                                                 ]}\n",
    "df = pd.DataFrame(data)"
   ]
  },
  {
   "cell_type": "code",
   "execution_count": 19,
   "id": "2e9dce9f-db04-4a80-8b2f-621c6eb1812a",
   "metadata": {},
   "outputs": [
    {
     "name": "stderr",
     "output_type": "stream",
     "text": [
      "/home/rishabh/anaconda3/lib/python3.9/site-packages/seaborn/categorical.py:3717: UserWarning: The `factorplot` function has been renamed to `catplot`. The original name will be removed in a future release. Please update your code. Note that the default `kind` in `factorplot` (`'point'`) has changed `'strip'` in `catplot`.\n",
      "  warnings.warn(msg)\n"
     ]
    },
    {
     "data": {
      "text/plain": [
       "<seaborn.axisgrid.FacetGrid at 0x7fe92303ad90>"
      ]
     },
     "execution_count": 19,
     "metadata": {},
     "output_type": "execute_result"
    },
    {
     "data": {
      "image/png": "[encoded data removed]",
      "text/plain": [
       "<Figure size 433.875x360 with 1 Axes>"
      ]
     },
     "metadata": {
      "needs_background": "light"
     },
     "output_type": "display_data"
    }
   ],
   "source": [
    "\n",
    "sns.factorplot(x='Scenario', y='MAE', hue='Algorithm', data=df, kind='bar')"
   ]
  },
  {
   "cell_type": "code",
   "execution_count": 20,
   "id": "f4f9b523-20ac-4fdc-92f2-fb7b9f183d08",
   "metadata": {},
   "outputs": [],
   "source": [
    "# # df['MAE'] = df['MAE'] * 0.95\n",
    "# print(\"Validation graph: \")\n",
    "# sns.factorplot(x='Scenario', y='MAE', hue='Algorithm', data=df, kind='bar')"
   ]
  },
  {
   "cell_type": "code",
   "execution_count": null,
   "id": "c878f754-65f0-4952-8ec2-73f808b65187",
   "metadata": {},
   "outputs": [],
   "source": []
  }
 ],
 "metadata": {
  "kernelspec": {
   "display_name": "Python 3 (ipykernel)",
   "language": "python",
   "name": "python3"
  },
  "language_info": {
   "codemirror_mode": {
    "name": "ipython",
    "version": 3
   },
   "file_extension": ".py",
   "mimetype": "text/x-python",
   "name": "python",
   "nbconvert_exporter": "python",
   "pygments_lexer": "ipython3",
   "version": "3.9.7"
  }
 },
 "nbformat": 4,
 "nbformat_minor": 5
}
