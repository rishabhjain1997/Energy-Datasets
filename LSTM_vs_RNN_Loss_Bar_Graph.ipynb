{
 "cells": [
  {
   "cell_type": "code",
   "execution_count": 4,
   "id": "209ab9b5-e6d6-48d8-ac51-50815a6afd01",
   "metadata": {},
   "outputs": [
    {
     "name": "stderr",
     "output_type": "stream",
     "text": [
      "2022-04-13 01:29:37.546651: W tensorflow/stream_executor/platform/default/dso_loader.cc:64] Could not load dynamic library 'libcudart.so.11.0'; dlerror: libcudart.so.11.0: cannot open shared object file: No such file or directory\n",
      "2022-04-13 01:29:37.546715: I tensorflow/stream_executor/cuda/cudart_stub.cc:29] Ignore above cudart dlerror if you do not have a GPU set up on your machine.\n"
     ]
    }
   ],
   "source": [
    "import numpy as np\n",
    "from statistics import mean\n",
    "import matplotlib.pyplot as plt\n",
    "import pandas as pd\n",
    "import seaborn as sns\n",
    "import pandas as pd\n",
    "import seaborn as sns\n",
    "from tslearn.clustering import TimeSeriesKMeans\n",
    "import numpy as np\n",
    "from tensorflow.keras.models import Sequential\n",
    "from tensorflow.keras.layers import LSTM, SimpleRNN \n",
    "from tensorflow.keras import regularizers\n",
    "from tensorflow.keras.layers import Dense, Dropout\n",
    "import tensorflow as tf\n",
    "import pandas as pd\n",
    "from matplotlib import pyplot as plt\n",
    "from sklearn.preprocessing import StandardScaler, MinMaxScaler\n",
    "from tensorflow import keras\n",
    "import seaborn as sns"
   ]
  },
  {
   "cell_type": "code",
   "execution_count": 23,
   "id": "a6b970e8-1214-49ad-b3c3-94c65fedaeaa",
   "metadata": {},
   "outputs": [],
   "source": [
    "LSTM_scenario_4_metrics= [0.5359355807304382,\n",
    " 2.6291229724884033,\n",
    " 0.8404126505057017,\n",
    " 0.2908397614955902,\n",
    " 0.5211940407752991,\n",
    " 0.34360813200473783]\n",
    "LSTM_scenario_3_metrics = [0.3706747889518738,\n",
    " 1.25237238407135,\n",
    " 0.6279423837860425,\n",
    " 0.20341117680072784,\n",
    " 0.7520983219146729,\n",
    " 0.36028993998964626]\n",
    "LSTM_scenario_2_metrics = [0.5352774262428284,\n",
    " 2.874387264251709,\n",
    " 0.7279474596182506,\n",
    " 0.2907836139202118,\n",
    " 0.31786519289016724,\n",
    " 0.29581207036972046]\n",
    "LSTM_scenario_1_metrics = [0.3660842180252075,\n",
    " 1.2119908332824707,\n",
    " 0.6166011494894822,\n",
    " 0.20133846998214722,\n",
    " 0.7125244736671448,\n",
    " 0.35880887880921364]"
   ]
  },
  {
   "cell_type": "code",
   "execution_count": 24,
   "id": "24320bd9-8c43-4bb9-bf3f-c03e32dfc7c9",
   "metadata": {},
   "outputs": [],
   "source": [
    "col_names = ['Min RMSE', 'Max RMSE', 'Mean RMSE','Min MAE', 'Max MAE', 'Mean MAE']"
   ]
  },
  {
   "cell_type": "code",
   "execution_count": 25,
   "id": "14af0126-348b-4f38-9662-66230d991a7b",
   "metadata": {},
   "outputs": [],
   "source": [
    "RNN_scenario_1_metrics = [0.3780049979686737,\n",
    " 1.0692802667617798,\n",
    " 0.6180050527056058,\n",
    " 0.20730949938297272,\n",
    " 0.6009553670883179,\n",
    " 0.3593144163489342]\n",
    "RNN_scenario_2_metrics = [0.5506365299224854,\n",
    " 0.5734824538230896,\n",
    " 0.5557735502719879,\n",
    " 0.29968395829200745,\n",
    " 0.31059500575065613,\n",
    " 0.3017947137355804]\n",
    "RNN_scenario_3_metrics = [0.3775913715362549,\n",
    " 1.0039081573486328,\n",
    " 0.6143027263383071,\n",
    " 0.20734894275665283,\n",
    " 0.5601377487182617,\n",
    " 0.3582742609083652]\n",
    "RNN_scenario_4_metrics = [0.5508353114128113,\n",
    " 0.5719912648200989,\n",
    " 0.5544800420602163,\n",
    " 0.2989273965358734,\n",
    " 0.31098392605781555,\n",
    " 0.300832066933314]"
   ]
  },
  {
   "cell_type": "code",
   "execution_count": 26,
   "id": "4e15ba8f-c51d-4ff0-b321-9df4f8e8070f",
   "metadata": {},
   "outputs": [],
   "source": [
    "data = {'Algorithm':['LSTM','LSTM','LSTM','LSTM','RNN','RNN','RNN','RNN'], 'Scenario': [4,3,2,1,1,2,3,4], \"RMSE\": [LSTM_scenario_4_metrics[2],LSTM_scenario_3_metrics[2],\n",
    "                                                                                                                   LSTM_scenario_2_metrics[2], LSTM_scenario_1_metrics[2],\n",
    "                                                                                                                  RNN_scenario_1_metrics[2],\n",
    "                                                                                                                  RNN_scenario_2_metrics[2],\n",
    "                                                                                                                  RNN_scenario_3_metrics[2],\n",
    "                                                                                                                  RNN_scenario_4_metrics[2]]}\n",
    "df = pd.DataFrame(data)"
   ]
  },
  {
   "cell_type": "code",
   "execution_count": 27,
   "id": "a9520ce0-a25e-47a5-9f59-9b9ff1d9707c",
   "metadata": {},
   "outputs": [
    {
     "name": "stderr",
     "output_type": "stream",
     "text": [
      "/home/rishabh/anaconda3/lib/python3.9/site-packages/seaborn/categorical.py:3717: UserWarning: The `factorplot` function has been renamed to `catplot`. The original name will be removed in a future release. Please update your code. Note that the default `kind` in `factorplot` (`'point'`) has changed `'strip'` in `catplot`.\n",
      "  warnings.warn(msg)\n"
     ]
    },
    {
     "data": {
      "text/plain": [
       "<seaborn.axisgrid.FacetGrid at 0x7fa95eabebe0>"
      ]
     },
     "execution_count": 27,
     "metadata": {},
     "output_type": "execute_result"
    },
    {
     "data": {
      "image/png": "[encoded data removed]",
      "text/plain": [
       "<Figure size 422.375x360 with 1 Axes>"
      ]
     },
     "metadata": {
      "needs_background": "light"
     },
     "output_type": "display_data"
    }
   ],
   "source": [
    "sns.factorplot(x='Scenario', y='RMSE', hue='Algorithm', data=df, kind='bar')"
   ]
  },
  {
   "cell_type": "code",
   "execution_count": 28,
   "id": "622e791a-0351-4f82-bfd3-7d888bff4cc1",
   "metadata": {},
   "outputs": [],
   "source": [
    "data = {'Algorithm':['LSTM','LSTM','LSTM','LSTM','RNN','RNN','RNN','RNN'], 'Scenario': [4,3,2,1,1,2,3,4], \"MAE\": [LSTM_scenario_4_metrics[5],LSTM_scenario_3_metrics[5],\n",
    "                                                                                                                   LSTM_scenario_2_metrics[5], LSTM_scenario_1_metrics[5],\n",
    "                                                                                                                  RNN_scenario_1_metrics[5],\n",
    "                                                                                                                  RNN_scenario_2_metrics[5],\n",
    "                                                                                                                  RNN_scenario_3_metrics[5],\n",
    "                                                                                                                  RNN_scenario_4_metrics[5]]}\n",
    "df = pd.DataFrame(data)"
   ]
  },
  {
   "cell_type": "code",
   "execution_count": 29,
   "id": "2e9dce9f-db04-4a80-8b2f-621c6eb1812a",
   "metadata": {},
   "outputs": [
    {
     "name": "stderr",
     "output_type": "stream",
     "text": [
      "/home/rishabh/anaconda3/lib/python3.9/site-packages/seaborn/categorical.py:3717: UserWarning: The `factorplot` function has been renamed to `catplot`. The original name will be removed in a future release. Please update your code. Note that the default `kind` in `factorplot` (`'point'`) has changed `'strip'` in `catplot`.\n",
      "  warnings.warn(msg)\n"
     ]
    },
    {
     "data": {
      "text/plain": [
       "<seaborn.axisgrid.FacetGrid at 0x7fa95e9d5a60>"
      ]
     },
     "execution_count": 29,
     "metadata": {},
     "output_type": "execute_result"
    },
    {
     "data": {
      "image/png": "[encoded data removed]",
      "text/plain": [
       "<Figure size 422.375x360 with 1 Axes>"
      ]
     },
     "metadata": {
      "needs_background": "light"
     },
     "output_type": "display_data"
    }
   ],
   "source": [
    "sns.factorplot(x='Scenario', y='MAE', hue='Algorithm', data=df, kind='bar')"
   ]
  },
  {
   "cell_type": "code",
   "execution_count": null,
   "id": "56c2914e-d531-4093-b3bf-485529e6f969",
   "metadata": {},
   "outputs": [],
   "source": []
  }
 ],
 "metadata": {
  "kernelspec": {
   "display_name": "Python 3 (ipykernel)",
   "language": "python",
   "name": "python3"
  },
  "language_info": {
   "codemirror_mode": {
    "name": "ipython",
    "version": 3
   },
   "file_extension": ".py",
   "mimetype": "text/x-python",
   "name": "python",
   "nbconvert_exporter": "python",
   "pygments_lexer": "ipython3",
   "version": "3.9.7"
  }
 },
 "nbformat": 4,
 "nbformat_minor": 5
}
