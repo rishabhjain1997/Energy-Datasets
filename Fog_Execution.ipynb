{
 "cells": [
  {
   "cell_type": "code",
   "execution_count": 1,
   "id": "10c12424-de7f-44d4-a8de-cbbcb2aba8cc",
   "metadata": {},
   "outputs": [
    {
     "name": "stderr",
     "output_type": "stream",
     "text": [
      "2022-02-06 19:42:02.942250: W tensorflow/stream_executor/platform/default/dso_loader.cc:64] Could not load dynamic library 'libcudart.so.11.0'; dlerror: libcudart.so.11.0: cannot open shared object file: No such file or directory\n",
      "2022-02-06 19:42:02.942277: I tensorflow/stream_executor/cuda/cudart_stub.cc:29] Ignore above cudart dlerror if you do not have a GPU set up on your machine.\n"
     ]
    }
   ],
   "source": [
    "import numpy as np\n",
    "from statistics import mean\n",
    "import matplotlib.pyplot as plt\n",
    "import pandas as pd\n",
    "import seaborn as sns\n",
    "import pandas as pd\n",
    "import seaborn as sns\n",
    "from tslearn.clustering import TimeSeriesKMeans\n",
    "import numpy as np\n",
    "from tensorflow.keras.models import Sequential\n",
    "from tensorflow.keras.layers import LSTM\n",
    "from tensorflow.keras import regularizers\n",
    "from tensorflow.keras.layers import Dense, Dropout\n",
    "import tensorflow as tf\n",
    "import pandas as pd\n",
    "from matplotlib import pyplot as plt\n",
    "from sklearn.preprocessing import StandardScaler, MinMaxScaler\n",
    "from tensorflow import keras\n",
    "import seaborn as sns\n",
    "import pickle\n",
    "import functools\n",
    "import fastdtw\n",
    "import scipy.spatial.distance as sd\n",
    "from datetime import datetime\n",
    "import jsonpickle\n",
    "import json\n",
    "import pickle"
   ]
  },
  {
   "cell_type": "markdown",
   "id": "f0f6cf52-c990-492e-9a5a-caaca793a0f5",
   "metadata": {},
   "source": [
    "#### Import datasets"
   ]
  },
  {
   "cell_type": "code",
   "execution_count": 2,
   "id": "5d82898a-21cd-49f1-b8bd-130bb96bd3d6",
   "metadata": {},
   "outputs": [],
   "source": [
    "consumption_df = pd.read_csv('Final Datasets/energy_consumption.csv')\n",
    "clustered_df = pd.read_csv('Tables/clustered.csv')\n",
    "generation_df = pd.read_csv('Final Datasets/energy_generation.csv')"
   ]
  },
  {
   "cell_type": "code",
   "execution_count": 3,
   "id": "2e531a7d-9eeb-49ef-abc8-10d2537096f9",
   "metadata": {},
   "outputs": [],
   "source": [
    "scenarios_data = [[1, 4, 6, 'Yes'], [2, 1, 6, 'Yes'], [3, 4, 1, 'No'], [4, 1, 1, 'No']]\n",
    "scenarios_df = pd.DataFrame(scenarios_data, columns = ['Scenarios', 'No. of subsets', 'No. of features', 'Smart devices included in modeling?']).set_index('Scenarios')"
   ]
  },
  {
   "cell_type": "markdown",
   "id": "8d204a02-acfe-4625-91d6-b1476eb98b92",
   "metadata": {},
   "source": [
    "#### Converting Dataset to House-wise dictionary"
   ]
  },
  {
   "cell_type": "code",
   "execution_count": 4,
   "id": "c797b1d7-26c7-498c-adf9-f9ed1205cb2f",
   "metadata": {},
   "outputs": [
    {
     "data": {
      "text/html": [
       "<div>\n",
       "<style scoped>\n",
       "    .dataframe tbody tr th:only-of-type {\n",
       "        vertical-align: middle;\n",
       "    }\n",
       "\n",
       "    .dataframe tbody tr th {\n",
       "        vertical-align: top;\n",
       "    }\n",
       "\n",
       "    .dataframe thead th {\n",
       "        text-align: right;\n",
       "    }\n",
       "</style>\n",
       "<table border=\"1\" class=\"dataframe\">\n",
       "  <thead>\n",
       "    <tr style=\"text-align: right;\">\n",
       "      <th></th>\n",
       "      <th>Unnamed: 0</th>\n",
       "      <th>timestamp</th>\n",
       "      <th>energy_kWh</th>\n",
       "      <th>House Number</th>\n",
       "      <th>electronics workbench energy</th>\n",
       "      <th>network equipment energy</th>\n",
       "      <th>home office energy</th>\n",
       "      <th>RAE home office energy</th>\n",
       "      <th>RAE Mobile Phone Charger Energy</th>\n",
       "    </tr>\n",
       "  </thead>\n",
       "  <tbody>\n",
       "    <tr>\n",
       "      <th>0</th>\n",
       "      <td>0</td>\n",
       "      <td>2012-06-01 01:00:00</td>\n",
       "      <td>1.011</td>\n",
       "      <td>1</td>\n",
       "      <td>0.008686</td>\n",
       "      <td>0.019316</td>\n",
       "      <td>0.018232</td>\n",
       "      <td>0.134570</td>\n",
       "      <td>0.000431</td>\n",
       "    </tr>\n",
       "    <tr>\n",
       "      <th>1</th>\n",
       "      <td>1</td>\n",
       "      <td>2012-06-01 02:00:00</td>\n",
       "      <td>0.451</td>\n",
       "      <td>1</td>\n",
       "      <td>0.007178</td>\n",
       "      <td>0.019338</td>\n",
       "      <td>0.013745</td>\n",
       "      <td>0.061839</td>\n",
       "      <td>0.000215</td>\n",
       "    </tr>\n",
       "    <tr>\n",
       "      <th>2</th>\n",
       "      <td>2</td>\n",
       "      <td>2012-06-01 03:00:00</td>\n",
       "      <td>0.505</td>\n",
       "      <td>1</td>\n",
       "      <td>0.007324</td>\n",
       "      <td>0.019336</td>\n",
       "      <td>0.014177</td>\n",
       "      <td>0.068852</td>\n",
       "      <td>0.000236</td>\n",
       "    </tr>\n",
       "    <tr>\n",
       "      <th>3</th>\n",
       "      <td>3</td>\n",
       "      <td>2012-06-01 04:00:00</td>\n",
       "      <td>0.441</td>\n",
       "      <td>1</td>\n",
       "      <td>0.007151</td>\n",
       "      <td>0.019339</td>\n",
       "      <td>0.013664</td>\n",
       "      <td>0.060540</td>\n",
       "      <td>0.000211</td>\n",
       "    </tr>\n",
       "    <tr>\n",
       "      <th>4</th>\n",
       "      <td>4</td>\n",
       "      <td>2012-06-01 05:00:00</td>\n",
       "      <td>0.468</td>\n",
       "      <td>1</td>\n",
       "      <td>0.007224</td>\n",
       "      <td>0.019338</td>\n",
       "      <td>0.013881</td>\n",
       "      <td>0.064047</td>\n",
       "      <td>0.000221</td>\n",
       "    </tr>\n",
       "    <tr>\n",
       "      <th>...</th>\n",
       "      <td>...</td>\n",
       "      <td>...</td>\n",
       "      <td>...</td>\n",
       "      <td>...</td>\n",
       "      <td>...</td>\n",
       "      <td>...</td>\n",
       "      <td>...</td>\n",
       "      <td>...</td>\n",
       "      <td>...</td>\n",
       "    </tr>\n",
       "    <tr>\n",
       "      <th>29226</th>\n",
       "      <td>29226</td>\n",
       "      <td>2015-10-02 20:00:00</td>\n",
       "      <td>2.101</td>\n",
       "      <td>1</td>\n",
       "      <td>0.011621</td>\n",
       "      <td>0.019273</td>\n",
       "      <td>0.026968</td>\n",
       "      <td>0.276137</td>\n",
       "      <td>0.000851</td>\n",
       "    </tr>\n",
       "    <tr>\n",
       "      <th>29227</th>\n",
       "      <td>29227</td>\n",
       "      <td>2015-10-02 21:00:00</td>\n",
       "      <td>1.646</td>\n",
       "      <td>1</td>\n",
       "      <td>0.010396</td>\n",
       "      <td>0.019291</td>\n",
       "      <td>0.023322</td>\n",
       "      <td>0.217043</td>\n",
       "      <td>0.000675</td>\n",
       "    </tr>\n",
       "    <tr>\n",
       "      <th>29228</th>\n",
       "      <td>29228</td>\n",
       "      <td>2015-10-02 22:00:00</td>\n",
       "      <td>1.319</td>\n",
       "      <td>1</td>\n",
       "      <td>0.009516</td>\n",
       "      <td>0.019304</td>\n",
       "      <td>0.020701</td>\n",
       "      <td>0.174573</td>\n",
       "      <td>0.000549</td>\n",
       "    </tr>\n",
       "    <tr>\n",
       "      <th>29229</th>\n",
       "      <td>29229</td>\n",
       "      <td>2015-10-02 23:00:00</td>\n",
       "      <td>1.473</td>\n",
       "      <td>1</td>\n",
       "      <td>0.009930</td>\n",
       "      <td>0.019298</td>\n",
       "      <td>0.021935</td>\n",
       "      <td>0.194574</td>\n",
       "      <td>0.000609</td>\n",
       "    </tr>\n",
       "    <tr>\n",
       "      <th>29230</th>\n",
       "      <td>29230</td>\n",
       "      <td>2015-10-03 00:00:00</td>\n",
       "      <td>0.800</td>\n",
       "      <td>1</td>\n",
       "      <td>0.008118</td>\n",
       "      <td>0.019324</td>\n",
       "      <td>0.016541</td>\n",
       "      <td>0.107166</td>\n",
       "      <td>0.000349</td>\n",
       "    </tr>\n",
       "  </tbody>\n",
       "</table>\n",
       "<p>29231 rows × 9 columns</p>\n",
       "</div>"
      ],
      "text/plain": [
       "       Unnamed: 0            timestamp  energy_kWh  House Number  \\\n",
       "0               0  2012-06-01 01:00:00       1.011             1   \n",
       "1               1  2012-06-01 02:00:00       0.451             1   \n",
       "2               2  2012-06-01 03:00:00       0.505             1   \n",
       "3               3  2012-06-01 04:00:00       0.441             1   \n",
       "4               4  2012-06-01 05:00:00       0.468             1   \n",
       "...           ...                  ...         ...           ...   \n",
       "29226       29226  2015-10-02 20:00:00       2.101             1   \n",
       "29227       29227  2015-10-02 21:00:00       1.646             1   \n",
       "29228       29228  2015-10-02 22:00:00       1.319             1   \n",
       "29229       29229  2015-10-02 23:00:00       1.473             1   \n",
       "29230       29230  2015-10-03 00:00:00       0.800             1   \n",
       "\n",
       "       electronics workbench energy  network equipment energy  \\\n",
       "0                          0.008686                  0.019316   \n",
       "1                          0.007178                  0.019338   \n",
       "2                          0.007324                  0.019336   \n",
       "3                          0.007151                  0.019339   \n",
       "4                          0.007224                  0.019338   \n",
       "...                             ...                       ...   \n",
       "29226                      0.011621                  0.019273   \n",
       "29227                      0.010396                  0.019291   \n",
       "29228                      0.009516                  0.019304   \n",
       "29229                      0.009930                  0.019298   \n",
       "29230                      0.008118                  0.019324   \n",
       "\n",
       "       home office energy  RAE home office energy  \\\n",
       "0                0.018232                0.134570   \n",
       "1                0.013745                0.061839   \n",
       "2                0.014177                0.068852   \n",
       "3                0.013664                0.060540   \n",
       "4                0.013881                0.064047   \n",
       "...                   ...                     ...   \n",
       "29226            0.026968                0.276137   \n",
       "29227            0.023322                0.217043   \n",
       "29228            0.020701                0.174573   \n",
       "29229            0.021935                0.194574   \n",
       "29230            0.016541                0.107166   \n",
       "\n",
       "       RAE Mobile Phone Charger Energy  \n",
       "0                             0.000431  \n",
       "1                             0.000215  \n",
       "2                             0.000236  \n",
       "3                             0.000211  \n",
       "4                             0.000221  \n",
       "...                                ...  \n",
       "29226                         0.000851  \n",
       "29227                         0.000675  \n",
       "29228                         0.000549  \n",
       "29229                         0.000609  \n",
       "29230                         0.000349  \n",
       "\n",
       "[29231 rows x 9 columns]"
      ]
     },
     "execution_count": 4,
     "metadata": {},
     "output_type": "execute_result"
    }
   ],
   "source": [
    "house_wise_consumption = dict()\n",
    "for house_number in consumption_df['House Number'].unique():\n",
    "    house_data = consumption_df[consumption_df['House Number'] == house_number]\n",
    "    house_wise_consumption[house_number] = house_data.copy()\n",
    "house_wise_consumption[1]    "
   ]
  },
  {
   "cell_type": "markdown",
   "id": "6be88286-940d-4cb6-96a4-d9e623583cbc",
   "metadata": {},
   "source": [
    "#### Time-Series LSTM modeling"
   ]
  },
  {
   "cell_type": "code",
   "execution_count": 5,
   "id": "a5d99f71-2514-4cf9-9595-d3d0551064fc",
   "metadata": {},
   "outputs": [],
   "source": [
    "n_past = 14\n",
    "n_future = 1"
   ]
  },
  {
   "cell_type": "code",
   "execution_count": 6,
   "id": "795c66af-f3af-495c-ac10-0e96dbbc498c",
   "metadata": {},
   "outputs": [],
   "source": [
    "class House:\n",
    "    cols = ['energy_kWh', 'electronics workbench energy', 'network equipment energy',\n",
    "            'home office energy', 'RAE home office energy', 'RAE Mobile Phone Charger Energy']\n",
    "    def __init__(self, house):\n",
    "        self.house = house\n",
    "        self.consumption_df = house_wise_consumption[house].copy()[House.cols].astype(float)\n",
    "        self.train_dates_df = house_wise_consumption[house]['timestamp']\n",
    "        self.prepare_dataset(n_future, n_past)\n",
    "    \n",
    "    def __repr__(self):\n",
    "        return str(self.house)\n",
    "    \n",
    "    def prepare_dataset(self, n_future = 1, n_past = 14):\n",
    "        #Empty lists to be populated using formatted training data\n",
    "        trainX = []\n",
    "        trainY = []\n",
    "        consumption_np = np.array(self.consumption_df)\n",
    "        #Reformat input data into a shape: (n_samples x timesteps x n_features)\n",
    "        #In my example, my self.consumption_df has a shape (12823, 5)\n",
    "        #12823 refers to the number of data points and 5 refers to the columns (multi-variables).\n",
    "        for i in range(n_past, len(consumption_np) - n_future +1):\n",
    "            trainX.append(consumption_np[i - n_past:i, 0:self.consumption_df.shape[1]])\n",
    "            trainY.append(consumption_np[i + n_future - 1:i + n_future, 0])\n",
    "\n",
    "        trainX, trainY = np.array(trainX), np.array(trainY)\n",
    "\n",
    "        #print('trainX shape == {}.'.format(trainX.shape))\n",
    "        #print('trainY shape == {}.'.format(trainY.shape))\n",
    "        self.trainX = trainX\n",
    "        self.trainY = trainY"
   ]
  },
  {
   "cell_type": "code",
   "execution_count": 7,
   "id": "65c49aa2-ce2d-4eaf-80a3-74cdf9839721",
   "metadata": {},
   "outputs": [],
   "source": [
    "class Cluster: \n",
    "    def __init__(self, houses):\n",
    "        self.houses = [House(house) for house in houses]\n",
    "        self.trainX_list = (list(map(lambda x: x.trainX, self.houses)))\n",
    "        self.trainY_list = (list(map(lambda x: x.trainY, self.houses)))\n",
    "        self.train_dates_list = (list(map(lambda x: x.train_dates_df, self.houses)))\n",
    "        self.consumption_df_list = (list(map(lambda x: x.consumption_df, self.houses)))\n",
    "        self.prepare_dataset()\n",
    "        \n",
    "    def toJson(self):\n",
    "        return json.dumps(self, default=lambda o: o.__dict__)\n",
    "    \n",
    "    def prepare_dataset(self):\n",
    "        \n",
    "        self.train_dates = np.concatenate(self.train_dates_list, axis=0)\n",
    "        ## TODO - Replace concatenate with for loop or sort by time\n",
    "        self.X = np.concatenate(self.trainX_list, axis=0)\n",
    "        self.Y = np.concatenate(self.trainY_list, axis=0)\n",
    "    \n",
    "    def prepare_model(self):\n",
    "        model = Sequential()\n",
    "        model.add(LSTM(128, activation='relu', input_shape=(self.X.shape[1], self.X.shape[2]), return_sequences=True))\n",
    "        model.add(LSTM(32, activation='relu', return_sequences=True))\n",
    "        model.add(LSTM(16, activation='relu', return_sequences=False))\n",
    "        model.add(Dense(self.Y.shape[1]))\n",
    "        model.compile(optimizer='adam', loss='mse', metrics=[tf.keras.metrics.RootMeanSquaredError(), tf.keras.metrics.MeanAbsoluteError()])\n",
    "        model.summary()\n",
    "        return model\n",
    "    \n",
    "    def train_model(self):\n",
    "        model = self.prepare_model()\n",
    "        history = model.fit(self.X, self.Y, epochs=30, batch_size=16, validation_split=0.3, verbose=1)\n",
    "        self.history = history\n",
    "        plt.plot(history.history['loss'], label='Training loss')\n",
    "        plt.plot(history.history['val_loss'], label='Testing loss')\n",
    "        self.model = model\n",
    "        plt.legend()\n",
    "        return model\n",
    "    \n",
    "    def predicted(self):\n",
    "        model = self.model\n",
    "        predictions = list(map(lambda x: pd.Series(model.predict(x).reshape(1,-1)[0]), self.trainX_list))\n",
    "        #return pd.Series(model.predict(self.X).reshape(1,-1)[0])\n",
    "        \n",
    "        return dict(zip(self.houses, predictions))\n",
    "    \n",
    "    def results(self):\n",
    "        predicted = self.predicted()\n",
    "        house_prediction_list_df  = {}\n",
    "        for house in predicted:\n",
    "            house_prediction_df = house.consumption_df.iloc[n_past:].copy().reset_index(drop=True)\n",
    "            house_prediction_df['timestamp'] = house.train_dates_df.iloc[n_past:].copy().reset_index(drop=True)\n",
    "            house_prediction_df['energy_predicted'] = predicted[house]\n",
    "            ### Anomaly Detection\n",
    "            energy_stddev = house_prediction_df['energy_kWh'].std()\n",
    "            house_prediction_df['Energy Consumption Error'] = house_prediction_df['energy_predicted'] - house_prediction_df['energy_kWh']\n",
    "            house_prediction_df['Anomaly detected'] = house_prediction_df['Energy Consumption Error'].apply(lambda x: False if abs(x) < 1.5*energy_stddev else abs(x))\n",
    "            ### Energy Deficit Calculation\n",
    "            house_prediction_df['timestamp'] = pd.DatetimeIndex(house_prediction_df['timestamp'])\n",
    "            generation_df['timestamp'] = pd.DatetimeIndex(generation_df['timestamp'])\n",
    "            house_prediction_df = house_prediction_df.set_index('timestamp').join(generation_df.set_index('timestamp'))\n",
    "            house_prediction_df['timestamp'] = house_prediction_df.index\n",
    "            house_prediction_df.reset_index(drop=True, inplace=True)\n",
    "            house_prediction_df['Total Generated Energy'] = house_prediction_df['Wind Energy']+ house_prediction_df['Solar Energy']\n",
    "            house_prediction_df['Predicted Energy Deficit'] = house_prediction_df['Total Generated Energy'] - house_prediction_df['energy_predicted']\n",
    "            house_prediction_df['Energy Deficit Flag'] = house_prediction_df['Predicted Energy Deficit'].apply(lambda x: False if x>0 else abs(x))\n",
    "            house_prediction_list_df[house.house] = house_prediction_df\n",
    "        return house_prediction_list_df"
   ]
  },
  {
   "cell_type": "markdown",
   "id": "16b3211b-9fe0-4566-bb73-7d543fefb8db",
   "metadata": {},
   "source": [
    "#### Scenario 1"
   ]
  },
  {
   "cell_type": "code",
   "execution_count": 8,
   "id": "fc1e47bd-1a15-4500-931f-6e0dad4653dc",
   "metadata": {},
   "outputs": [
    {
     "name": "stderr",
     "output_type": "stream",
     "text": [
      "2022-02-06 19:42:06.076121: W tensorflow/stream_executor/platform/default/dso_loader.cc:64] Could not load dynamic library 'libcuda.so.1'; dlerror: libcuda.so.1: cannot open shared object file: No such file or directory\n",
      "2022-02-06 19:42:06.076144: W tensorflow/stream_executor/cuda/cuda_driver.cc:269] failed call to cuInit: UNKNOWN ERROR (303)\n",
      "2022-02-06 19:42:06.076159: I tensorflow/stream_executor/cuda/cuda_diagnostics.cc:156] kernel driver does not appear to be running on this host (rishabh-Inspiron): /proc/driver/nvidia/version does not exist\n",
      "2022-02-06 19:42:06.076329: I tensorflow/core/platform/cpu_feature_guard.cc:151] This TensorFlow binary is optimized with oneAPI Deep Neural Network Library (oneDNN) to use the following CPU instructions in performance-critical operations:  AVX2 FMA\n",
      "To enable them in other operations, rebuild TensorFlow with the appropriate compiler flags.\n"
     ]
    },
    {
     "name": "stdout",
     "output_type": "stream",
     "text": [
      "Model: \"sequential\"\n",
      "_________________________________________________________________\n",
      " Layer (type)                Output Shape              Param #   \n",
      "=================================================================\n",
      " lstm (LSTM)                 (None, 14, 128)           69120     \n",
      "                                                                 \n",
      " lstm_1 (LSTM)               (None, 14, 32)            20608     \n",
      "                                                                 \n",
      " lstm_2 (LSTM)               (None, 16)                3136      \n",
      "                                                                 \n",
      " dense (Dense)               (None, 1)                 17        \n",
      "                                                                 \n",
      "=================================================================\n",
      "Total params: 92,881\n",
      "Trainable params: 92,881\n",
      "Non-trainable params: 0\n",
      "_________________________________________________________________\n",
      "Epoch 1/30\n",
      "7680/7680 [==============================] - 133s 17ms/step - loss: 0.4812 - root_mean_squared_error: 0.6937 - mean_absolute_error: 0.4252 - val_loss: 0.6816 - val_root_mean_squared_error: 0.8256 - val_mean_absolute_error: 0.4709\n",
      "Epoch 2/30\n",
      "7680/7680 [==============================] - 151s 20ms/step - loss: 0.4469 - root_mean_squared_error: 0.6685 - mean_absolute_error: 0.4006 - val_loss: 0.6296 - val_root_mean_squared_error: 0.7935 - val_mean_absolute_error: 0.4594\n",
      "Epoch 3/30\n",
      "7680/7680 [==============================] - 134s 17ms/step - loss: 0.4398 - root_mean_squared_error: 0.6631 - mean_absolute_error: 0.3952 - val_loss: 0.6370 - val_root_mean_squared_error: 0.7981 - val_mean_absolute_error: 0.4539\n",
      "Epoch 4/30\n",
      "7680/7680 [==============================] - 121s 16ms/step - loss: 0.4359 - root_mean_squared_error: 0.6602 - mean_absolute_error: 0.3923 - val_loss: 0.6071 - val_root_mean_squared_error: 0.7792 - val_mean_absolute_error: 0.4531\n",
      "Epoch 5/30\n",
      "7680/7680 [==============================] - 119s 16ms/step - loss: 0.4325 - root_mean_squared_error: 0.6577 - mean_absolute_error: 0.3905 - val_loss: 0.6229 - val_root_mean_squared_error: 0.7893 - val_mean_absolute_error: 0.4431\n",
      "Epoch 6/30\n",
      "7680/7680 [==============================] - 136s 18ms/step - loss: 0.4295 - root_mean_squared_error: 0.6554 - mean_absolute_error: 0.3888 - val_loss: 0.6420 - val_root_mean_squared_error: 0.8013 - val_mean_absolute_error: 0.4442\n",
      "Epoch 7/30\n",
      "7680/7680 [==============================] - 126s 16ms/step - loss: 0.4269 - root_mean_squared_error: 0.6534 - mean_absolute_error: 0.3875 - val_loss: 0.6037 - val_root_mean_squared_error: 0.7770 - val_mean_absolute_error: 0.4439\n",
      "Epoch 8/30\n",
      "7680/7680 [==============================] - 124s 16ms/step - loss: 0.4251 - root_mean_squared_error: 0.6520 - mean_absolute_error: 0.3864 - val_loss: 0.6507 - val_root_mean_squared_error: 0.8067 - val_mean_absolute_error: 0.4531\n",
      "Epoch 9/30\n",
      "7680/7680 [==============================] - 135s 18ms/step - loss: 0.4228 - root_mean_squared_error: 0.6502 - mean_absolute_error: 0.3849 - val_loss: 0.6347 - val_root_mean_squared_error: 0.7967 - val_mean_absolute_error: 0.4540\n",
      "Epoch 10/30\n",
      "7680/7680 [==============================] - 122s 16ms/step - loss: 0.4216 - root_mean_squared_error: 0.6493 - mean_absolute_error: 0.3843 - val_loss: 0.6379 - val_root_mean_squared_error: 0.7987 - val_mean_absolute_error: 0.4565\n",
      "Epoch 11/30\n",
      "7680/7680 [==============================] - 137s 18ms/step - loss: 0.4209 - root_mean_squared_error: 0.6488 - mean_absolute_error: 0.3838 - val_loss: 0.6220 - val_root_mean_squared_error: 0.7887 - val_mean_absolute_error: 0.4473\n",
      "Epoch 12/30\n",
      "7680/7680 [==============================] - 146s 19ms/step - loss: 0.4183 - root_mean_squared_error: 0.6468 - mean_absolute_error: 0.3823 - val_loss: 0.6209 - val_root_mean_squared_error: 0.7880 - val_mean_absolute_error: 0.4496\n",
      "Epoch 13/30\n",
      "7680/7680 [==============================] - 135s 18ms/step - loss: 0.4171 - root_mean_squared_error: 0.6459 - mean_absolute_error: 0.3823 - val_loss: 0.6357 - val_root_mean_squared_error: 0.7973 - val_mean_absolute_error: 0.4548\n",
      "Epoch 14/30\n",
      "7680/7680 [==============================] - 135s 18ms/step - loss: 0.4165 - root_mean_squared_error: 0.6454 - mean_absolute_error: 0.3816 - val_loss: 0.6448 - val_root_mean_squared_error: 0.8030 - val_mean_absolute_error: 0.4495\n",
      "Epoch 15/30\n",
      "7680/7680 [==============================] - 132s 17ms/step - loss: 0.4143 - root_mean_squared_error: 0.6436 - mean_absolute_error: 0.3813 - val_loss: 0.6185 - val_root_mean_squared_error: 0.7864 - val_mean_absolute_error: 0.4493\n",
      "Epoch 16/30\n",
      "7680/7680 [==============================] - 125s 16ms/step - loss: 0.4132 - root_mean_squared_error: 0.6428 - mean_absolute_error: 0.3806 - val_loss: 0.6338 - val_root_mean_squared_error: 0.7961 - val_mean_absolute_error: 0.4450\n",
      "Epoch 17/30\n",
      "7680/7680 [==============================] - 133s 17ms/step - loss: 0.4129 - root_mean_squared_error: 0.6426 - mean_absolute_error: 0.3801 - val_loss: 0.6294 - val_root_mean_squared_error: 0.7934 - val_mean_absolute_error: 0.4495\n",
      "Epoch 18/30\n",
      "7680/7680 [==============================] - 126s 16ms/step - loss: 0.4108 - root_mean_squared_error: 0.6409 - mean_absolute_error: 0.3795 - val_loss: 0.6286 - val_root_mean_squared_error: 0.7928 - val_mean_absolute_error: 0.4547\n",
      "Epoch 19/30\n",
      "7680/7680 [==============================] - 135s 18ms/step - loss: 0.4090 - root_mean_squared_error: 0.6396 - mean_absolute_error: 0.3791 - val_loss: 0.6732 - val_root_mean_squared_error: 0.8205 - val_mean_absolute_error: 0.4554\n",
      "Epoch 20/30\n",
      "7680/7680 [==============================] - 139s 18ms/step - loss: 0.4084 - root_mean_squared_error: 0.6390 - mean_absolute_error: 0.3786 - val_loss: 0.6322 - val_root_mean_squared_error: 0.7951 - val_mean_absolute_error: 0.4460\n",
      "Epoch 21/30\n",
      "7680/7680 [==============================] - 138s 18ms/step - loss: 0.4065 - root_mean_squared_error: 0.6375 - mean_absolute_error: 0.3782 - val_loss: 0.6377 - val_root_mean_squared_error: 0.7985 - val_mean_absolute_error: 0.4617\n",
      "Epoch 22/30\n",
      "7680/7680 [==============================] - 145s 19ms/step - loss: 0.4044 - root_mean_squared_error: 0.6359 - mean_absolute_error: 0.3775 - val_loss: 0.6366 - val_root_mean_squared_error: 0.7979 - val_mean_absolute_error: 0.4615\n",
      "Epoch 23/30\n",
      "7680/7680 [==============================] - 144s 19ms/step - loss: 0.4027 - root_mean_squared_error: 0.6346 - mean_absolute_error: 0.3769 - val_loss: 0.6762 - val_root_mean_squared_error: 0.8223 - val_mean_absolute_error: 0.4588\n",
      "Epoch 24/30\n",
      "7680/7680 [==============================] - 129s 17ms/step - loss: 0.4031 - root_mean_squared_error: 0.6349 - mean_absolute_error: 0.3766 - val_loss: 0.6509 - val_root_mean_squared_error: 0.8068 - val_mean_absolute_error: 0.4648\n",
      "Epoch 25/30\n",
      "7680/7680 [==============================] - 140s 18ms/step - loss: 0.4019 - root_mean_squared_error: 0.6340 - mean_absolute_error: 0.3770 - val_loss: 0.6405 - val_root_mean_squared_error: 0.8003 - val_mean_absolute_error: 0.4487\n",
      "Epoch 26/30\n",
      "7680/7680 [==============================] - 129s 17ms/step - loss: 0.3982 - root_mean_squared_error: 0.6311 - mean_absolute_error: 0.3759 - val_loss: 0.6374 - val_root_mean_squared_error: 0.7984 - val_mean_absolute_error: 0.4497\n",
      "Epoch 27/30\n",
      "7680/7680 [==============================] - 137s 18ms/step - loss: 0.3983 - root_mean_squared_error: 0.6311 - mean_absolute_error: 0.3756 - val_loss: 0.6676 - val_root_mean_squared_error: 0.8171 - val_mean_absolute_error: 0.4576\n",
      "Epoch 28/30\n",
      "7680/7680 [==============================] - 152s 20ms/step - loss: 0.3967 - root_mean_squared_error: 0.6299 - mean_absolute_error: 0.3753 - val_loss: 0.6724 - val_root_mean_squared_error: 0.8200 - val_mean_absolute_error: 0.4681\n",
      "Epoch 29/30\n",
      "7680/7680 [==============================] - 133s 17ms/step - loss: 0.3956 - root_mean_squared_error: 0.6290 - mean_absolute_error: 0.3750 - val_loss: 0.6676 - val_root_mean_squared_error: 0.8171 - val_mean_absolute_error: 0.4611\n",
      "Epoch 30/30\n",
      "7680/7680 [==============================] - 150s 19ms/step - loss: 0.3952 - root_mean_squared_error: 0.6287 - mean_absolute_error: 0.3748 - val_loss: 0.6426 - val_root_mean_squared_error: 0.8016 - val_mean_absolute_error: 0.4569\n"
     ]
    },
    {
     "data": {
      "text/plain": [
       "<keras.engine.sequential.Sequential at 0x7fcd57b9c400>"
      ]
     },
     "execution_count": 8,
     "metadata": {},
     "output_type": "execute_result"
    },
    {
     "data": {
      "image/png": "[encoded data removed]",
      "text/plain": [
       "<Figure size 432x288 with 1 Axes>"
      ]
     },
     "metadata": {
      "needs_background": "light"
     },
     "output_type": "display_data"
    }
   ],
   "source": [
    "zero_houses = list(clustered_df[clustered_df['Cluster'] == 0]['House'])\n",
    "zero_cluster = Cluster(zero_houses)\n",
    "zero_cluster.consumption_df_list[2]\n",
    "zero_cluster.train_model()"
   ]
  },
  {
   "cell_type": "code",
   "execution_count": 9,
   "id": "d59fcd89-0564-447d-9b0a-abd478c00e3b",
   "metadata": {},
   "outputs": [
    {
     "name": "stderr",
     "output_type": "stream",
     "text": [
      "2022-02-06 20:49:29.410002: W tensorflow/python/util/util.cc:368] Sets are not currently considered sequences, but this may change in the future, so consider avoiding using them.\n"
     ]
    },
    {
     "name": "stdout",
     "output_type": "stream",
     "text": [
      "INFO:tensorflow:Assets written to: ram://525ac69f-7226-47f5-894c-f0a591213ee5/assets\n"
     ]
    },
    {
     "name": "stderr",
     "output_type": "stream",
     "text": [
      "WARNING:absl:<keras.layers.recurrent.LSTMCell object at 0x7fcd57c13460> has the same name 'LSTMCell' as a built-in Keras object. Consider renaming <class 'keras.layers.recurrent.LSTMCell'> to avoid naming conflicts when loading with `tf.keras.models.load_model`. If renaming is not possible, pass the object in the `custom_objects` parameter of the load function.\n",
      "WARNING:absl:<keras.layers.recurrent.LSTMCell object at 0x7fcd57ba4d00> has the same name 'LSTMCell' as a built-in Keras object. Consider renaming <class 'keras.layers.recurrent.LSTMCell'> to avoid naming conflicts when loading with `tf.keras.models.load_model`. If renaming is not possible, pass the object in the `custom_objects` parameter of the load function.\n",
      "WARNING:absl:<keras.layers.recurrent.LSTMCell object at 0x7fcd57a75340> has the same name 'LSTMCell' as a built-in Keras object. Consider renaming <class 'keras.layers.recurrent.LSTMCell'> to avoid naming conflicts when loading with `tf.keras.models.load_model`. If renaming is not possible, pass the object in the `custom_objects` parameter of the load function.\n"
     ]
    }
   ],
   "source": [
    "zeroCluster = jsonpickle.encode(zero_cluster)\n",
    "zeroClusterJSON = json.dumps(zeroCluster)"
   ]
  },
  {
   "cell_type": "code",
   "execution_count": 10,
   "id": "187be263-33b4-48d3-8d31-4f69f228859f",
   "metadata": {},
   "outputs": [],
   "source": [
    "# with open('Models/Objects/zero_cluster.json', 'w') as f:\n",
    "#     json.dump(zeroCluster, f)"
   ]
  },
  {
   "cell_type": "code",
   "execution_count": 11,
   "id": "4b3d018a-02b7-4c73-be44-68449b2c83cb",
   "metadata": {},
   "outputs": [],
   "source": [
    "zero = jsonpickle.decode(zeroClusterJSON)"
   ]
  },
  {
   "cell_type": "code",
   "execution_count": 12,
   "id": "7e570cdd-d0fd-43b8-b073-a0989920f78b",
   "metadata": {},
   "outputs": [
    {
     "name": "stdout",
     "output_type": "stream",
     "text": [
      "INFO:tensorflow:Assets written to: ram://3b672880-9c77-465e-849e-27d5af6431ac/assets\n"
     ]
    },
    {
     "name": "stderr",
     "output_type": "stream",
     "text": [
      "INFO:tensorflow:Assets written to: ram://3b672880-9c77-465e-849e-27d5af6431ac/assets\n",
      "WARNING:absl:<keras.layers.recurrent.LSTMCell object at 0x7fcd57c13460> has the same name 'LSTMCell' as a built-in Keras object. Consider renaming <class 'keras.layers.recurrent.LSTMCell'> to avoid naming conflicts when loading with `tf.keras.models.load_model`. If renaming is not possible, pass the object in the `custom_objects` parameter of the load function.\n",
      "WARNING:absl:<keras.layers.recurrent.LSTMCell object at 0x7fcd57ba4d00> has the same name 'LSTMCell' as a built-in Keras object. Consider renaming <class 'keras.layers.recurrent.LSTMCell'> to avoid naming conflicts when loading with `tf.keras.models.load_model`. If renaming is not possible, pass the object in the `custom_objects` parameter of the load function.\n",
      "WARNING:absl:<keras.layers.recurrent.LSTMCell object at 0x7fcd57a75340> has the same name 'LSTMCell' as a built-in Keras object. Consider renaming <class 'keras.layers.recurrent.LSTMCell'> to avoid naming conflicts when loading with `tf.keras.models.load_model`. If renaming is not possible, pass the object in the `custom_objects` parameter of the load function.\n"
     ]
    }
   ],
   "source": [
    "zeroPickled = pickle.dumps(zero_cluster)"
   ]
  },
  {
   "cell_type": "code",
   "execution_count": 13,
   "id": "15a3bc61-6ec5-4df0-b980-69ade41ec398",
   "metadata": {},
   "outputs": [],
   "source": [
    "zero = pickle.loads(zeroPickled)"
   ]
  },
  {
   "cell_type": "code",
   "execution_count": 14,
   "id": "6f6658e0-1d1a-465a-94f1-422085c33198",
   "metadata": {},
   "outputs": [
    {
     "data": {
      "text/plain": [
       "__main__.Cluster"
      ]
     },
     "execution_count": 14,
     "metadata": {},
     "output_type": "execute_result"
    }
   ],
   "source": [
    "type(zero)"
   ]
  },
  {
   "cell_type": "code",
   "execution_count": 15,
   "id": "2116b4e9-e236-4c5b-a948-6869ea2c7897",
   "metadata": {},
   "outputs": [
    {
     "name": "stdout",
     "output_type": "stream",
     "text": [
      "INFO:tensorflow:Assets written to: ram://fc48c197-3a51-40fc-ad94-fd4af2015d1d/assets\n"
     ]
    },
    {
     "name": "stderr",
     "output_type": "stream",
     "text": [
      "INFO:tensorflow:Assets written to: ram://fc48c197-3a51-40fc-ad94-fd4af2015d1d/assets\n",
      "WARNING:absl:<keras.layers.recurrent.LSTMCell object at 0x7fcd57c13460> has the same name 'LSTMCell' as a built-in Keras object. Consider renaming <class 'keras.layers.recurrent.LSTMCell'> to avoid naming conflicts when loading with `tf.keras.models.load_model`. If renaming is not possible, pass the object in the `custom_objects` parameter of the load function.\n",
      "WARNING:absl:<keras.layers.recurrent.LSTMCell object at 0x7fcd57ba4d00> has the same name 'LSTMCell' as a built-in Keras object. Consider renaming <class 'keras.layers.recurrent.LSTMCell'> to avoid naming conflicts when loading with `tf.keras.models.load_model`. If renaming is not possible, pass the object in the `custom_objects` parameter of the load function.\n",
      "WARNING:absl:<keras.layers.recurrent.LSTMCell object at 0x7fcd57a75340> has the same name 'LSTMCell' as a built-in Keras object. Consider renaming <class 'keras.layers.recurrent.LSTMCell'> to avoid naming conflicts when loading with `tf.keras.models.load_model`. If renaming is not possible, pass the object in the `custom_objects` parameter of the load function.\n"
     ]
    }
   ],
   "source": [
    "with open('Models/Objects/zero_cluster', 'wb') as f:\n",
    "    pickle.dump(zero_cluster, f)"
   ]
  },
  {
   "cell_type": "code",
   "execution_count": 16,
   "id": "c773041e-1929-47f6-bc0b-89b2380bb700",
   "metadata": {},
   "outputs": [
    {
     "data": {
      "text/plain": [
       "<__main__.Cluster at 0x7fcd57b9ce80>"
      ]
     },
     "execution_count": 16,
     "metadata": {},
     "output_type": "execute_result"
    }
   ],
   "source": [
    "zero_cluster"
   ]
  },
  {
   "cell_type": "code",
   "execution_count": null,
   "id": "7a655931-2050-4b53-9fcb-b3aa78f5e124",
   "metadata": {},
   "outputs": [],
   "source": []
  }
 ],
 "metadata": {
  "kernelspec": {
   "display_name": "Python 3 (ipykernel)",
   "language": "python",
   "name": "python3"
  },
  "language_info": {
   "codemirror_mode": {
    "name": "ipython",
    "version": 3
   },
   "file_extension": ".py",
   "mimetype": "text/x-python",
   "name": "python",
   "nbconvert_exporter": "python",
   "pygments_lexer": "ipython3",
   "version": "3.9.7"
  }
 },
 "nbformat": 4,
 "nbformat_minor": 5
}
