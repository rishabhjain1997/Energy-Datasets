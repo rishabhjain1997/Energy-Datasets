{
 "cells": [
  {
   "cell_type": "code",
   "execution_count": 1,
   "metadata": {},
   "outputs": [],
   "source": [
    "import matplotlib.pyplot as plt\n",
    "import numpy as np\n",
    "import pandas as pd\n",
    "import seaborn as sns\n",
    "from sklearn.linear_model import LinearRegression\n",
    "# Make NumPy printouts easier to read.\n",
    "np.set_printoptions(precision=3, suppress=True)"
   ]
  },
  {
   "cell_type": "code",
   "execution_count": 2,
   "metadata": {},
   "outputs": [],
   "source": [
    "#HUE_consolidated_df = pd.read_csv('./Intermediate Datasets/HUE.csv')\n",
    "RAE_house1_df = pd.read_csv('./Intermediate Datasets/RAE_house1.csv')\n",
    "RAE_house2_df = pd.read_csv('./Intermediate Datasets/RAE_house2.csv')\n",
    "AMPDS_df = pd.read_csv('./Intermediate Datasets/AMPDS.csv')\n",
    "HUE_12_df = pd.read_csv('HUE/Residential_12.csv')"
   ]
  },
  {
   "cell_type": "code",
   "execution_count": 3,
   "metadata": {},
   "outputs": [
    {
     "data": {
      "text/html": [
       "<div>\n",
       "<style scoped>\n",
       "    .dataframe tbody tr th:only-of-type {\n",
       "        vertical-align: middle;\n",
       "    }\n",
       "\n",
       "    .dataframe tbody tr th {\n",
       "        vertical-align: top;\n",
       "    }\n",
       "\n",
       "    .dataframe thead th {\n",
       "        text-align: right;\n",
       "    }\n",
       "</style>\n",
       "<table border=\"1\" class=\"dataframe\">\n",
       "  <thead>\n",
       "    <tr style=\"text-align: right;\">\n",
       "      <th></th>\n",
       "      <th>TS</th>\n",
       "      <th>Electronics Workbench Energy</th>\n",
       "      <th>Network Equipment Energy</th>\n",
       "      <th>Home Office Energy</th>\n",
       "      <th>Total Energy</th>\n",
       "    </tr>\n",
       "  </thead>\n",
       "  <tbody>\n",
       "    <tr>\n",
       "      <th>0</th>\n",
       "      <td>2012-04-01 08:00:00</td>\n",
       "      <td>0.000000</td>\n",
       "      <td>0.018556</td>\n",
       "      <td>0.008088</td>\n",
       "      <td>0.954902</td>\n",
       "    </tr>\n",
       "    <tr>\n",
       "      <th>1</th>\n",
       "      <td>2012-04-01 09:00:00</td>\n",
       "      <td>0.000000</td>\n",
       "      <td>0.019031</td>\n",
       "      <td>0.008088</td>\n",
       "      <td>1.195174</td>\n",
       "    </tr>\n",
       "    <tr>\n",
       "      <th>2</th>\n",
       "      <td>2012-04-01 10:00:00</td>\n",
       "      <td>0.000000</td>\n",
       "      <td>0.018556</td>\n",
       "      <td>0.009040</td>\n",
       "      <td>0.927307</td>\n",
       "    </tr>\n",
       "    <tr>\n",
       "      <th>3</th>\n",
       "      <td>2012-04-01 11:00:00</td>\n",
       "      <td>0.000000</td>\n",
       "      <td>0.019031</td>\n",
       "      <td>0.008564</td>\n",
       "      <td>1.546304</td>\n",
       "    </tr>\n",
       "    <tr>\n",
       "      <th>4</th>\n",
       "      <td>2012-04-01 12:00:00</td>\n",
       "      <td>0.000000</td>\n",
       "      <td>0.018556</td>\n",
       "      <td>0.009040</td>\n",
       "      <td>1.601020</td>\n",
       "    </tr>\n",
       "    <tr>\n",
       "      <th>...</th>\n",
       "      <td>...</td>\n",
       "      <td>...</td>\n",
       "      <td>...</td>\n",
       "      <td>...</td>\n",
       "      <td>...</td>\n",
       "    </tr>\n",
       "    <tr>\n",
       "      <th>8227</th>\n",
       "      <td>2013-04-01 02:00:00</td>\n",
       "      <td>0.012370</td>\n",
       "      <td>0.019031</td>\n",
       "      <td>0.015225</td>\n",
       "      <td>0.434393</td>\n",
       "    </tr>\n",
       "    <tr>\n",
       "      <th>8228</th>\n",
       "      <td>2013-04-01 03:00:00</td>\n",
       "      <td>0.012370</td>\n",
       "      <td>0.019031</td>\n",
       "      <td>0.015701</td>\n",
       "      <td>0.590450</td>\n",
       "    </tr>\n",
       "    <tr>\n",
       "      <th>8229</th>\n",
       "      <td>2013-04-01 04:00:00</td>\n",
       "      <td>0.012846</td>\n",
       "      <td>0.019507</td>\n",
       "      <td>0.016653</td>\n",
       "      <td>0.435820</td>\n",
       "    </tr>\n",
       "    <tr>\n",
       "      <th>8230</th>\n",
       "      <td>2013-04-01 05:00:00</td>\n",
       "      <td>0.012370</td>\n",
       "      <td>0.019031</td>\n",
       "      <td>0.015225</td>\n",
       "      <td>0.795514</td>\n",
       "    </tr>\n",
       "    <tr>\n",
       "      <th>8231</th>\n",
       "      <td>2013-04-01 06:00:00</td>\n",
       "      <td>0.012846</td>\n",
       "      <td>0.019031</td>\n",
       "      <td>0.015701</td>\n",
       "      <td>1.718063</td>\n",
       "    </tr>\n",
       "  </tbody>\n",
       "</table>\n",
       "<p>8232 rows × 5 columns</p>\n",
       "</div>"
      ],
      "text/plain": [
       "                       TS  Electronics Workbench Energy  \\\n",
       "0     2012-04-01 08:00:00                      0.000000   \n",
       "1     2012-04-01 09:00:00                      0.000000   \n",
       "2     2012-04-01 10:00:00                      0.000000   \n",
       "3     2012-04-01 11:00:00                      0.000000   \n",
       "4     2012-04-01 12:00:00                      0.000000   \n",
       "...                   ...                           ...   \n",
       "8227  2013-04-01 02:00:00                      0.012370   \n",
       "8228  2013-04-01 03:00:00                      0.012370   \n",
       "8229  2013-04-01 04:00:00                      0.012846   \n",
       "8230  2013-04-01 05:00:00                      0.012370   \n",
       "8231  2013-04-01 06:00:00                      0.012846   \n",
       "\n",
       "      Network Equipment Energy  Home Office Energy  Total Energy  \n",
       "0                     0.018556            0.008088      0.954902  \n",
       "1                     0.019031            0.008088      1.195174  \n",
       "2                     0.018556            0.009040      0.927307  \n",
       "3                     0.019031            0.008564      1.546304  \n",
       "4                     0.018556            0.009040      1.601020  \n",
       "...                        ...                 ...           ...  \n",
       "8227                  0.019031            0.015225      0.434393  \n",
       "8228                  0.019031            0.015701      0.590450  \n",
       "8229                  0.019507            0.016653      0.435820  \n",
       "8230                  0.019031            0.015225      0.795514  \n",
       "8231                  0.019031            0.015701      1.718063  \n",
       "\n",
       "[8232 rows x 5 columns]"
      ]
     },
     "execution_count": 3,
     "metadata": {},
     "output_type": "execute_result"
    }
   ],
   "source": [
    "AMPDS_df"
   ]
  },
  {
   "cell_type": "markdown",
   "metadata": {},
   "source": [
    "### Electronics Workbench"
   ]
  },
  {
   "cell_type": "code",
   "execution_count": 4,
   "metadata": {},
   "outputs": [
    {
     "data": {
      "text/html": [
       "<div>\n",
       "<style scoped>\n",
       "    .dataframe tbody tr th:only-of-type {\n",
       "        vertical-align: middle;\n",
       "    }\n",
       "\n",
       "    .dataframe tbody tr th {\n",
       "        vertical-align: top;\n",
       "    }\n",
       "\n",
       "    .dataframe thead th {\n",
       "        text-align: right;\n",
       "    }\n",
       "</style>\n",
       "<table border=\"1\" class=\"dataframe\">\n",
       "  <thead>\n",
       "    <tr style=\"text-align: right;\">\n",
       "      <th></th>\n",
       "      <th>Total Energy</th>\n",
       "      <th>Electronics Workbench Energy</th>\n",
       "    </tr>\n",
       "  </thead>\n",
       "  <tbody>\n",
       "    <tr>\n",
       "      <th>0</th>\n",
       "      <td>0.954902</td>\n",
       "      <td>0.000000</td>\n",
       "    </tr>\n",
       "    <tr>\n",
       "      <th>1</th>\n",
       "      <td>1.195174</td>\n",
       "      <td>0.000000</td>\n",
       "    </tr>\n",
       "    <tr>\n",
       "      <th>2</th>\n",
       "      <td>0.927307</td>\n",
       "      <td>0.000000</td>\n",
       "    </tr>\n",
       "    <tr>\n",
       "      <th>3</th>\n",
       "      <td>1.546304</td>\n",
       "      <td>0.000000</td>\n",
       "    </tr>\n",
       "    <tr>\n",
       "      <th>4</th>\n",
       "      <td>1.601020</td>\n",
       "      <td>0.000000</td>\n",
       "    </tr>\n",
       "    <tr>\n",
       "      <th>...</th>\n",
       "      <td>...</td>\n",
       "      <td>...</td>\n",
       "    </tr>\n",
       "    <tr>\n",
       "      <th>8227</th>\n",
       "      <td>0.434393</td>\n",
       "      <td>0.012370</td>\n",
       "    </tr>\n",
       "    <tr>\n",
       "      <th>8228</th>\n",
       "      <td>0.590450</td>\n",
       "      <td>0.012370</td>\n",
       "    </tr>\n",
       "    <tr>\n",
       "      <th>8229</th>\n",
       "      <td>0.435820</td>\n",
       "      <td>0.012846</td>\n",
       "    </tr>\n",
       "    <tr>\n",
       "      <th>8230</th>\n",
       "      <td>0.795514</td>\n",
       "      <td>0.012370</td>\n",
       "    </tr>\n",
       "    <tr>\n",
       "      <th>8231</th>\n",
       "      <td>1.718063</td>\n",
       "      <td>0.012846</td>\n",
       "    </tr>\n",
       "  </tbody>\n",
       "</table>\n",
       "<p>8232 rows × 2 columns</p>\n",
       "</div>"
      ],
      "text/plain": [
       "      Total Energy  Electronics Workbench Energy\n",
       "0         0.954902                      0.000000\n",
       "1         1.195174                      0.000000\n",
       "2         0.927307                      0.000000\n",
       "3         1.546304                      0.000000\n",
       "4         1.601020                      0.000000\n",
       "...            ...                           ...\n",
       "8227      0.434393                      0.012370\n",
       "8228      0.590450                      0.012370\n",
       "8229      0.435820                      0.012846\n",
       "8230      0.795514                      0.012370\n",
       "8231      1.718063                      0.012846\n",
       "\n",
       "[8232 rows x 2 columns]"
      ]
     },
     "execution_count": 4,
     "metadata": {},
     "output_type": "execute_result"
    }
   ],
   "source": [
    "workbench_df = AMPDS_df[['Total Energy', 'Electronics Workbench Energy']].copy()\n",
    "workbench_df"
   ]
  },
  {
   "cell_type": "code",
   "execution_count": 5,
   "metadata": {},
   "outputs": [
    {
     "data": {
      "text/plain": [
       "Total Energy                    0\n",
       "Electronics Workbench Energy    0\n",
       "dtype: int64"
      ]
     },
     "execution_count": 5,
     "metadata": {},
     "output_type": "execute_result"
    }
   ],
   "source": [
    "workbench_df.isna().sum()"
   ]
  },
  {
   "cell_type": "code",
   "execution_count": 6,
   "metadata": {},
   "outputs": [],
   "source": [
    "workbench_train_df = workbench_df.sample(frac=0.8, random_state=0)\n",
    "workbench_test_df = workbench_df.drop(workbench_train_df.index)"
   ]
  },
  {
   "cell_type": "code",
   "execution_count": null,
   "metadata": {},
   "outputs": [],
   "source": [
    "sns.pairplot(workbench_train_df, diag_kind='kde')"
   ]
  },
  {
   "cell_type": "code",
   "execution_count": null,
   "metadata": {},
   "outputs": [],
   "source": [
    "workbench_train_features = workbench_train_df.copy()\n",
    "workbench_test_features = workbench_test_df.copy()\n",
    "\n",
    "workbench_train_labels = workbench_train_features.pop('Electronics Workbench Energy')\n",
    "workbench_test_labels = workbench_test_features.pop('Electronics Workbench Energy')"
   ]
  },
  {
   "cell_type": "code",
   "execution_count": null,
   "metadata": {},
   "outputs": [],
   "source": [
    "workbench_train_df.describe().transpose()[['mean', 'std']]"
   ]
  },
  {
   "cell_type": "code",
   "execution_count": null,
   "metadata": {},
   "outputs": [],
   "source": [
    "def plot_horsepower(x,y):\n",
    "  plt.scatter(workbench_test_features, workbench_test_labels, label='Data')\n",
    "  plt.plot(x, y, color='k', label='Predictions')\n",
    "  plt.xlabel('Total Energy')\n",
    "  plt.ylabel('Electronics Workbench Energy')\n",
    "  plt.legend()"
   ]
  },
  {
   "cell_type": "code",
   "execution_count": null,
   "metadata": {},
   "outputs": [],
   "source": [
    "workbench_reg = LinearRegression().fit(workbench_train_features, workbench_train_labels)"
   ]
  },
  {
   "cell_type": "code",
   "execution_count": null,
   "metadata": {},
   "outputs": [],
   "source": [
    "workbench_reg.score(workbench_test_features, workbench_test_labels)"
   ]
  },
  {
   "cell_type": "code",
   "execution_count": null,
   "metadata": {},
   "outputs": [],
   "source": [
    "x = np.linspace(0.4, 1.8, 251)\n",
    "y = workbench_reg.predict(x.reshape(-1, 1))\n",
    "plot_horsepower(x,y)"
   ]
  },
  {
   "cell_type": "code",
   "execution_count": null,
   "metadata": {},
   "outputs": [],
   "source": [
    "HUE_12_df.dropna(inplace = True)\n",
    "HUE_12_df.isna().sum()"
   ]
  },
  {
   "cell_type": "code",
   "execution_count": null,
   "metadata": {},
   "outputs": [],
   "source": [
    "HUE_12_total_energy = np.array(HUE_12_df['energy_kWh'])\n",
    "HUE_12_df['electronics workbench energy'] = workbench_reg.predict(HUE_12_total_energy.reshape(-1,1))"
   ]
  },
  {
   "cell_type": "code",
   "execution_count": null,
   "metadata": {},
   "outputs": [],
   "source": [
    "HUE_12_df"
   ]
  },
  {
   "cell_type": "markdown",
   "metadata": {},
   "source": [
    "### Network Energy"
   ]
  },
  {
   "cell_type": "code",
   "execution_count": null,
   "metadata": {},
   "outputs": [],
   "source": [
    "AMPDS_df.columns"
   ]
  },
  {
   "cell_type": "code",
   "execution_count": null,
   "metadata": {},
   "outputs": [],
   "source": [
    "network_df = AMPDS_df[['Total Energy', 'Network Equipment Energy']].copy()\n",
    "network_df"
   ]
  },
  {
   "cell_type": "code",
   "execution_count": null,
   "metadata": {},
   "outputs": [],
   "source": [
    "network_df.isna().sum()"
   ]
  },
  {
   "cell_type": "code",
   "execution_count": null,
   "metadata": {},
   "outputs": [],
   "source": [
    "network_train_df = network_df.sample(frac=0.8, random_state=0)\n",
    "network_test_df = network_df.drop(network_train_df.index)"
   ]
  },
  {
   "cell_type": "code",
   "execution_count": null,
   "metadata": {},
   "outputs": [],
   "source": [
    "sns.pairplot(network_train_df, diag_kind='kde')"
   ]
  },
  {
   "cell_type": "code",
   "execution_count": null,
   "metadata": {},
   "outputs": [],
   "source": [
    "network_train_features = network_train_df.copy()\n",
    "network_test_features = network_test_df.copy()\n",
    "network_train_labels = network_train_features.pop('Network Equipment Energy')\n",
    "network_test_labels = network_test_features.pop('Network Equipment Energy')"
   ]
  },
  {
   "cell_type": "code",
   "execution_count": null,
   "metadata": {},
   "outputs": [],
   "source": [
    "network_train_df.describe().transpose()[['mean', 'std']]"
   ]
  },
  {
   "cell_type": "code",
   "execution_count": null,
   "metadata": {},
   "outputs": [],
   "source": [
    "def plot_network(x,y):\n",
    "  plt.scatter(network_test_features, network_test_labels, label='Data')\n",
    "  plt.plot(x, y, color='k', label='Predictions')\n",
    "  plt.xlabel('Total Energy')\n",
    "  plt.ylabel('Network Energy')\n",
    "  plt.legend()"
   ]
  },
  {
   "cell_type": "code",
   "execution_count": null,
   "metadata": {},
   "outputs": [],
   "source": [
    "network_reg = LinearRegression().fit(network_train_features, network_train_labels)\n",
    "network_reg.score(network_test_features, network_test_labels)"
   ]
  },
  {
   "cell_type": "code",
   "execution_count": null,
   "metadata": {},
   "outputs": [],
   "source": [
    "x = np.linspace(0.4, 1.8, 251)\n",
    "y = network_reg.predict(x.reshape(-1, 1))\n",
    "plot_network(x,y)"
   ]
  },
  {
   "cell_type": "code",
   "execution_count": null,
   "metadata": {},
   "outputs": [],
   "source": [
    "HUE_12_total_energy = np.array(HUE_12_df['energy_kWh'])\n",
    "HUE_12_df['network energy'] = network_reg.predict(HUE_12_total_energy.reshape(-1,1))"
   ]
  },
  {
   "cell_type": "code",
   "execution_count": null,
   "metadata": {},
   "outputs": [],
   "source": [
    "HUE_12_df"
   ]
  },
  {
   "cell_type": "code",
   "execution_count": null,
   "metadata": {},
   "outputs": [],
   "source": [
    "AMPDS_df.columns"
   ]
  },
  {
   "cell_type": "markdown",
   "metadata": {},
   "source": [
    "### Home Office Energy"
   ]
  },
  {
   "cell_type": "code",
   "execution_count": null,
   "metadata": {},
   "outputs": [],
   "source": [
    "homeoffice_df = AMPDS_df[['Total Energy', 'Home Office Energy']].copy()\n",
    "homeoffice_df"
   ]
  },
  {
   "cell_type": "code",
   "execution_count": null,
   "metadata": {},
   "outputs": [],
   "source": [
    "homeoffice_df.isna().sum()"
   ]
  },
  {
   "cell_type": "code",
   "execution_count": null,
   "metadata": {},
   "outputs": [],
   "source": [
    "homeoffice_train_df = homeoffice_df.sample(frac=0.8, random_state=0)\n",
    "homeoffice_test_df = homeoffice_df.drop(workbench_train_df.index)"
   ]
  },
  {
   "cell_type": "code",
   "execution_count": null,
   "metadata": {},
   "outputs": [],
   "source": [
    "sns.pairplot(homeoffice_train_df, diag_kind='kde')"
   ]
  },
  {
   "cell_type": "code",
   "execution_count": null,
   "metadata": {},
   "outputs": [],
   "source": [
    "homeoffice_train_df.columns"
   ]
  },
  {
   "cell_type": "code",
   "execution_count": null,
   "metadata": {},
   "outputs": [],
   "source": [
    "homeoffice_train_features = homeoffice_train_df.copy()\n",
    "homeoffice_test_features = homeoffice_test_df.copy()\n",
    "\n",
    "homeoffice_train_labels = homeoffice_train_features.pop('Home Office Energy')\n",
    "homeoffice_test_labels = homeoffice_test_features.pop('Home Office Energy')"
   ]
  },
  {
   "cell_type": "code",
   "execution_count": null,
   "metadata": {},
   "outputs": [],
   "source": [
    "homeoffice_train_df.describe().transpose()[['mean', 'std']]"
   ]
  },
  {
   "cell_type": "code",
   "execution_count": null,
   "metadata": {},
   "outputs": [],
   "source": [
    "def plot_homeoffice(x,y):\n",
    "  plt.scatter(homeoffice_test_features, homeoffice_test_labels, label='Data')\n",
    "  plt.plot(x, y, color='k', label='Predictions')\n",
    "  plt.xlabel('Total Energy')\n",
    "  plt.ylabel('AMPDS Home Office Energy')\n",
    "  plt.legend()"
   ]
  },
  {
   "cell_type": "code",
   "execution_count": null,
   "metadata": {},
   "outputs": [],
   "source": [
    "homeoffice_reg = LinearRegression().fit(homeoffice_train_features, homeoffice_train_labels)\n",
    "homeoffice_reg.score(homeoffice_train_features, homeoffice_train_labels)"
   ]
  },
  {
   "cell_type": "code",
   "execution_count": null,
   "metadata": {},
   "outputs": [],
   "source": [
    "x = np.linspace(0.4, 1.8, 251)\n",
    "y = homeoffice_reg.predict(x.reshape(-1, 1))\n",
    "plot_homeoffice(x,y)"
   ]
  },
  {
   "cell_type": "code",
   "execution_count": null,
   "metadata": {},
   "outputs": [],
   "source": [
    "HUE_12_total_energy = np.array(HUE_12_df['energy_kWh'])\n",
    "HUE_12_df['Homeoffice Energy'] = homeoffice_reg.predict(HUE_12_total_energy.reshape(-1,1))"
   ]
  },
  {
   "cell_type": "code",
   "execution_count": null,
   "metadata": {},
   "outputs": [],
   "source": [
    "HUE_12_df"
   ]
  },
  {
   "cell_type": "markdown",
   "metadata": {},
   "source": [
    "### RAE house 1"
   ]
  },
  {
   "cell_type": "code",
   "execution_count": null,
   "metadata": {},
   "outputs": [],
   "source": [
    "RAE_house1_df = RAE_house1_df[['Home Office Energy', 'Total Energy']]\n",
    "RAE_house1_df"
   ]
  },
  {
   "cell_type": "code",
   "execution_count": null,
   "metadata": {},
   "outputs": [],
   "source": [
    "RAE_house1_df.isna().sum()"
   ]
  },
  {
   "cell_type": "code",
   "execution_count": null,
   "metadata": {},
   "outputs": [],
   "source": [
    "house1_train_df = RAE_house1_df.sample(frac=0.8, random_state=0)\n",
    "house1_test_df = RAE_house1_df.drop(house1_train_df.index)"
   ]
  },
  {
   "cell_type": "code",
   "execution_count": null,
   "metadata": {},
   "outputs": [],
   "source": [
    "sns.pairplot(house1_train_df , diag_kind='kde')"
   ]
  },
  {
   "cell_type": "code",
   "execution_count": null,
   "metadata": {},
   "outputs": [],
   "source": [
    "house1_train_features = house1_train_df.copy()\n",
    "house1_test_features = house1_test_df.copy()\n",
    "\n",
    "house1_train_labels = house1_train_features.pop('Home Office Energy')\n",
    "house1_test_labels = house1_test_features.pop('Home Office Energy')"
   ]
  },
  {
   "cell_type": "code",
   "execution_count": null,
   "metadata": {},
   "outputs": [],
   "source": [
    "house1_train_df.describe().transpose()[['mean', 'std']]"
   ]
  },
  {
   "cell_type": "code",
   "execution_count": null,
   "metadata": {},
   "outputs": [],
   "source": [
    "def plot_house1(x,y):\n",
    "  plt.scatter(house1_test_features, house1_test_labels, label='Data')\n",
    "  plt.plot(x, y, color='k', label='Predictions')\n",
    "  plt.xlabel('Total Energy')\n",
    "  plt.ylabel('RAE Home Office Energy')\n",
    "  plt.legend()"
   ]
  },
  {
   "cell_type": "code",
   "execution_count": null,
   "metadata": {},
   "outputs": [],
   "source": [
    "house1_reg = LinearRegression().fit(house1_train_features, house1_train_labels)\n",
    "x = np.linspace(0, 1.2, 251)\n",
    "y = house1_reg.predict(x.reshape(-1, 1))\n",
    "plot_house1(x,y)"
   ]
  },
  {
   "cell_type": "code",
   "execution_count": null,
   "metadata": {},
   "outputs": [],
   "source": [
    "HUE_12_total_energy = np.array(HUE_12_df['energy_kWh'])\n",
    "HUE_12_df['Home Office Energy 2'] = house1_reg.predict(HUE_12_total_energy.reshape(-1,1))"
   ]
  },
  {
   "cell_type": "code",
   "execution_count": null,
   "metadata": {},
   "outputs": [],
   "source": [
    "HUE_12_df"
   ]
  },
  {
   "cell_type": "markdown",
   "metadata": {},
   "source": [
    "### RAE house 2"
   ]
  },
  {
   "cell_type": "code",
   "execution_count": null,
   "metadata": {},
   "outputs": [],
   "source": [
    "RAE_house2_df"
   ]
  },
  {
   "cell_type": "code",
   "execution_count": null,
   "metadata": {},
   "outputs": [],
   "source": [
    "house2_df = RAE_house2_df[['Total Energy', 'Mobile Phone Charger Energy']].copy()\n",
    "house2_df"
   ]
  },
  {
   "cell_type": "code",
   "execution_count": null,
   "metadata": {},
   "outputs": [],
   "source": [
    "house2_df.isna().sum()"
   ]
  },
  {
   "cell_type": "code",
   "execution_count": null,
   "metadata": {},
   "outputs": [],
   "source": [
    "house2_train_df = house2_df.sample(frac=0.8, random_state=0)\n",
    "house2_test_df = house2_df.drop(house2_train_df.index)"
   ]
  },
  {
   "cell_type": "code",
   "execution_count": null,
   "metadata": {},
   "outputs": [],
   "source": [
    "sns.pairplot(house2_train_df, diag_kind='kde')"
   ]
  },
  {
   "cell_type": "code",
   "execution_count": null,
   "metadata": {},
   "outputs": [],
   "source": [
    "house2_train_features = house2_train_df.copy()\n",
    "house2_test_features = house2_test_df.copy()\n",
    "\n",
    "house2_train_labels = house2_train_features.pop('Mobile Phone Charger Energy')\n",
    "house2_test_labels = house2_test_features.pop('Mobile Phone Charger Energy')"
   ]
  },
  {
   "cell_type": "code",
   "execution_count": null,
   "metadata": {},
   "outputs": [],
   "source": [
    "house2_train_df.describe().transpose()[['mean', 'std']]"
   ]
  },
  {
   "cell_type": "code",
   "execution_count": null,
   "metadata": {},
   "outputs": [],
   "source": [
    "def plot_house2(x,y):\n",
    "  plt.scatter(house2_test_features, house2_test_labels, label='Data')\n",
    "  plt.plot(x, y, color='k', label='Predictions')\n",
    "  plt.xlabel('Total Energy')\n",
    "  plt.ylabel('Mobile Phone Charger Energy')\n",
    "  plt.legend()"
   ]
  },
  {
   "cell_type": "code",
   "execution_count": null,
   "metadata": {},
   "outputs": [],
   "source": [
    "house2_reg = LinearRegression().fit(house2_train_features, house2_train_labels)"
   ]
  },
  {
   "cell_type": "code",
   "execution_count": null,
   "metadata": {},
   "outputs": [],
   "source": [
    "house2_reg.score(house2_test_features, house2_test_labels)"
   ]
  },
  {
   "cell_type": "code",
   "execution_count": null,
   "metadata": {},
   "outputs": [],
   "source": [
    "x = np.linspace(0.01, 1.2, 251)\n",
    "y = house2_reg.predict(x.reshape(-1, 1))\n",
    "plot_house2(x,y)"
   ]
  },
  {
   "cell_type": "code",
   "execution_count": null,
   "metadata": {},
   "outputs": [],
   "source": [
    "HUE_12_total_energy = np.array(HUE_12_df['energy_kWh'])\n",
    "HUE_12_df['Mobile Phone Charger Energy'] = house2_reg.predict(HUE_12_total_energy.reshape(-1,1))"
   ]
  },
  {
   "cell_type": "code",
   "execution_count": null,
   "metadata": {},
   "outputs": [],
   "source": [
    "HUE_12_df"
   ]
  },
  {
   "cell_type": "markdown",
   "metadata": {},
   "source": [
    "### Consolidated regression models"
   ]
  },
  {
   "cell_type": "code",
   "execution_count": null,
   "metadata": {},
   "outputs": [],
   "source": [
    "# Sample code\n",
    "# HUE_12_total_energy = np.array(HUE_12_df['energy_kWh'])\n",
    "# HUE_12_df['electronics workbench energy'] = workbench_reg.predict(HUE_12_total_energy.reshape(-1,1))"
   ]
  },
  {
   "cell_type": "code",
   "execution_count": null,
   "metadata": {},
   "outputs": [],
   "source": [
    "# Models \n",
    "# Electronics Workbench : workbench_reg\n",
    "# Network Equipment Energy: network_reg\n",
    "# Home Office Energy: homeoffice_reg\n",
    "# RAE Home Office Energy: house1_reg\n",
    "# RAE Mobile Phone Charger Energy: house2_reg"
   ]
  },
  {
   "cell_type": "code",
   "execution_count": null,
   "metadata": {},
   "outputs": [],
   "source": [
    "HUE_first_df = pd.read_csv('./Intermediate Datasets/HUE_first_df.csv')\n",
    "HUE_second_df = pd.read_csv('./Intermediate Datasets/HUE_second_df.csv')\n",
    "HUE_third_df = pd.read_csv('./Intermediate Datasets/HUE_third_df.csv')\n",
    "HUE_fourth_df = pd.read_csv('./Intermediate Datasets/HUE_fourth_df.csv')"
   ]
  },
  {
   "cell_type": "code",
   "execution_count": null,
   "metadata": {},
   "outputs": [],
   "source": [
    "HUE_datasets = [HUE_first_df,HUE_second_df,HUE_third_df,HUE_fourth_df]"
   ]
  },
  {
   "cell_type": "code",
   "execution_count": null,
   "metadata": {},
   "outputs": [],
   "source": [
    "HUE_df = pd.concat(HUE_datasets)\n",
    "HUE_df.dropna(inplace = True)"
   ]
  },
  {
   "cell_type": "code",
   "execution_count": null,
   "metadata": {},
   "outputs": [],
   "source": [
    "HUE_total_energy = np.array(HUE_df['energy_kWh'])\n",
    "HUE_df['electronics workbench energy'] = workbench_reg.predict(HUE_total_energy.reshape(-1,1))\n",
    "HUE_df['network equipment energy'] = network_reg.predict(HUE_total_energy.reshape(-1,1))\n",
    "HUE_df['home office energy'] = homeoffice_reg.predict(HUE_total_energy.reshape(-1,1))\n",
    "HUE_df['RAE home office energy'] = house1_reg.predict(HUE_total_energy.reshape(-1,1))\n",
    "HUE_df['RAE Mobile Phone Charger Energy'] = house2_reg.predict(HUE_total_energy.reshape(-1,1))"
   ]
  },
  {
   "cell_type": "code",
   "execution_count": null,
   "metadata": {},
   "outputs": [],
   "source": [
    "HUE_df['timestamp'] = pd.to_datetime(HUE_df['timestamp']) "
   ]
  },
  {
   "cell_type": "code",
   "execution_count": null,
   "metadata": {},
   "outputs": [],
   "source": [
    "# Ratio of smart devices in total energy\n",
    "HUE_df.loc[HUE_df['timestamp'] > pd.Timestamp('2020-03-11'), ['electronics workbench energy', 'network equipment energy',\n",
    "       'home office energy', 'RAE home office energy',\n",
    "       'RAE Mobile Phone Charger Energy']].iloc[0].sum()/float(HUE_df.loc[HUE_df['timestamp'] > pd.Timestamp('2020-03-11'), ['energy_kWh']].iloc[0])"
   ]
  },
  {
   "cell_type": "code",
   "execution_count": null,
   "metadata": {},
   "outputs": [],
   "source": [
    "# https://en.wikipedia.org/wiki/Timeline_of_the_COVID-19_pandemic_in_Canada#February\n",
    "# March 11 is when COVID really started in Canada\n",
    "\n",
    "HUE_df.loc[HUE_df['timestamp'] > pd.Timestamp('2020-03-11'),  ['electronics workbench energy', 'network equipment energy',\n",
    "       'home office energy', 'RAE home office energy',\n",
    "       'RAE Mobile Phone Charger Energy']] = HUE_df.loc[HUE_df['timestamp'] > pd.Timestamp('2020-03-11'),  ['electronics workbench energy', 'network equipment energy',\n",
    "       'home office energy', 'RAE home office energy',\n",
    "       'RAE Mobile Phone Charger Energy']].applymap(lambda x: x * 2)\n",
    "\n",
    "\n",
    "HUE_df.loc[HUE_df['timestamp'] > pd.Timestamp('2020-03-11'),  ['energy_kWh']] = HUE_df.loc[HUE_df['timestamp'] > pd.Timestamp('2020-03-11'),  ['energy_kWh']].applymap(lambda x: x * 1.17)\n",
    "\n",
    "HUE_df.loc[HUE_df['timestamp'] > pd.Timestamp('2020-03-11')]\n",
    "# df1.loc[df1['stream'] == 2, cols ] = df1 / 2\n",
    "# print df1"
   ]
  },
  {
   "cell_type": "code",
   "execution_count": null,
   "metadata": {},
   "outputs": [],
   "source": [
    "# Earlier values for reference\n",
    "# Smart device features have been multiplied by c=2 and total energy has been multiplied by c=1.17\n",
    "# 39961  2020-03-11 01:00:00\t1.29\t23\t0.009437\t0.019305\t0.020468\t0.170806\t0.000538\n",
    "# 123765 2020-05-19 23:00:00\t1.01\t28\t0.008683\t0.019316\t0.018224\t0.134440\t0.000430\n"
   ]
  },
  {
   "cell_type": "code",
   "execution_count": null,
   "metadata": {},
   "outputs": [],
   "source": [
    "HUE_df"
   ]
  },
  {
   "cell_type": "code",
   "execution_count": null,
   "metadata": {},
   "outputs": [],
   "source": [
    "HUE_df.to_csv('Final Datasets/energy_consumption.csv')"
   ]
  }
 ],
 "metadata": {
  "kernelspec": {
   "display_name": "Python 3 (ipykernel)",
   "language": "python",
   "name": "python3"
  },
  "language_info": {
   "codemirror_mode": {
    "name": "ipython",
    "version": 3
   },
   "file_extension": ".py",
   "mimetype": "text/x-python",
   "name": "python",
   "nbconvert_exporter": "python",
   "pygments_lexer": "ipython3",
   "version": "3.9.7"
  }
 },
 "nbformat": 4,
 "nbformat_minor": 4
}
