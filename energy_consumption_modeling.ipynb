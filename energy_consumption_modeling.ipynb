{
 "cells": [
  {
   "cell_type": "code",
   "execution_count": 1,
   "metadata": {},
   "outputs": [],
   "source": [
    "import matplotlib.pyplot as plt\n",
    "import numpy as np\n",
    "import pandas as pd\n",
    "import seaborn as sns\n",
    "from sklearn.linear_model import LinearRegression\n",
    "# Make NumPy printouts easier to read.\n",
    "np.set_printoptions(precision=3, suppress=True)"
   ]
  },
  {
   "cell_type": "code",
   "execution_count": 2,
   "metadata": {},
   "outputs": [],
   "source": [
    "#HUE_consolidated_df = pd.read_csv('./Intermediate Datasets/HUE.csv')\n",
    "RAE_house1_df = pd.read_csv('./Intermediate Datasets/RAE_house1.csv')\n",
    "RAE_house2_df = pd.read_csv('./Intermediate Datasets/RAE_house2.csv')\n",
    "AMPDS_df = pd.read_csv('./Intermediate Datasets/AMPDS.csv')\n",
    "HUE_12_df = pd.read_csv('HUE/Residential_12.csv')"
   ]
  },
  {
   "cell_type": "code",
   "execution_count": 3,
   "metadata": {},
   "outputs": [
    {
     "data": {
      "text/html": [
       "<div>\n",
       "<style scoped>\n",
       "    .dataframe tbody tr th:only-of-type {\n",
       "        vertical-align: middle;\n",
       "    }\n",
       "\n",
       "    .dataframe tbody tr th {\n",
       "        vertical-align: top;\n",
       "    }\n",
       "\n",
       "    .dataframe thead th {\n",
       "        text-align: right;\n",
       "    }\n",
       "</style>\n",
       "<table border=\"1\" class=\"dataframe\">\n",
       "  <thead>\n",
       "    <tr style=\"text-align: right;\">\n",
       "      <th></th>\n",
       "      <th>TS</th>\n",
       "      <th>Electronics Workbench Energy</th>\n",
       "      <th>Network Equipment Energy</th>\n",
       "      <th>Home Office Energy</th>\n",
       "      <th>Total Energy</th>\n",
       "    </tr>\n",
       "  </thead>\n",
       "  <tbody>\n",
       "    <tr>\n",
       "      <th>0</th>\n",
       "      <td>2012-04-01 08:00:00</td>\n",
       "      <td>0.000000</td>\n",
       "      <td>0.018556</td>\n",
       "      <td>0.008088</td>\n",
       "      <td>0.954902</td>\n",
       "    </tr>\n",
       "    <tr>\n",
       "      <th>1</th>\n",
       "      <td>2012-04-01 09:00:00</td>\n",
       "      <td>0.000000</td>\n",
       "      <td>0.019031</td>\n",
       "      <td>0.008088</td>\n",
       "      <td>1.195174</td>\n",
       "    </tr>\n",
       "    <tr>\n",
       "      <th>2</th>\n",
       "      <td>2012-04-01 10:00:00</td>\n",
       "      <td>0.000000</td>\n",
       "      <td>0.018556</td>\n",
       "      <td>0.009040</td>\n",
       "      <td>0.927307</td>\n",
       "    </tr>\n",
       "    <tr>\n",
       "      <th>3</th>\n",
       "      <td>2012-04-01 11:00:00</td>\n",
       "      <td>0.000000</td>\n",
       "      <td>0.019031</td>\n",
       "      <td>0.008564</td>\n",
       "      <td>1.546304</td>\n",
       "    </tr>\n",
       "    <tr>\n",
       "      <th>4</th>\n",
       "      <td>2012-04-01 12:00:00</td>\n",
       "      <td>0.000000</td>\n",
       "      <td>0.018556</td>\n",
       "      <td>0.009040</td>\n",
       "      <td>1.601020</td>\n",
       "    </tr>\n",
       "    <tr>\n",
       "      <th>...</th>\n",
       "      <td>...</td>\n",
       "      <td>...</td>\n",
       "      <td>...</td>\n",
       "      <td>...</td>\n",
       "      <td>...</td>\n",
       "    </tr>\n",
       "    <tr>\n",
       "      <th>8227</th>\n",
       "      <td>2013-04-01 02:00:00</td>\n",
       "      <td>0.012370</td>\n",
       "      <td>0.019031</td>\n",
       "      <td>0.015225</td>\n",
       "      <td>0.434393</td>\n",
       "    </tr>\n",
       "    <tr>\n",
       "      <th>8228</th>\n",
       "      <td>2013-04-01 03:00:00</td>\n",
       "      <td>0.012370</td>\n",
       "      <td>0.019031</td>\n",
       "      <td>0.015701</td>\n",
       "      <td>0.590450</td>\n",
       "    </tr>\n",
       "    <tr>\n",
       "      <th>8229</th>\n",
       "      <td>2013-04-01 04:00:00</td>\n",
       "      <td>0.012846</td>\n",
       "      <td>0.019507</td>\n",
       "      <td>0.016653</td>\n",
       "      <td>0.435820</td>\n",
       "    </tr>\n",
       "    <tr>\n",
       "      <th>8230</th>\n",
       "      <td>2013-04-01 05:00:00</td>\n",
       "      <td>0.012370</td>\n",
       "      <td>0.019031</td>\n",
       "      <td>0.015225</td>\n",
       "      <td>0.795514</td>\n",
       "    </tr>\n",
       "    <tr>\n",
       "      <th>8231</th>\n",
       "      <td>2013-04-01 06:00:00</td>\n",
       "      <td>0.012846</td>\n",
       "      <td>0.019031</td>\n",
       "      <td>0.015701</td>\n",
       "      <td>1.718063</td>\n",
       "    </tr>\n",
       "  </tbody>\n",
       "</table>\n",
       "<p>8232 rows × 5 columns</p>\n",
       "</div>"
      ],
      "text/plain": [
       "                       TS  Electronics Workbench Energy  \\\n",
       "0     2012-04-01 08:00:00                      0.000000   \n",
       "1     2012-04-01 09:00:00                      0.000000   \n",
       "2     2012-04-01 10:00:00                      0.000000   \n",
       "3     2012-04-01 11:00:00                      0.000000   \n",
       "4     2012-04-01 12:00:00                      0.000000   \n",
       "...                   ...                           ...   \n",
       "8227  2013-04-01 02:00:00                      0.012370   \n",
       "8228  2013-04-01 03:00:00                      0.012370   \n",
       "8229  2013-04-01 04:00:00                      0.012846   \n",
       "8230  2013-04-01 05:00:00                      0.012370   \n",
       "8231  2013-04-01 06:00:00                      0.012846   \n",
       "\n",
       "      Network Equipment Energy  Home Office Energy  Total Energy  \n",
       "0                     0.018556            0.008088      0.954902  \n",
       "1                     0.019031            0.008088      1.195174  \n",
       "2                     0.018556            0.009040      0.927307  \n",
       "3                     0.019031            0.008564      1.546304  \n",
       "4                     0.018556            0.009040      1.601020  \n",
       "...                        ...                 ...           ...  \n",
       "8227                  0.019031            0.015225      0.434393  \n",
       "8228                  0.019031            0.015701      0.590450  \n",
       "8229                  0.019507            0.016653      0.435820  \n",
       "8230                  0.019031            0.015225      0.795514  \n",
       "8231                  0.019031            0.015701      1.718063  \n",
       "\n",
       "[8232 rows x 5 columns]"
      ]
     },
     "execution_count": 3,
     "metadata": {},
     "output_type": "execute_result"
    }
   ],
   "source": [
    "AMPDS_df"
   ]
  },
  {
   "cell_type": "markdown",
   "metadata": {},
   "source": [
    "### Electronics Workbench"
   ]
  },
  {
   "cell_type": "code",
   "execution_count": 4,
   "metadata": {},
   "outputs": [
    {
     "data": {
      "text/html": [
       "<div>\n",
       "<style scoped>\n",
       "    .dataframe tbody tr th:only-of-type {\n",
       "        vertical-align: middle;\n",
       "    }\n",
       "\n",
       "    .dataframe tbody tr th {\n",
       "        vertical-align: top;\n",
       "    }\n",
       "\n",
       "    .dataframe thead th {\n",
       "        text-align: right;\n",
       "    }\n",
       "</style>\n",
       "<table border=\"1\" class=\"dataframe\">\n",
       "  <thead>\n",
       "    <tr style=\"text-align: right;\">\n",
       "      <th></th>\n",
       "      <th>Total Energy</th>\n",
       "      <th>Electronics Workbench Energy</th>\n",
       "    </tr>\n",
       "  </thead>\n",
       "  <tbody>\n",
       "    <tr>\n",
       "      <th>0</th>\n",
       "      <td>0.954902</td>\n",
       "      <td>0.000000</td>\n",
       "    </tr>\n",
       "    <tr>\n",
       "      <th>1</th>\n",
       "      <td>1.195174</td>\n",
       "      <td>0.000000</td>\n",
       "    </tr>\n",
       "    <tr>\n",
       "      <th>2</th>\n",
       "      <td>0.927307</td>\n",
       "      <td>0.000000</td>\n",
       "    </tr>\n",
       "    <tr>\n",
       "      <th>3</th>\n",
       "      <td>1.546304</td>\n",
       "      <td>0.000000</td>\n",
       "    </tr>\n",
       "    <tr>\n",
       "      <th>4</th>\n",
       "      <td>1.601020</td>\n",
       "      <td>0.000000</td>\n",
       "    </tr>\n",
       "    <tr>\n",
       "      <th>...</th>\n",
       "      <td>...</td>\n",
       "      <td>...</td>\n",
       "    </tr>\n",
       "    <tr>\n",
       "      <th>8227</th>\n",
       "      <td>0.434393</td>\n",
       "      <td>0.012370</td>\n",
       "    </tr>\n",
       "    <tr>\n",
       "      <th>8228</th>\n",
       "      <td>0.590450</td>\n",
       "      <td>0.012370</td>\n",
       "    </tr>\n",
       "    <tr>\n",
       "      <th>8229</th>\n",
       "      <td>0.435820</td>\n",
       "      <td>0.012846</td>\n",
       "    </tr>\n",
       "    <tr>\n",
       "      <th>8230</th>\n",
       "      <td>0.795514</td>\n",
       "      <td>0.012370</td>\n",
       "    </tr>\n",
       "    <tr>\n",
       "      <th>8231</th>\n",
       "      <td>1.718063</td>\n",
       "      <td>0.012846</td>\n",
       "    </tr>\n",
       "  </tbody>\n",
       "</table>\n",
       "<p>8232 rows × 2 columns</p>\n",
       "</div>"
      ],
      "text/plain": [
       "      Total Energy  Electronics Workbench Energy\n",
       "0         0.954902                      0.000000\n",
       "1         1.195174                      0.000000\n",
       "2         0.927307                      0.000000\n",
       "3         1.546304                      0.000000\n",
       "4         1.601020                      0.000000\n",
       "...            ...                           ...\n",
       "8227      0.434393                      0.012370\n",
       "8228      0.590450                      0.012370\n",
       "8229      0.435820                      0.012846\n",
       "8230      0.795514                      0.012370\n",
       "8231      1.718063                      0.012846\n",
       "\n",
       "[8232 rows x 2 columns]"
      ]
     },
     "execution_count": 4,
     "metadata": {},
     "output_type": "execute_result"
    }
   ],
   "source": [
    "workbench_df = AMPDS_df[['Total Energy', 'Electronics Workbench Energy']].copy()\n",
    "workbench_df"
   ]
  },
  {
   "cell_type": "code",
   "execution_count": 5,
   "metadata": {},
   "outputs": [
    {
     "data": {
      "text/plain": [
       "Total Energy                    0\n",
       "Electronics Workbench Energy    0\n",
       "dtype: int64"
      ]
     },
     "execution_count": 5,
     "metadata": {},
     "output_type": "execute_result"
    }
   ],
   "source": [
    "workbench_df.isna().sum()"
   ]
  },
  {
   "cell_type": "code",
   "execution_count": 6,
   "metadata": {},
   "outputs": [],
   "source": [
    "workbench_train_df = workbench_df.sample(frac=0.8, random_state=0)\n",
    "workbench_test_df = workbench_df.drop(workbench_train_df.index)"
   ]
  },
  {
   "cell_type": "code",
   "execution_count": 7,
   "metadata": {},
   "outputs": [
    {
     "data": {
      "text/plain": [
       "<seaborn.axisgrid.PairGrid at 0x7f8f61965250>"
      ]
     },
     "execution_count": 7,
     "metadata": {},
     "output_type": "execute_result"
    },
    {
     "data": {
      "image/png": "[encoded data removed]",
      "text/plain": [
       "<Figure size 360x360 with 6 Axes>"
      ]
     },
     "metadata": {
      "needs_background": "light"
     },
     "output_type": "display_data"
    }
   ],
   "source": [
    "sns.pairplot(workbench_train_df, diag_kind='kde')"
   ]
  },
  {
   "cell_type": "code",
   "execution_count": 8,
   "metadata": {},
   "outputs": [],
   "source": [
    "workbench_train_features = workbench_train_df.copy()\n",
    "workbench_test_features = workbench_test_df.copy()\n",
    "\n",
    "workbench_train_labels = workbench_train_features.pop('Electronics Workbench Energy')\n",
    "workbench_test_labels = workbench_test_features.pop('Electronics Workbench Energy')"
   ]
  },
  {
   "cell_type": "code",
   "execution_count": 9,
   "metadata": {},
   "outputs": [
    {
     "data": {
      "text/html": [
       "<div>\n",
       "<style scoped>\n",
       "    .dataframe tbody tr th:only-of-type {\n",
       "        vertical-align: middle;\n",
       "    }\n",
       "\n",
       "    .dataframe tbody tr th {\n",
       "        vertical-align: top;\n",
       "    }\n",
       "\n",
       "    .dataframe thead th {\n",
       "        text-align: right;\n",
       "    }\n",
       "</style>\n",
       "<table border=\"1\" class=\"dataframe\">\n",
       "  <thead>\n",
       "    <tr style=\"text-align: right;\">\n",
       "      <th></th>\n",
       "      <th>mean</th>\n",
       "      <th>std</th>\n",
       "    </tr>\n",
       "  </thead>\n",
       "  <tbody>\n",
       "    <tr>\n",
       "      <th>Total Energy</th>\n",
       "      <td>0.671554</td>\n",
       "      <td>0.340547</td>\n",
       "    </tr>\n",
       "    <tr>\n",
       "      <th>Electronics Workbench Energy</th>\n",
       "      <td>0.007772</td>\n",
       "      <td>0.005952</td>\n",
       "    </tr>\n",
       "  </tbody>\n",
       "</table>\n",
       "</div>"
      ],
      "text/plain": [
       "                                  mean       std\n",
       "Total Energy                  0.671554  0.340547\n",
       "Electronics Workbench Energy  0.007772  0.005952"
      ]
     },
     "execution_count": 9,
     "metadata": {},
     "output_type": "execute_result"
    }
   ],
   "source": [
    "workbench_train_df.describe().transpose()[['mean', 'std']]"
   ]
  },
  {
   "cell_type": "code",
   "execution_count": 10,
   "metadata": {},
   "outputs": [],
   "source": [
    "def plot_horsepower(x,y):\n",
    "  plt.scatter(workbench_test_features, workbench_test_labels, label='Data')\n",
    "  plt.plot(x, y, color='k', label='Predictions')\n",
    "  plt.xlabel('Total Energy')\n",
    "  plt.ylabel('Electronics Workbench Energy')\n",
    "  plt.legend()"
   ]
  },
  {
   "cell_type": "code",
   "execution_count": 11,
   "metadata": {},
   "outputs": [],
   "source": [
    "workbench_reg = LinearRegression().fit(workbench_train_features, workbench_train_labels)"
   ]
  },
  {
   "cell_type": "code",
   "execution_count": 12,
   "metadata": {},
   "outputs": [
    {
     "data": {
      "text/plain": [
       "0.03221507684814762"
      ]
     },
     "execution_count": 12,
     "metadata": {},
     "output_type": "execute_result"
    }
   ],
   "source": [
    "workbench_reg.score(workbench_test_features, workbench_test_labels)"
   ]
  },
  {
   "cell_type": "code",
   "execution_count": 13,
   "metadata": {},
   "outputs": [
    {
     "data": {
      "image/png": "[encoded data removed]",
      "text/plain": [
       "<Figure size 432x288 with 1 Axes>"
      ]
     },
     "metadata": {
      "needs_background": "light"
     },
     "output_type": "display_data"
    }
   ],
   "source": [
    "x = np.linspace(0.4, 1.8, 251)\n",
    "y = workbench_reg.predict(x.reshape(-1, 1))\n",
    "plot_horsepower(x,y)"
   ]
  },
  {
   "cell_type": "code",
   "execution_count": 14,
   "metadata": {},
   "outputs": [
    {
     "data": {
      "text/plain": [
       "date          0\n",
       "hour          0\n",
       "energy_kWh    0\n",
       "dtype: int64"
      ]
     },
     "execution_count": 14,
     "metadata": {},
     "output_type": "execute_result"
    }
   ],
   "source": [
    "HUE_12_df.dropna(inplace = True)\n",
    "HUE_12_df.isna().sum()"
   ]
  },
  {
   "cell_type": "code",
   "execution_count": 15,
   "metadata": {},
   "outputs": [],
   "source": [
    "HUE_12_total_energy = np.array(HUE_12_df['energy_kWh'])\n",
    "HUE_12_df['electronics workbench energy'] = workbench_reg.predict(HUE_12_total_energy.reshape(-1,1))"
   ]
  },
  {
   "cell_type": "code",
   "execution_count": 16,
   "metadata": {},
   "outputs": [
    {
     "data": {
      "text/html": [
       "<div>\n",
       "<style scoped>\n",
       "    .dataframe tbody tr th:only-of-type {\n",
       "        vertical-align: middle;\n",
       "    }\n",
       "\n",
       "    .dataframe tbody tr th {\n",
       "        vertical-align: top;\n",
       "    }\n",
       "\n",
       "    .dataframe thead th {\n",
       "        text-align: right;\n",
       "    }\n",
       "</style>\n",
       "<table border=\"1\" class=\"dataframe\">\n",
       "  <thead>\n",
       "    <tr style=\"text-align: right;\">\n",
       "      <th></th>\n",
       "      <th>date</th>\n",
       "      <th>hour</th>\n",
       "      <th>energy_kWh</th>\n",
       "      <th>electronics workbench energy</th>\n",
       "    </tr>\n",
       "  </thead>\n",
       "  <tbody>\n",
       "    <tr>\n",
       "      <th>0</th>\n",
       "      <td>2015-02-21</td>\n",
       "      <td>0</td>\n",
       "      <td>0.29</td>\n",
       "      <td>0.006745</td>\n",
       "    </tr>\n",
       "    <tr>\n",
       "      <th>1</th>\n",
       "      <td>2015-02-21</td>\n",
       "      <td>1</td>\n",
       "      <td>0.28</td>\n",
       "      <td>0.006718</td>\n",
       "    </tr>\n",
       "    <tr>\n",
       "      <th>2</th>\n",
       "      <td>2015-02-21</td>\n",
       "      <td>2</td>\n",
       "      <td>0.30</td>\n",
       "      <td>0.006772</td>\n",
       "    </tr>\n",
       "    <tr>\n",
       "      <th>3</th>\n",
       "      <td>2015-02-21</td>\n",
       "      <td>3</td>\n",
       "      <td>0.24</td>\n",
       "      <td>0.006610</td>\n",
       "    </tr>\n",
       "    <tr>\n",
       "      <th>4</th>\n",
       "      <td>2015-02-21</td>\n",
       "      <td>4</td>\n",
       "      <td>0.24</td>\n",
       "      <td>0.006610</td>\n",
       "    </tr>\n",
       "    <tr>\n",
       "      <th>...</th>\n",
       "      <td>...</td>\n",
       "      <td>...</td>\n",
       "      <td>...</td>\n",
       "      <td>...</td>\n",
       "    </tr>\n",
       "    <tr>\n",
       "      <th>26299</th>\n",
       "      <td>2018-02-20</td>\n",
       "      <td>19</td>\n",
       "      <td>1.14</td>\n",
       "      <td>0.009034</td>\n",
       "    </tr>\n",
       "    <tr>\n",
       "      <th>26300</th>\n",
       "      <td>2018-02-20</td>\n",
       "      <td>20</td>\n",
       "      <td>0.29</td>\n",
       "      <td>0.006745</td>\n",
       "    </tr>\n",
       "    <tr>\n",
       "      <th>26301</th>\n",
       "      <td>2018-02-20</td>\n",
       "      <td>21</td>\n",
       "      <td>0.27</td>\n",
       "      <td>0.006691</td>\n",
       "    </tr>\n",
       "    <tr>\n",
       "      <th>26302</th>\n",
       "      <td>2018-02-20</td>\n",
       "      <td>22</td>\n",
       "      <td>0.25</td>\n",
       "      <td>0.006637</td>\n",
       "    </tr>\n",
       "    <tr>\n",
       "      <th>26303</th>\n",
       "      <td>2018-02-20</td>\n",
       "      <td>23</td>\n",
       "      <td>0.19</td>\n",
       "      <td>0.006475</td>\n",
       "    </tr>\n",
       "  </tbody>\n",
       "</table>\n",
       "<p>26100 rows × 4 columns</p>\n",
       "</div>"
      ],
      "text/plain": [
       "             date  hour  energy_kWh  electronics workbench energy\n",
       "0      2015-02-21     0        0.29                      0.006745\n",
       "1      2015-02-21     1        0.28                      0.006718\n",
       "2      2015-02-21     2        0.30                      0.006772\n",
       "3      2015-02-21     3        0.24                      0.006610\n",
       "4      2015-02-21     4        0.24                      0.006610\n",
       "...           ...   ...         ...                           ...\n",
       "26299  2018-02-20    19        1.14                      0.009034\n",
       "26300  2018-02-20    20        0.29                      0.006745\n",
       "26301  2018-02-20    21        0.27                      0.006691\n",
       "26302  2018-02-20    22        0.25                      0.006637\n",
       "26303  2018-02-20    23        0.19                      0.006475\n",
       "\n",
       "[26100 rows x 4 columns]"
      ]
     },
     "execution_count": 16,
     "metadata": {},
     "output_type": "execute_result"
    }
   ],
   "source": [
    "HUE_12_df"
   ]
  },
  {
   "cell_type": "markdown",
   "metadata": {},
   "source": [
    "### Network Energy"
   ]
  },
  {
   "cell_type": "code",
   "execution_count": 17,
   "metadata": {},
   "outputs": [
    {
     "data": {
      "text/plain": [
       "Index(['TS', 'Electronics Workbench Energy', 'Network Equipment Energy',\n",
       "       'Home Office Energy', 'Total Energy'],\n",
       "      dtype='object')"
      ]
     },
     "execution_count": 17,
     "metadata": {},
     "output_type": "execute_result"
    }
   ],
   "source": [
    "AMPDS_df.columns"
   ]
  },
  {
   "cell_type": "code",
   "execution_count": 18,
   "metadata": {},
   "outputs": [
    {
     "data": {
      "text/html": [
       "<div>\n",
       "<style scoped>\n",
       "    .dataframe tbody tr th:only-of-type {\n",
       "        vertical-align: middle;\n",
       "    }\n",
       "\n",
       "    .dataframe tbody tr th {\n",
       "        vertical-align: top;\n",
       "    }\n",
       "\n",
       "    .dataframe thead th {\n",
       "        text-align: right;\n",
       "    }\n",
       "</style>\n",
       "<table border=\"1\" class=\"dataframe\">\n",
       "  <thead>\n",
       "    <tr style=\"text-align: right;\">\n",
       "      <th></th>\n",
       "      <th>Total Energy</th>\n",
       "      <th>Network Equipment Energy</th>\n",
       "    </tr>\n",
       "  </thead>\n",
       "  <tbody>\n",
       "    <tr>\n",
       "      <th>0</th>\n",
       "      <td>0.954902</td>\n",
       "      <td>0.018556</td>\n",
       "    </tr>\n",
       "    <tr>\n",
       "      <th>1</th>\n",
       "      <td>1.195174</td>\n",
       "      <td>0.019031</td>\n",
       "    </tr>\n",
       "    <tr>\n",
       "      <th>2</th>\n",
       "      <td>0.927307</td>\n",
       "      <td>0.018556</td>\n",
       "    </tr>\n",
       "    <tr>\n",
       "      <th>3</th>\n",
       "      <td>1.546304</td>\n",
       "      <td>0.019031</td>\n",
       "    </tr>\n",
       "    <tr>\n",
       "      <th>4</th>\n",
       "      <td>1.601020</td>\n",
       "      <td>0.018556</td>\n",
       "    </tr>\n",
       "    <tr>\n",
       "      <th>...</th>\n",
       "      <td>...</td>\n",
       "      <td>...</td>\n",
       "    </tr>\n",
       "    <tr>\n",
       "      <th>8227</th>\n",
       "      <td>0.434393</td>\n",
       "      <td>0.019031</td>\n",
       "    </tr>\n",
       "    <tr>\n",
       "      <th>8228</th>\n",
       "      <td>0.590450</td>\n",
       "      <td>0.019031</td>\n",
       "    </tr>\n",
       "    <tr>\n",
       "      <th>8229</th>\n",
       "      <td>0.435820</td>\n",
       "      <td>0.019507</td>\n",
       "    </tr>\n",
       "    <tr>\n",
       "      <th>8230</th>\n",
       "      <td>0.795514</td>\n",
       "      <td>0.019031</td>\n",
       "    </tr>\n",
       "    <tr>\n",
       "      <th>8231</th>\n",
       "      <td>1.718063</td>\n",
       "      <td>0.019031</td>\n",
       "    </tr>\n",
       "  </tbody>\n",
       "</table>\n",
       "<p>8232 rows × 2 columns</p>\n",
       "</div>"
      ],
      "text/plain": [
       "      Total Energy  Network Equipment Energy\n",
       "0         0.954902                  0.018556\n",
       "1         1.195174                  0.019031\n",
       "2         0.927307                  0.018556\n",
       "3         1.546304                  0.019031\n",
       "4         1.601020                  0.018556\n",
       "...            ...                       ...\n",
       "8227      0.434393                  0.019031\n",
       "8228      0.590450                  0.019031\n",
       "8229      0.435820                  0.019507\n",
       "8230      0.795514                  0.019031\n",
       "8231      1.718063                  0.019031\n",
       "\n",
       "[8232 rows x 2 columns]"
      ]
     },
     "execution_count": 18,
     "metadata": {},
     "output_type": "execute_result"
    }
   ],
   "source": [
    "network_df = AMPDS_df[['Total Energy', 'Network Equipment Energy']].copy()\n",
    "network_df"
   ]
  },
  {
   "cell_type": "code",
   "execution_count": 19,
   "metadata": {},
   "outputs": [
    {
     "data": {
      "text/plain": [
       "Total Energy                0\n",
       "Network Equipment Energy    0\n",
       "dtype: int64"
      ]
     },
     "execution_count": 19,
     "metadata": {},
     "output_type": "execute_result"
    }
   ],
   "source": [
    "network_df.isna().sum()"
   ]
  },
  {
   "cell_type": "code",
   "execution_count": 20,
   "metadata": {},
   "outputs": [],
   "source": [
    "network_train_df = network_df.sample(frac=0.8, random_state=0)\n",
    "network_test_df = network_df.drop(network_train_df.index)"
   ]
  },
  {
   "cell_type": "code",
   "execution_count": 21,
   "metadata": {},
   "outputs": [
    {
     "data": {
      "text/plain": [
       "<seaborn.axisgrid.PairGrid at 0x7f8f60675a30>"
      ]
     },
     "execution_count": 21,
     "metadata": {},
     "output_type": "execute_result"
    },
    {
     "data": {
      "image/png": "[encoded data removed]",
      "text/plain": [
       "<Figure size 360x360 with 6 Axes>"
      ]
     },
     "metadata": {
      "needs_background": "light"
     },
     "output_type": "display_data"
    }
   ],
   "source": [
    "sns.pairplot(network_train_df, diag_kind='kde')"
   ]
  },
  {
   "cell_type": "code",
   "execution_count": 22,
   "metadata": {},
   "outputs": [],
   "source": [
    "network_train_features = network_train_df.copy()\n",
    "network_test_features = network_test_df.copy()\n",
    "network_train_labels = network_train_features.pop('Network Equipment Energy')\n",
    "network_test_labels = network_test_features.pop('Network Equipment Energy')"
   ]
  },
  {
   "cell_type": "code",
   "execution_count": 23,
   "metadata": {},
   "outputs": [
    {
     "data": {
      "text/html": [
       "<div>\n",
       "<style scoped>\n",
       "    .dataframe tbody tr th:only-of-type {\n",
       "        vertical-align: middle;\n",
       "    }\n",
       "\n",
       "    .dataframe tbody tr th {\n",
       "        vertical-align: top;\n",
       "    }\n",
       "\n",
       "    .dataframe thead th {\n",
       "        text-align: right;\n",
       "    }\n",
       "</style>\n",
       "<table border=\"1\" class=\"dataframe\">\n",
       "  <thead>\n",
       "    <tr style=\"text-align: right;\">\n",
       "      <th></th>\n",
       "      <th>mean</th>\n",
       "      <th>std</th>\n",
       "    </tr>\n",
       "  </thead>\n",
       "  <tbody>\n",
       "    <tr>\n",
       "      <th>Total Energy</th>\n",
       "      <td>0.671554</td>\n",
       "      <td>0.340547</td>\n",
       "    </tr>\n",
       "    <tr>\n",
       "      <th>Network Equipment Energy</th>\n",
       "      <td>0.019330</td>\n",
       "      <td>0.000396</td>\n",
       "    </tr>\n",
       "  </tbody>\n",
       "</table>\n",
       "</div>"
      ],
      "text/plain": [
       "                              mean       std\n",
       "Total Energy              0.671554  0.340547\n",
       "Network Equipment Energy  0.019330  0.000396"
      ]
     },
     "execution_count": 23,
     "metadata": {},
     "output_type": "execute_result"
    }
   ],
   "source": [
    "network_train_df.describe().transpose()[['mean', 'std']]"
   ]
  },
  {
   "cell_type": "code",
   "execution_count": 24,
   "metadata": {},
   "outputs": [],
   "source": [
    "def plot_network(x,y):\n",
    "  plt.scatter(network_test_features, network_test_labels, label='Data')\n",
    "  plt.plot(x, y, color='k', label='Predictions')\n",
    "  plt.xlabel('Total Energy')\n",
    "  plt.ylabel('Network Energy')\n",
    "  plt.legend()"
   ]
  },
  {
   "cell_type": "code",
   "execution_count": 25,
   "metadata": {},
   "outputs": [
    {
     "data": {
      "text/plain": [
       "-0.0017852784845797665"
      ]
     },
     "execution_count": 25,
     "metadata": {},
     "output_type": "execute_result"
    }
   ],
   "source": [
    "network_reg = LinearRegression().fit(network_train_features, network_train_labels)\n",
    "network_reg.score(network_test_features, network_test_labels)"
   ]
  },
  {
   "cell_type": "code",
   "execution_count": 26,
   "metadata": {},
   "outputs": [
    {
     "data": {
      "image/png": "[encoded data removed]",
      "text/plain": [
       "<Figure size 432x288 with 1 Axes>"
      ]
     },
     "metadata": {
      "needs_background": "light"
     },
     "output_type": "display_data"
    }
   ],
   "source": [
    "x = np.linspace(0.4, 1.8, 251)\n",
    "y = network_reg.predict(x.reshape(-1, 1))\n",
    "plot_network(x,y)"
   ]
  },
  {
   "cell_type": "code",
   "execution_count": 27,
   "metadata": {},
   "outputs": [],
   "source": [
    "HUE_12_total_energy = np.array(HUE_12_df['energy_kWh'])\n",
    "HUE_12_df['network energy'] = network_reg.predict(HUE_12_total_energy.reshape(-1,1))"
   ]
  },
  {
   "cell_type": "code",
   "execution_count": 28,
   "metadata": {},
   "outputs": [
    {
     "data": {
      "text/html": [
       "<div>\n",
       "<style scoped>\n",
       "    .dataframe tbody tr th:only-of-type {\n",
       "        vertical-align: middle;\n",
       "    }\n",
       "\n",
       "    .dataframe tbody tr th {\n",
       "        vertical-align: top;\n",
       "    }\n",
       "\n",
       "    .dataframe thead th {\n",
       "        text-align: right;\n",
       "    }\n",
       "</style>\n",
       "<table border=\"1\" class=\"dataframe\">\n",
       "  <thead>\n",
       "    <tr style=\"text-align: right;\">\n",
       "      <th></th>\n",
       "      <th>date</th>\n",
       "      <th>hour</th>\n",
       "      <th>energy_kWh</th>\n",
       "      <th>electronics workbench energy</th>\n",
       "      <th>network energy</th>\n",
       "    </tr>\n",
       "  </thead>\n",
       "  <tbody>\n",
       "    <tr>\n",
       "      <th>0</th>\n",
       "      <td>2015-02-21</td>\n",
       "      <td>0</td>\n",
       "      <td>0.29</td>\n",
       "      <td>0.006745</td>\n",
       "      <td>0.019345</td>\n",
       "    </tr>\n",
       "    <tr>\n",
       "      <th>1</th>\n",
       "      <td>2015-02-21</td>\n",
       "      <td>1</td>\n",
       "      <td>0.28</td>\n",
       "      <td>0.006718</td>\n",
       "      <td>0.019345</td>\n",
       "    </tr>\n",
       "    <tr>\n",
       "      <th>2</th>\n",
       "      <td>2015-02-21</td>\n",
       "      <td>2</td>\n",
       "      <td>0.30</td>\n",
       "      <td>0.006772</td>\n",
       "      <td>0.019344</td>\n",
       "    </tr>\n",
       "    <tr>\n",
       "      <th>3</th>\n",
       "      <td>2015-02-21</td>\n",
       "      <td>3</td>\n",
       "      <td>0.24</td>\n",
       "      <td>0.006610</td>\n",
       "      <td>0.019347</td>\n",
       "    </tr>\n",
       "    <tr>\n",
       "      <th>4</th>\n",
       "      <td>2015-02-21</td>\n",
       "      <td>4</td>\n",
       "      <td>0.24</td>\n",
       "      <td>0.006610</td>\n",
       "      <td>0.019347</td>\n",
       "    </tr>\n",
       "    <tr>\n",
       "      <th>...</th>\n",
       "      <td>...</td>\n",
       "      <td>...</td>\n",
       "      <td>...</td>\n",
       "      <td>...</td>\n",
       "      <td>...</td>\n",
       "    </tr>\n",
       "    <tr>\n",
       "      <th>26299</th>\n",
       "      <td>2018-02-20</td>\n",
       "      <td>19</td>\n",
       "      <td>1.14</td>\n",
       "      <td>0.009034</td>\n",
       "      <td>0.019311</td>\n",
       "    </tr>\n",
       "    <tr>\n",
       "      <th>26300</th>\n",
       "      <td>2018-02-20</td>\n",
       "      <td>20</td>\n",
       "      <td>0.29</td>\n",
       "      <td>0.006745</td>\n",
       "      <td>0.019345</td>\n",
       "    </tr>\n",
       "    <tr>\n",
       "      <th>26301</th>\n",
       "      <td>2018-02-20</td>\n",
       "      <td>21</td>\n",
       "      <td>0.27</td>\n",
       "      <td>0.006691</td>\n",
       "      <td>0.019345</td>\n",
       "    </tr>\n",
       "    <tr>\n",
       "      <th>26302</th>\n",
       "      <td>2018-02-20</td>\n",
       "      <td>22</td>\n",
       "      <td>0.25</td>\n",
       "      <td>0.006637</td>\n",
       "      <td>0.019346</td>\n",
       "    </tr>\n",
       "    <tr>\n",
       "      <th>26303</th>\n",
       "      <td>2018-02-20</td>\n",
       "      <td>23</td>\n",
       "      <td>0.19</td>\n",
       "      <td>0.006475</td>\n",
       "      <td>0.019349</td>\n",
       "    </tr>\n",
       "  </tbody>\n",
       "</table>\n",
       "<p>26100 rows × 5 columns</p>\n",
       "</div>"
      ],
      "text/plain": [
       "             date  hour  energy_kWh  electronics workbench energy  \\\n",
       "0      2015-02-21     0        0.29                      0.006745   \n",
       "1      2015-02-21     1        0.28                      0.006718   \n",
       "2      2015-02-21     2        0.30                      0.006772   \n",
       "3      2015-02-21     3        0.24                      0.006610   \n",
       "4      2015-02-21     4        0.24                      0.006610   \n",
       "...           ...   ...         ...                           ...   \n",
       "26299  2018-02-20    19        1.14                      0.009034   \n",
       "26300  2018-02-20    20        0.29                      0.006745   \n",
       "26301  2018-02-20    21        0.27                      0.006691   \n",
       "26302  2018-02-20    22        0.25                      0.006637   \n",
       "26303  2018-02-20    23        0.19                      0.006475   \n",
       "\n",
       "       network energy  \n",
       "0            0.019345  \n",
       "1            0.019345  \n",
       "2            0.019344  \n",
       "3            0.019347  \n",
       "4            0.019347  \n",
       "...               ...  \n",
       "26299        0.019311  \n",
       "26300        0.019345  \n",
       "26301        0.019345  \n",
       "26302        0.019346  \n",
       "26303        0.019349  \n",
       "\n",
       "[26100 rows x 5 columns]"
      ]
     },
     "execution_count": 28,
     "metadata": {},
     "output_type": "execute_result"
    }
   ],
   "source": [
    "HUE_12_df"
   ]
  },
  {
   "cell_type": "code",
   "execution_count": 29,
   "metadata": {},
   "outputs": [
    {
     "data": {
      "text/plain": [
       "Index(['TS', 'Electronics Workbench Energy', 'Network Equipment Energy',\n",
       "       'Home Office Energy', 'Total Energy'],\n",
       "      dtype='object')"
      ]
     },
     "execution_count": 29,
     "metadata": {},
     "output_type": "execute_result"
    }
   ],
   "source": [
    "AMPDS_df.columns"
   ]
  },
  {
   "cell_type": "markdown",
   "metadata": {},
   "source": [
    "### Home Office Energy"
   ]
  },
  {
   "cell_type": "code",
   "execution_count": 30,
   "metadata": {},
   "outputs": [
    {
     "data": {
      "text/html": [
       "<div>\n",
       "<style scoped>\n",
       "    .dataframe tbody tr th:only-of-type {\n",
       "        vertical-align: middle;\n",
       "    }\n",
       "\n",
       "    .dataframe tbody tr th {\n",
       "        vertical-align: top;\n",
       "    }\n",
       "\n",
       "    .dataframe thead th {\n",
       "        text-align: right;\n",
       "    }\n",
       "</style>\n",
       "<table border=\"1\" class=\"dataframe\">\n",
       "  <thead>\n",
       "    <tr style=\"text-align: right;\">\n",
       "      <th></th>\n",
       "      <th>Total Energy</th>\n",
       "      <th>Home Office Energy</th>\n",
       "    </tr>\n",
       "  </thead>\n",
       "  <tbody>\n",
       "    <tr>\n",
       "      <th>0</th>\n",
       "      <td>0.954902</td>\n",
       "      <td>0.008088</td>\n",
       "    </tr>\n",
       "    <tr>\n",
       "      <th>1</th>\n",
       "      <td>1.195174</td>\n",
       "      <td>0.008088</td>\n",
       "    </tr>\n",
       "    <tr>\n",
       "      <th>2</th>\n",
       "      <td>0.927307</td>\n",
       "      <td>0.009040</td>\n",
       "    </tr>\n",
       "    <tr>\n",
       "      <th>3</th>\n",
       "      <td>1.546304</td>\n",
       "      <td>0.008564</td>\n",
       "    </tr>\n",
       "    <tr>\n",
       "      <th>4</th>\n",
       "      <td>1.601020</td>\n",
       "      <td>0.009040</td>\n",
       "    </tr>\n",
       "    <tr>\n",
       "      <th>...</th>\n",
       "      <td>...</td>\n",
       "      <td>...</td>\n",
       "    </tr>\n",
       "    <tr>\n",
       "      <th>8227</th>\n",
       "      <td>0.434393</td>\n",
       "      <td>0.015225</td>\n",
       "    </tr>\n",
       "    <tr>\n",
       "      <th>8228</th>\n",
       "      <td>0.590450</td>\n",
       "      <td>0.015701</td>\n",
       "    </tr>\n",
       "    <tr>\n",
       "      <th>8229</th>\n",
       "      <td>0.435820</td>\n",
       "      <td>0.016653</td>\n",
       "    </tr>\n",
       "    <tr>\n",
       "      <th>8230</th>\n",
       "      <td>0.795514</td>\n",
       "      <td>0.015225</td>\n",
       "    </tr>\n",
       "    <tr>\n",
       "      <th>8231</th>\n",
       "      <td>1.718063</td>\n",
       "      <td>0.015701</td>\n",
       "    </tr>\n",
       "  </tbody>\n",
       "</table>\n",
       "<p>8232 rows × 2 columns</p>\n",
       "</div>"
      ],
      "text/plain": [
       "      Total Energy  Home Office Energy\n",
       "0         0.954902            0.008088\n",
       "1         1.195174            0.008088\n",
       "2         0.927307            0.009040\n",
       "3         1.546304            0.008564\n",
       "4         1.601020            0.009040\n",
       "...            ...                 ...\n",
       "8227      0.434393            0.015225\n",
       "8228      0.590450            0.015701\n",
       "8229      0.435820            0.016653\n",
       "8230      0.795514            0.015225\n",
       "8231      1.718063            0.015701\n",
       "\n",
       "[8232 rows x 2 columns]"
      ]
     },
     "execution_count": 30,
     "metadata": {},
     "output_type": "execute_result"
    }
   ],
   "source": [
    "homeoffice_df = AMPDS_df[['Total Energy', 'Home Office Energy']].copy()\n",
    "homeoffice_df"
   ]
  },
  {
   "cell_type": "code",
   "execution_count": 31,
   "metadata": {},
   "outputs": [
    {
     "data": {
      "text/plain": [
       "Total Energy          0\n",
       "Home Office Energy    0\n",
       "dtype: int64"
      ]
     },
     "execution_count": 31,
     "metadata": {},
     "output_type": "execute_result"
    }
   ],
   "source": [
    "homeoffice_df.isna().sum()"
   ]
  },
  {
   "cell_type": "code",
   "execution_count": 32,
   "metadata": {},
   "outputs": [],
   "source": [
    "homeoffice_train_df = homeoffice_df.sample(frac=0.8, random_state=0)\n",
    "homeoffice_test_df = homeoffice_df.drop(workbench_train_df.index)"
   ]
  },
  {
   "cell_type": "code",
   "execution_count": 33,
   "metadata": {},
   "outputs": [
    {
     "data": {
      "text/plain": [
       "<seaborn.axisgrid.PairGrid at 0x7f8f603fd340>"
      ]
     },
     "execution_count": 33,
     "metadata": {},
     "output_type": "execute_result"
    },
    {
     "data": {
      "image/png": "[encoded data removed]",
      "text/plain": [
       "<Figure size 360x360 with 6 Axes>"
      ]
     },
     "metadata": {
      "needs_background": "light"
     },
     "output_type": "display_data"
    }
   ],
   "source": [
    "sns.pairplot(homeoffice_train_df, diag_kind='kde')"
   ]
  },
  {
   "cell_type": "code",
   "execution_count": 34,
   "metadata": {},
   "outputs": [
    {
     "data": {
      "text/plain": [
       "Index(['Total Energy', 'Home Office Energy'], dtype='object')"
      ]
     },
     "execution_count": 34,
     "metadata": {},
     "output_type": "execute_result"
    }
   ],
   "source": [
    "homeoffice_train_df.columns"
   ]
  },
  {
   "cell_type": "code",
   "execution_count": 35,
   "metadata": {},
   "outputs": [],
   "source": [
    "homeoffice_train_features = homeoffice_train_df.copy()\n",
    "homeoffice_test_features = homeoffice_test_df.copy()\n",
    "\n",
    "homeoffice_train_labels = homeoffice_train_features.pop('Home Office Energy')\n",
    "homeoffice_test_labels = homeoffice_test_features.pop('Home Office Energy')"
   ]
  },
  {
   "cell_type": "code",
   "execution_count": 36,
   "metadata": {},
   "outputs": [
    {
     "data": {
      "text/html": [
       "<div>\n",
       "<style scoped>\n",
       "    .dataframe tbody tr th:only-of-type {\n",
       "        vertical-align: middle;\n",
       "    }\n",
       "\n",
       "    .dataframe tbody tr th {\n",
       "        vertical-align: top;\n",
       "    }\n",
       "\n",
       "    .dataframe thead th {\n",
       "        text-align: right;\n",
       "    }\n",
       "</style>\n",
       "<table border=\"1\" class=\"dataframe\">\n",
       "  <thead>\n",
       "    <tr style=\"text-align: right;\">\n",
       "      <th></th>\n",
       "      <th>mean</th>\n",
       "      <th>std</th>\n",
       "    </tr>\n",
       "  </thead>\n",
       "  <tbody>\n",
       "    <tr>\n",
       "      <th>Total Energy</th>\n",
       "      <td>0.671554</td>\n",
       "      <td>0.340547</td>\n",
       "    </tr>\n",
       "    <tr>\n",
       "      <th>Home Office Energy</th>\n",
       "      <td>0.015512</td>\n",
       "      <td>0.012425</td>\n",
       "    </tr>\n",
       "  </tbody>\n",
       "</table>\n",
       "</div>"
      ],
      "text/plain": [
       "                        mean       std\n",
       "Total Energy        0.671554  0.340547\n",
       "Home Office Energy  0.015512  0.012425"
      ]
     },
     "execution_count": 36,
     "metadata": {},
     "output_type": "execute_result"
    }
   ],
   "source": [
    "homeoffice_train_df.describe().transpose()[['mean', 'std']]"
   ]
  },
  {
   "cell_type": "code",
   "execution_count": 37,
   "metadata": {},
   "outputs": [],
   "source": [
    "def plot_homeoffice(x,y):\n",
    "  plt.scatter(homeoffice_test_features, homeoffice_test_labels, label='Data')\n",
    "  plt.plot(x, y, color='k', label='Predictions')\n",
    "  plt.xlabel('Total Energy')\n",
    "  plt.ylabel('AMPDS Home Office Energy')\n",
    "  plt.legend()"
   ]
  },
  {
   "cell_type": "code",
   "execution_count": 38,
   "metadata": {},
   "outputs": [
    {
     "data": {
      "text/plain": [
       "0.04824582522479193"
      ]
     },
     "execution_count": 38,
     "metadata": {},
     "output_type": "execute_result"
    }
   ],
   "source": [
    "homeoffice_reg = LinearRegression().fit(homeoffice_train_features, homeoffice_train_labels)\n",
    "homeoffice_reg.score(homeoffice_train_features, homeoffice_train_labels)"
   ]
  },
  {
   "cell_type": "code",
   "execution_count": 39,
   "metadata": {},
   "outputs": [
    {
     "data": {
      "image/png": "[encoded data removed]",
      "text/plain": [
       "<Figure size 432x288 with 1 Axes>"
      ]
     },
     "metadata": {
      "needs_background": "light"
     },
     "output_type": "display_data"
    }
   ],
   "source": [
    "x = np.linspace(0.4, 1.8, 251)\n",
    "y = homeoffice_reg.predict(x.reshape(-1, 1))\n",
    "plot_homeoffice(x,y)"
   ]
  },
  {
   "cell_type": "code",
   "execution_count": 40,
   "metadata": {},
   "outputs": [],
   "source": [
    "HUE_12_total_energy = np.array(HUE_12_df['energy_kWh'])\n",
    "HUE_12_df['Homeoffice Energy'] = homeoffice_reg.predict(HUE_12_total_energy.reshape(-1,1))"
   ]
  },
  {
   "cell_type": "code",
   "execution_count": 41,
   "metadata": {},
   "outputs": [
    {
     "data": {
      "text/html": [
       "<div>\n",
       "<style scoped>\n",
       "    .dataframe tbody tr th:only-of-type {\n",
       "        vertical-align: middle;\n",
       "    }\n",
       "\n",
       "    .dataframe tbody tr th {\n",
       "        vertical-align: top;\n",
       "    }\n",
       "\n",
       "    .dataframe thead th {\n",
       "        text-align: right;\n",
       "    }\n",
       "</style>\n",
       "<table border=\"1\" class=\"dataframe\">\n",
       "  <thead>\n",
       "    <tr style=\"text-align: right;\">\n",
       "      <th></th>\n",
       "      <th>date</th>\n",
       "      <th>hour</th>\n",
       "      <th>energy_kWh</th>\n",
       "      <th>electronics workbench energy</th>\n",
       "      <th>network energy</th>\n",
       "      <th>Homeoffice Energy</th>\n",
       "    </tr>\n",
       "  </thead>\n",
       "  <tbody>\n",
       "    <tr>\n",
       "      <th>0</th>\n",
       "      <td>2015-02-21</td>\n",
       "      <td>0</td>\n",
       "      <td>0.29</td>\n",
       "      <td>0.006745</td>\n",
       "      <td>0.019345</td>\n",
       "      <td>0.012454</td>\n",
       "    </tr>\n",
       "    <tr>\n",
       "      <th>1</th>\n",
       "      <td>2015-02-21</td>\n",
       "      <td>1</td>\n",
       "      <td>0.28</td>\n",
       "      <td>0.006718</td>\n",
       "      <td>0.019345</td>\n",
       "      <td>0.012374</td>\n",
       "    </tr>\n",
       "    <tr>\n",
       "      <th>2</th>\n",
       "      <td>2015-02-21</td>\n",
       "      <td>2</td>\n",
       "      <td>0.30</td>\n",
       "      <td>0.006772</td>\n",
       "      <td>0.019344</td>\n",
       "      <td>0.012534</td>\n",
       "    </tr>\n",
       "    <tr>\n",
       "      <th>3</th>\n",
       "      <td>2015-02-21</td>\n",
       "      <td>3</td>\n",
       "      <td>0.24</td>\n",
       "      <td>0.006610</td>\n",
       "      <td>0.019347</td>\n",
       "      <td>0.012054</td>\n",
       "    </tr>\n",
       "    <tr>\n",
       "      <th>4</th>\n",
       "      <td>2015-02-21</td>\n",
       "      <td>4</td>\n",
       "      <td>0.24</td>\n",
       "      <td>0.006610</td>\n",
       "      <td>0.019347</td>\n",
       "      <td>0.012054</td>\n",
       "    </tr>\n",
       "    <tr>\n",
       "      <th>...</th>\n",
       "      <td>...</td>\n",
       "      <td>...</td>\n",
       "      <td>...</td>\n",
       "      <td>...</td>\n",
       "      <td>...</td>\n",
       "      <td>...</td>\n",
       "    </tr>\n",
       "    <tr>\n",
       "      <th>26299</th>\n",
       "      <td>2018-02-20</td>\n",
       "      <td>19</td>\n",
       "      <td>1.14</td>\n",
       "      <td>0.009034</td>\n",
       "      <td>0.019311</td>\n",
       "      <td>0.019266</td>\n",
       "    </tr>\n",
       "    <tr>\n",
       "      <th>26300</th>\n",
       "      <td>2018-02-20</td>\n",
       "      <td>20</td>\n",
       "      <td>0.29</td>\n",
       "      <td>0.006745</td>\n",
       "      <td>0.019345</td>\n",
       "      <td>0.012454</td>\n",
       "    </tr>\n",
       "    <tr>\n",
       "      <th>26301</th>\n",
       "      <td>2018-02-20</td>\n",
       "      <td>21</td>\n",
       "      <td>0.27</td>\n",
       "      <td>0.006691</td>\n",
       "      <td>0.019345</td>\n",
       "      <td>0.012294</td>\n",
       "    </tr>\n",
       "    <tr>\n",
       "      <th>26302</th>\n",
       "      <td>2018-02-20</td>\n",
       "      <td>22</td>\n",
       "      <td>0.25</td>\n",
       "      <td>0.006637</td>\n",
       "      <td>0.019346</td>\n",
       "      <td>0.012134</td>\n",
       "    </tr>\n",
       "    <tr>\n",
       "      <th>26303</th>\n",
       "      <td>2018-02-20</td>\n",
       "      <td>23</td>\n",
       "      <td>0.19</td>\n",
       "      <td>0.006475</td>\n",
       "      <td>0.019349</td>\n",
       "      <td>0.011653</td>\n",
       "    </tr>\n",
       "  </tbody>\n",
       "</table>\n",
       "<p>26100 rows × 6 columns</p>\n",
       "</div>"
      ],
      "text/plain": [
       "             date  hour  energy_kWh  electronics workbench energy  \\\n",
       "0      2015-02-21     0        0.29                      0.006745   \n",
       "1      2015-02-21     1        0.28                      0.006718   \n",
       "2      2015-02-21     2        0.30                      0.006772   \n",
       "3      2015-02-21     3        0.24                      0.006610   \n",
       "4      2015-02-21     4        0.24                      0.006610   \n",
       "...           ...   ...         ...                           ...   \n",
       "26299  2018-02-20    19        1.14                      0.009034   \n",
       "26300  2018-02-20    20        0.29                      0.006745   \n",
       "26301  2018-02-20    21        0.27                      0.006691   \n",
       "26302  2018-02-20    22        0.25                      0.006637   \n",
       "26303  2018-02-20    23        0.19                      0.006475   \n",
       "\n",
       "       network energy  Homeoffice Energy  \n",
       "0            0.019345           0.012454  \n",
       "1            0.019345           0.012374  \n",
       "2            0.019344           0.012534  \n",
       "3            0.019347           0.012054  \n",
       "4            0.019347           0.012054  \n",
       "...               ...                ...  \n",
       "26299        0.019311           0.019266  \n",
       "26300        0.019345           0.012454  \n",
       "26301        0.019345           0.012294  \n",
       "26302        0.019346           0.012134  \n",
       "26303        0.019349           0.011653  \n",
       "\n",
       "[26100 rows x 6 columns]"
      ]
     },
     "execution_count": 41,
     "metadata": {},
     "output_type": "execute_result"
    }
   ],
   "source": [
    "HUE_12_df"
   ]
  },
  {
   "cell_type": "markdown",
   "metadata": {},
   "source": [
    "### RAE house 1"
   ]
  },
  {
   "cell_type": "code",
   "execution_count": 42,
   "metadata": {},
   "outputs": [
    {
     "data": {
      "text/html": [
       "<div>\n",
       "<style scoped>\n",
       "    .dataframe tbody tr th:only-of-type {\n",
       "        vertical-align: middle;\n",
       "    }\n",
       "\n",
       "    .dataframe tbody tr th {\n",
       "        vertical-align: top;\n",
       "    }\n",
       "\n",
       "    .dataframe thead th {\n",
       "        text-align: right;\n",
       "    }\n",
       "</style>\n",
       "<table border=\"1\" class=\"dataframe\">\n",
       "  <thead>\n",
       "    <tr style=\"text-align: right;\">\n",
       "      <th></th>\n",
       "      <th>Home Office Energy</th>\n",
       "      <th>Total Energy</th>\n",
       "    </tr>\n",
       "  </thead>\n",
       "  <tbody>\n",
       "    <tr>\n",
       "      <th>0</th>\n",
       "      <td>0.001578</td>\n",
       "      <td>0.010140</td>\n",
       "    </tr>\n",
       "    <tr>\n",
       "      <th>1</th>\n",
       "      <td>0.002233</td>\n",
       "      <td>0.012823</td>\n",
       "    </tr>\n",
       "    <tr>\n",
       "      <th>2</th>\n",
       "      <td>0.002901</td>\n",
       "      <td>0.015468</td>\n",
       "    </tr>\n",
       "    <tr>\n",
       "      <th>3</th>\n",
       "      <td>0.003573</td>\n",
       "      <td>0.018212</td>\n",
       "    </tr>\n",
       "    <tr>\n",
       "      <th>4</th>\n",
       "      <td>0.004247</td>\n",
       "      <td>0.021452</td>\n",
       "    </tr>\n",
       "    <tr>\n",
       "      <th>...</th>\n",
       "      <td>...</td>\n",
       "      <td>...</td>\n",
       "    </tr>\n",
       "    <tr>\n",
       "      <th>211</th>\n",
       "      <td>0.154690</td>\n",
       "      <td>1.222733</td>\n",
       "    </tr>\n",
       "    <tr>\n",
       "      <th>212</th>\n",
       "      <td>0.155409</td>\n",
       "      <td>1.231294</td>\n",
       "    </tr>\n",
       "    <tr>\n",
       "      <th>213</th>\n",
       "      <td>0.156112</td>\n",
       "      <td>1.240656</td>\n",
       "    </tr>\n",
       "    <tr>\n",
       "      <th>214</th>\n",
       "      <td>0.156790</td>\n",
       "      <td>1.245218</td>\n",
       "    </tr>\n",
       "    <tr>\n",
       "      <th>215</th>\n",
       "      <td>0.157464</td>\n",
       "      <td>1.249221</td>\n",
       "    </tr>\n",
       "  </tbody>\n",
       "</table>\n",
       "<p>216 rows × 2 columns</p>\n",
       "</div>"
      ],
      "text/plain": [
       "     Home Office Energy  Total Energy\n",
       "0              0.001578      0.010140\n",
       "1              0.002233      0.012823\n",
       "2              0.002901      0.015468\n",
       "3              0.003573      0.018212\n",
       "4              0.004247      0.021452\n",
       "..                  ...           ...\n",
       "211            0.154690      1.222733\n",
       "212            0.155409      1.231294\n",
       "213            0.156112      1.240656\n",
       "214            0.156790      1.245218\n",
       "215            0.157464      1.249221\n",
       "\n",
       "[216 rows x 2 columns]"
      ]
     },
     "execution_count": 42,
     "metadata": {},
     "output_type": "execute_result"
    }
   ],
   "source": [
    "RAE_house1_df = RAE_house1_df[['Home Office Energy', 'Total Energy']]\n",
    "RAE_house1_df"
   ]
  },
  {
   "cell_type": "code",
   "execution_count": 43,
   "metadata": {},
   "outputs": [
    {
     "data": {
      "text/plain": [
       "Home Office Energy    0\n",
       "Total Energy          0\n",
       "dtype: int64"
      ]
     },
     "execution_count": 43,
     "metadata": {},
     "output_type": "execute_result"
    }
   ],
   "source": [
    "RAE_house1_df.isna().sum()"
   ]
  },
  {
   "cell_type": "code",
   "execution_count": 44,
   "metadata": {},
   "outputs": [],
   "source": [
    "house1_train_df = RAE_house1_df.sample(frac=0.8, random_state=0)\n",
    "house1_test_df = RAE_house1_df.drop(house1_train_df.index)"
   ]
  },
  {
   "cell_type": "code",
   "execution_count": 45,
   "metadata": {},
   "outputs": [
    {
     "data": {
      "text/plain": [
       "<seaborn.axisgrid.PairGrid at 0x7f8f61ab32e0>"
      ]
     },
     "execution_count": 45,
     "metadata": {},
     "output_type": "execute_result"
    },
    {
     "data": {
      "image/png": "[encoded data removed]",
      "text/plain": [
       "<Figure size 360x360 with 6 Axes>"
      ]
     },
     "metadata": {
      "needs_background": "light"
     },
     "output_type": "display_data"
    }
   ],
   "source": [
    "sns.pairplot(house1_train_df , diag_kind='kde')"
   ]
  },
  {
   "cell_type": "code",
   "execution_count": 46,
   "metadata": {},
   "outputs": [],
   "source": [
    "house1_train_features = house1_train_df.copy()\n",
    "house1_test_features = house1_test_df.copy()\n",
    "\n",
    "house1_train_labels = house1_train_features.pop('Home Office Energy')\n",
    "house1_test_labels = house1_test_features.pop('Home Office Energy')"
   ]
  },
  {
   "cell_type": "code",
   "execution_count": 47,
   "metadata": {},
   "outputs": [
    {
     "data": {
      "text/html": [
       "<div>\n",
       "<style scoped>\n",
       "    .dataframe tbody tr th:only-of-type {\n",
       "        vertical-align: middle;\n",
       "    }\n",
       "\n",
       "    .dataframe tbody tr th {\n",
       "        vertical-align: top;\n",
       "    }\n",
       "\n",
       "    .dataframe thead th {\n",
       "        text-align: right;\n",
       "    }\n",
       "</style>\n",
       "<table border=\"1\" class=\"dataframe\">\n",
       "  <thead>\n",
       "    <tr style=\"text-align: right;\">\n",
       "      <th></th>\n",
       "      <th>mean</th>\n",
       "      <th>std</th>\n",
       "    </tr>\n",
       "  </thead>\n",
       "  <tbody>\n",
       "    <tr>\n",
       "      <th>Home Office Energy</th>\n",
       "      <td>0.077420</td>\n",
       "      <td>0.045508</td>\n",
       "    </tr>\n",
       "    <tr>\n",
       "      <th>Total Energy</th>\n",
       "      <td>0.570971</td>\n",
       "      <td>0.349011</td>\n",
       "    </tr>\n",
       "  </tbody>\n",
       "</table>\n",
       "</div>"
      ],
      "text/plain": [
       "                        mean       std\n",
       "Home Office Energy  0.077420  0.045508\n",
       "Total Energy        0.570971  0.349011"
      ]
     },
     "execution_count": 47,
     "metadata": {},
     "output_type": "execute_result"
    }
   ],
   "source": [
    "house1_train_df.describe().transpose()[['mean', 'std']]"
   ]
  },
  {
   "cell_type": "code",
   "execution_count": 48,
   "metadata": {},
   "outputs": [],
   "source": [
    "def plot_house1(x,y):\n",
    "  plt.scatter(house1_test_features, house1_test_labels, label='Data')\n",
    "  plt.plot(x, y, color='k', label='Predictions')\n",
    "  plt.xlabel('Total Energy')\n",
    "  plt.ylabel('RAE Home Office Energy')\n",
    "  plt.legend()"
   ]
  },
  {
   "cell_type": "code",
   "execution_count": 49,
   "metadata": {},
   "outputs": [
    {
     "data": {
      "image/png": "[encoded data removed]",
      "text/plain": [
       "<Figure size 432x288 with 1 Axes>"
      ]
     },
     "metadata": {
      "needs_background": "light"
     },
     "output_type": "display_data"
    }
   ],
   "source": [
    "house1_reg = LinearRegression().fit(house1_train_features, house1_train_labels)\n",
    "x = np.linspace(0, 1.2, 251)\n",
    "y = house1_reg.predict(x.reshape(-1, 1))\n",
    "plot_house1(x,y)"
   ]
  },
  {
   "cell_type": "code",
   "execution_count": 50,
   "metadata": {},
   "outputs": [],
   "source": [
    "HUE_12_total_energy = np.array(HUE_12_df['energy_kWh'])\n",
    "HUE_12_df['Home Office Energy 2'] = house1_reg.predict(HUE_12_total_energy.reshape(-1,1))"
   ]
  },
  {
   "cell_type": "code",
   "execution_count": 51,
   "metadata": {},
   "outputs": [
    {
     "data": {
      "text/html": [
       "<div>\n",
       "<style scoped>\n",
       "    .dataframe tbody tr th:only-of-type {\n",
       "        vertical-align: middle;\n",
       "    }\n",
       "\n",
       "    .dataframe tbody tr th {\n",
       "        vertical-align: top;\n",
       "    }\n",
       "\n",
       "    .dataframe thead th {\n",
       "        text-align: right;\n",
       "    }\n",
       "</style>\n",
       "<table border=\"1\" class=\"dataframe\">\n",
       "  <thead>\n",
       "    <tr style=\"text-align: right;\">\n",
       "      <th></th>\n",
       "      <th>date</th>\n",
       "      <th>hour</th>\n",
       "      <th>energy_kWh</th>\n",
       "      <th>electronics workbench energy</th>\n",
       "      <th>network energy</th>\n",
       "      <th>Homeoffice Energy</th>\n",
       "      <th>Home Office Energy 2</th>\n",
       "    </tr>\n",
       "  </thead>\n",
       "  <tbody>\n",
       "    <tr>\n",
       "      <th>0</th>\n",
       "      <td>2015-02-21</td>\n",
       "      <td>0</td>\n",
       "      <td>0.29</td>\n",
       "      <td>0.006745</td>\n",
       "      <td>0.019345</td>\n",
       "      <td>0.012454</td>\n",
       "      <td>0.040928</td>\n",
       "    </tr>\n",
       "    <tr>\n",
       "      <th>1</th>\n",
       "      <td>2015-02-21</td>\n",
       "      <td>1</td>\n",
       "      <td>0.28</td>\n",
       "      <td>0.006718</td>\n",
       "      <td>0.019345</td>\n",
       "      <td>0.012374</td>\n",
       "      <td>0.039630</td>\n",
       "    </tr>\n",
       "    <tr>\n",
       "      <th>2</th>\n",
       "      <td>2015-02-21</td>\n",
       "      <td>2</td>\n",
       "      <td>0.30</td>\n",
       "      <td>0.006772</td>\n",
       "      <td>0.019344</td>\n",
       "      <td>0.012534</td>\n",
       "      <td>0.042227</td>\n",
       "    </tr>\n",
       "    <tr>\n",
       "      <th>3</th>\n",
       "      <td>2015-02-21</td>\n",
       "      <td>3</td>\n",
       "      <td>0.24</td>\n",
       "      <td>0.006610</td>\n",
       "      <td>0.019347</td>\n",
       "      <td>0.012054</td>\n",
       "      <td>0.034434</td>\n",
       "    </tr>\n",
       "    <tr>\n",
       "      <th>4</th>\n",
       "      <td>2015-02-21</td>\n",
       "      <td>4</td>\n",
       "      <td>0.24</td>\n",
       "      <td>0.006610</td>\n",
       "      <td>0.019347</td>\n",
       "      <td>0.012054</td>\n",
       "      <td>0.034434</td>\n",
       "    </tr>\n",
       "    <tr>\n",
       "      <th>...</th>\n",
       "      <td>...</td>\n",
       "      <td>...</td>\n",
       "      <td>...</td>\n",
       "      <td>...</td>\n",
       "      <td>...</td>\n",
       "      <td>...</td>\n",
       "      <td>...</td>\n",
       "    </tr>\n",
       "    <tr>\n",
       "      <th>26299</th>\n",
       "      <td>2018-02-20</td>\n",
       "      <td>19</td>\n",
       "      <td>1.14</td>\n",
       "      <td>0.009034</td>\n",
       "      <td>0.019311</td>\n",
       "      <td>0.019266</td>\n",
       "      <td>0.151325</td>\n",
       "    </tr>\n",
       "    <tr>\n",
       "      <th>26300</th>\n",
       "      <td>2018-02-20</td>\n",
       "      <td>20</td>\n",
       "      <td>0.29</td>\n",
       "      <td>0.006745</td>\n",
       "      <td>0.019345</td>\n",
       "      <td>0.012454</td>\n",
       "      <td>0.040928</td>\n",
       "    </tr>\n",
       "    <tr>\n",
       "      <th>26301</th>\n",
       "      <td>2018-02-20</td>\n",
       "      <td>21</td>\n",
       "      <td>0.27</td>\n",
       "      <td>0.006691</td>\n",
       "      <td>0.019345</td>\n",
       "      <td>0.012294</td>\n",
       "      <td>0.038331</td>\n",
       "    </tr>\n",
       "    <tr>\n",
       "      <th>26302</th>\n",
       "      <td>2018-02-20</td>\n",
       "      <td>22</td>\n",
       "      <td>0.25</td>\n",
       "      <td>0.006637</td>\n",
       "      <td>0.019346</td>\n",
       "      <td>0.012134</td>\n",
       "      <td>0.035733</td>\n",
       "    </tr>\n",
       "    <tr>\n",
       "      <th>26303</th>\n",
       "      <td>2018-02-20</td>\n",
       "      <td>23</td>\n",
       "      <td>0.19</td>\n",
       "      <td>0.006475</td>\n",
       "      <td>0.019349</td>\n",
       "      <td>0.011653</td>\n",
       "      <td>0.027941</td>\n",
       "    </tr>\n",
       "  </tbody>\n",
       "</table>\n",
       "<p>26100 rows × 7 columns</p>\n",
       "</div>"
      ],
      "text/plain": [
       "             date  hour  energy_kWh  electronics workbench energy  \\\n",
       "0      2015-02-21     0        0.29                      0.006745   \n",
       "1      2015-02-21     1        0.28                      0.006718   \n",
       "2      2015-02-21     2        0.30                      0.006772   \n",
       "3      2015-02-21     3        0.24                      0.006610   \n",
       "4      2015-02-21     4        0.24                      0.006610   \n",
       "...           ...   ...         ...                           ...   \n",
       "26299  2018-02-20    19        1.14                      0.009034   \n",
       "26300  2018-02-20    20        0.29                      0.006745   \n",
       "26301  2018-02-20    21        0.27                      0.006691   \n",
       "26302  2018-02-20    22        0.25                      0.006637   \n",
       "26303  2018-02-20    23        0.19                      0.006475   \n",
       "\n",
       "       network energy  Homeoffice Energy  Home Office Energy 2  \n",
       "0            0.019345           0.012454              0.040928  \n",
       "1            0.019345           0.012374              0.039630  \n",
       "2            0.019344           0.012534              0.042227  \n",
       "3            0.019347           0.012054              0.034434  \n",
       "4            0.019347           0.012054              0.034434  \n",
       "...               ...                ...                   ...  \n",
       "26299        0.019311           0.019266              0.151325  \n",
       "26300        0.019345           0.012454              0.040928  \n",
       "26301        0.019345           0.012294              0.038331  \n",
       "26302        0.019346           0.012134              0.035733  \n",
       "26303        0.019349           0.011653              0.027941  \n",
       "\n",
       "[26100 rows x 7 columns]"
      ]
     },
     "execution_count": 51,
     "metadata": {},
     "output_type": "execute_result"
    }
   ],
   "source": [
    "HUE_12_df"
   ]
  },
  {
   "cell_type": "markdown",
   "metadata": {},
   "source": [
    "### RAE house 2"
   ]
  },
  {
   "cell_type": "code",
   "execution_count": 52,
   "metadata": {},
   "outputs": [
    {
     "data": {
      "text/html": [
       "<div>\n",
       "<style scoped>\n",
       "    .dataframe tbody tr th:only-of-type {\n",
       "        vertical-align: middle;\n",
       "    }\n",
       "\n",
       "    .dataframe tbody tr th {\n",
       "        vertical-align: top;\n",
       "    }\n",
       "\n",
       "    .dataframe thead th {\n",
       "        text-align: right;\n",
       "    }\n",
       "</style>\n",
       "<table border=\"1\" class=\"dataframe\">\n",
       "  <thead>\n",
       "    <tr style=\"text-align: right;\">\n",
       "      <th></th>\n",
       "      <th>TS</th>\n",
       "      <th>Mobile Phone Charger Energy</th>\n",
       "      <th>Total Energy</th>\n",
       "    </tr>\n",
       "  </thead>\n",
       "  <tbody>\n",
       "    <tr>\n",
       "      <th>0</th>\n",
       "      <td>2017-09-13 07:00:00</td>\n",
       "      <td>0.000021</td>\n",
       "      <td>0.042086</td>\n",
       "    </tr>\n",
       "    <tr>\n",
       "      <th>1</th>\n",
       "      <td>2017-09-13 08:00:00</td>\n",
       "      <td>0.000021</td>\n",
       "      <td>0.042438</td>\n",
       "    </tr>\n",
       "    <tr>\n",
       "      <th>2</th>\n",
       "      <td>2017-09-13 09:00:00</td>\n",
       "      <td>0.000022</td>\n",
       "      <td>0.042794</td>\n",
       "    </tr>\n",
       "    <tr>\n",
       "      <th>3</th>\n",
       "      <td>2017-09-13 10:00:00</td>\n",
       "      <td>0.000023</td>\n",
       "      <td>0.043140</td>\n",
       "    </tr>\n",
       "    <tr>\n",
       "      <th>4</th>\n",
       "      <td>2017-09-13 11:00:00</td>\n",
       "      <td>0.000023</td>\n",
       "      <td>0.043531</td>\n",
       "    </tr>\n",
       "    <tr>\n",
       "      <th>...</th>\n",
       "      <td>...</td>\n",
       "      <td>...</td>\n",
       "      <td>...</td>\n",
       "    </tr>\n",
       "    <tr>\n",
       "      <th>1404</th>\n",
       "      <td>2017-11-10 19:00:00</td>\n",
       "      <td>0.000471</td>\n",
       "      <td>1.180865</td>\n",
       "    </tr>\n",
       "    <tr>\n",
       "      <th>1405</th>\n",
       "      <td>2017-11-10 20:00:00</td>\n",
       "      <td>0.000471</td>\n",
       "      <td>1.181522</td>\n",
       "    </tr>\n",
       "    <tr>\n",
       "      <th>1406</th>\n",
       "      <td>2017-11-10 21:00:00</td>\n",
       "      <td>0.000471</td>\n",
       "      <td>1.182140</td>\n",
       "    </tr>\n",
       "    <tr>\n",
       "      <th>1407</th>\n",
       "      <td>2017-11-10 22:00:00</td>\n",
       "      <td>0.000471</td>\n",
       "      <td>1.182776</td>\n",
       "    </tr>\n",
       "    <tr>\n",
       "      <th>1408</th>\n",
       "      <td>2017-11-10 23:00:00</td>\n",
       "      <td>0.000471</td>\n",
       "      <td>1.183400</td>\n",
       "    </tr>\n",
       "  </tbody>\n",
       "</table>\n",
       "<p>1409 rows × 3 columns</p>\n",
       "</div>"
      ],
      "text/plain": [
       "                       TS  Mobile Phone Charger Energy  Total Energy\n",
       "0     2017-09-13 07:00:00                     0.000021      0.042086\n",
       "1     2017-09-13 08:00:00                     0.000021      0.042438\n",
       "2     2017-09-13 09:00:00                     0.000022      0.042794\n",
       "3     2017-09-13 10:00:00                     0.000023      0.043140\n",
       "4     2017-09-13 11:00:00                     0.000023      0.043531\n",
       "...                   ...                          ...           ...\n",
       "1404  2017-11-10 19:00:00                     0.000471      1.180865\n",
       "1405  2017-11-10 20:00:00                     0.000471      1.181522\n",
       "1406  2017-11-10 21:00:00                     0.000471      1.182140\n",
       "1407  2017-11-10 22:00:00                     0.000471      1.182776\n",
       "1408  2017-11-10 23:00:00                     0.000471      1.183400\n",
       "\n",
       "[1409 rows x 3 columns]"
      ]
     },
     "execution_count": 52,
     "metadata": {},
     "output_type": "execute_result"
    }
   ],
   "source": [
    "RAE_house2_df"
   ]
  },
  {
   "cell_type": "code",
   "execution_count": 53,
   "metadata": {},
   "outputs": [
    {
     "data": {
      "text/html": [
       "<div>\n",
       "<style scoped>\n",
       "    .dataframe tbody tr th:only-of-type {\n",
       "        vertical-align: middle;\n",
       "    }\n",
       "\n",
       "    .dataframe tbody tr th {\n",
       "        vertical-align: top;\n",
       "    }\n",
       "\n",
       "    .dataframe thead th {\n",
       "        text-align: right;\n",
       "    }\n",
       "</style>\n",
       "<table border=\"1\" class=\"dataframe\">\n",
       "  <thead>\n",
       "    <tr style=\"text-align: right;\">\n",
       "      <th></th>\n",
       "      <th>Total Energy</th>\n",
       "      <th>Mobile Phone Charger Energy</th>\n",
       "    </tr>\n",
       "  </thead>\n",
       "  <tbody>\n",
       "    <tr>\n",
       "      <th>0</th>\n",
       "      <td>0.042086</td>\n",
       "      <td>0.000021</td>\n",
       "    </tr>\n",
       "    <tr>\n",
       "      <th>1</th>\n",
       "      <td>0.042438</td>\n",
       "      <td>0.000021</td>\n",
       "    </tr>\n",
       "    <tr>\n",
       "      <th>2</th>\n",
       "      <td>0.042794</td>\n",
       "      <td>0.000022</td>\n",
       "    </tr>\n",
       "    <tr>\n",
       "      <th>3</th>\n",
       "      <td>0.043140</td>\n",
       "      <td>0.000023</td>\n",
       "    </tr>\n",
       "    <tr>\n",
       "      <th>4</th>\n",
       "      <td>0.043531</td>\n",
       "      <td>0.000023</td>\n",
       "    </tr>\n",
       "    <tr>\n",
       "      <th>...</th>\n",
       "      <td>...</td>\n",
       "      <td>...</td>\n",
       "    </tr>\n",
       "    <tr>\n",
       "      <th>1404</th>\n",
       "      <td>1.180865</td>\n",
       "      <td>0.000471</td>\n",
       "    </tr>\n",
       "    <tr>\n",
       "      <th>1405</th>\n",
       "      <td>1.181522</td>\n",
       "      <td>0.000471</td>\n",
       "    </tr>\n",
       "    <tr>\n",
       "      <th>1406</th>\n",
       "      <td>1.182140</td>\n",
       "      <td>0.000471</td>\n",
       "    </tr>\n",
       "    <tr>\n",
       "      <th>1407</th>\n",
       "      <td>1.182776</td>\n",
       "      <td>0.000471</td>\n",
       "    </tr>\n",
       "    <tr>\n",
       "      <th>1408</th>\n",
       "      <td>1.183400</td>\n",
       "      <td>0.000471</td>\n",
       "    </tr>\n",
       "  </tbody>\n",
       "</table>\n",
       "<p>1409 rows × 2 columns</p>\n",
       "</div>"
      ],
      "text/plain": [
       "      Total Energy  Mobile Phone Charger Energy\n",
       "0         0.042086                     0.000021\n",
       "1         0.042438                     0.000021\n",
       "2         0.042794                     0.000022\n",
       "3         0.043140                     0.000023\n",
       "4         0.043531                     0.000023\n",
       "...            ...                          ...\n",
       "1404      1.180865                     0.000471\n",
       "1405      1.181522                     0.000471\n",
       "1406      1.182140                     0.000471\n",
       "1407      1.182776                     0.000471\n",
       "1408      1.183400                     0.000471\n",
       "\n",
       "[1409 rows x 2 columns]"
      ]
     },
     "execution_count": 53,
     "metadata": {},
     "output_type": "execute_result"
    }
   ],
   "source": [
    "house2_df = RAE_house2_df[['Total Energy', 'Mobile Phone Charger Energy']].copy()\n",
    "house2_df"
   ]
  },
  {
   "cell_type": "code",
   "execution_count": 54,
   "metadata": {},
   "outputs": [
    {
     "data": {
      "text/plain": [
       "Total Energy                   0\n",
       "Mobile Phone Charger Energy    0\n",
       "dtype: int64"
      ]
     },
     "execution_count": 54,
     "metadata": {},
     "output_type": "execute_result"
    }
   ],
   "source": [
    "house2_df.isna().sum()"
   ]
  },
  {
   "cell_type": "code",
   "execution_count": 55,
   "metadata": {},
   "outputs": [],
   "source": [
    "house2_train_df = house2_df.sample(frac=0.8, random_state=0)\n",
    "house2_test_df = house2_df.drop(house2_train_df.index)"
   ]
  },
  {
   "cell_type": "code",
   "execution_count": 56,
   "metadata": {},
   "outputs": [
    {
     "data": {
      "text/plain": [
       "<seaborn.axisgrid.PairGrid at 0x7f8f5a786940>"
      ]
     },
     "execution_count": 56,
     "metadata": {},
     "output_type": "execute_result"
    },
    {
     "data": {
      "image/png": "[encoded data removed]",
      "text/plain": [
       "<Figure size 360x360 with 6 Axes>"
      ]
     },
     "metadata": {
      "needs_background": "light"
     },
     "output_type": "display_data"
    }
   ],
   "source": [
    "sns.pairplot(house2_train_df, diag_kind='kde')"
   ]
  },
  {
   "cell_type": "code",
   "execution_count": 57,
   "metadata": {},
   "outputs": [],
   "source": [
    "house2_train_features = house2_train_df.copy()\n",
    "house2_test_features = house2_test_df.copy()\n",
    "\n",
    "house2_train_labels = house2_train_features.pop('Mobile Phone Charger Energy')\n",
    "house2_test_labels = house2_test_features.pop('Mobile Phone Charger Energy')"
   ]
  },
  {
   "cell_type": "code",
   "execution_count": 58,
   "metadata": {},
   "outputs": [
    {
     "data": {
      "text/html": [
       "<div>\n",
       "<style scoped>\n",
       "    .dataframe tbody tr th:only-of-type {\n",
       "        vertical-align: middle;\n",
       "    }\n",
       "\n",
       "    .dataframe tbody tr th {\n",
       "        vertical-align: top;\n",
       "    }\n",
       "\n",
       "    .dataframe thead th {\n",
       "        text-align: right;\n",
       "    }\n",
       "</style>\n",
       "<table border=\"1\" class=\"dataframe\">\n",
       "  <thead>\n",
       "    <tr style=\"text-align: right;\">\n",
       "      <th></th>\n",
       "      <th>mean</th>\n",
       "      <th>std</th>\n",
       "    </tr>\n",
       "  </thead>\n",
       "  <tbody>\n",
       "    <tr>\n",
       "      <th>Total Energy</th>\n",
       "      <td>0.575376</td>\n",
       "      <td>0.338749</td>\n",
       "    </tr>\n",
       "    <tr>\n",
       "      <th>Mobile Phone Charger Energy</th>\n",
       "      <td>0.000263</td>\n",
       "      <td>0.000132</td>\n",
       "    </tr>\n",
       "  </tbody>\n",
       "</table>\n",
       "</div>"
      ],
      "text/plain": [
       "                                 mean       std\n",
       "Total Energy                 0.575376  0.338749\n",
       "Mobile Phone Charger Energy  0.000263  0.000132"
      ]
     },
     "execution_count": 58,
     "metadata": {},
     "output_type": "execute_result"
    }
   ],
   "source": [
    "house2_train_df.describe().transpose()[['mean', 'std']]"
   ]
  },
  {
   "cell_type": "code",
   "execution_count": 59,
   "metadata": {},
   "outputs": [],
   "source": [
    "def plot_house2(x,y):\n",
    "  plt.scatter(house2_test_features, house2_test_labels, label='Data')\n",
    "  plt.plot(x, y, color='k', label='Predictions')\n",
    "  plt.xlabel('Total Energy')\n",
    "  plt.ylabel('Mobile Phone Charger Energy')\n",
    "  plt.legend()"
   ]
  },
  {
   "cell_type": "code",
   "execution_count": 60,
   "metadata": {},
   "outputs": [],
   "source": [
    "house2_reg = LinearRegression().fit(house2_train_features, house2_train_labels)"
   ]
  },
  {
   "cell_type": "code",
   "execution_count": 61,
   "metadata": {},
   "outputs": [
    {
     "data": {
      "text/plain": [
       "0.9800899578522355"
      ]
     },
     "execution_count": 61,
     "metadata": {},
     "output_type": "execute_result"
    }
   ],
   "source": [
    "house2_reg.score(house2_test_features, house2_test_labels)"
   ]
  },
  {
   "cell_type": "code",
   "execution_count": 62,
   "metadata": {},
   "outputs": [
    {
     "data": {
      "image/png": "[encoded data removed]",
      "text/plain": [
       "<Figure size 432x288 with 1 Axes>"
      ]
     },
     "metadata": {
      "needs_background": "light"
     },
     "output_type": "display_data"
    }
   ],
   "source": [
    "x = np.linspace(0.01, 1.2, 251)\n",
    "y = house2_reg.predict(x.reshape(-1, 1))\n",
    "plot_house2(x,y)"
   ]
  },
  {
   "cell_type": "code",
   "execution_count": 63,
   "metadata": {},
   "outputs": [],
   "source": [
    "HUE_12_total_energy = np.array(HUE_12_df['energy_kWh'])\n",
    "HUE_12_df['Mobile Phone Charger Energy'] = house2_reg.predict(HUE_12_total_energy.reshape(-1,1))"
   ]
  },
  {
   "cell_type": "code",
   "execution_count": 64,
   "metadata": {},
   "outputs": [
    {
     "data": {
      "text/html": [
       "<div>\n",
       "<style scoped>\n",
       "    .dataframe tbody tr th:only-of-type {\n",
       "        vertical-align: middle;\n",
       "    }\n",
       "\n",
       "    .dataframe tbody tr th {\n",
       "        vertical-align: top;\n",
       "    }\n",
       "\n",
       "    .dataframe thead th {\n",
       "        text-align: right;\n",
       "    }\n",
       "</style>\n",
       "<table border=\"1\" class=\"dataframe\">\n",
       "  <thead>\n",
       "    <tr style=\"text-align: right;\">\n",
       "      <th></th>\n",
       "      <th>date</th>\n",
       "      <th>hour</th>\n",
       "      <th>energy_kWh</th>\n",
       "      <th>electronics workbench energy</th>\n",
       "      <th>network energy</th>\n",
       "      <th>Homeoffice Energy</th>\n",
       "      <th>Home Office Energy 2</th>\n",
       "      <th>Mobile Phone Charger Energy</th>\n",
       "    </tr>\n",
       "  </thead>\n",
       "  <tbody>\n",
       "    <tr>\n",
       "      <th>0</th>\n",
       "      <td>2015-02-21</td>\n",
       "      <td>0</td>\n",
       "      <td>0.29</td>\n",
       "      <td>0.006745</td>\n",
       "      <td>0.019345</td>\n",
       "      <td>0.012454</td>\n",
       "      <td>0.040928</td>\n",
       "      <td>0.000153</td>\n",
       "    </tr>\n",
       "    <tr>\n",
       "      <th>1</th>\n",
       "      <td>2015-02-21</td>\n",
       "      <td>1</td>\n",
       "      <td>0.28</td>\n",
       "      <td>0.006718</td>\n",
       "      <td>0.019345</td>\n",
       "      <td>0.012374</td>\n",
       "      <td>0.039630</td>\n",
       "      <td>0.000149</td>\n",
       "    </tr>\n",
       "    <tr>\n",
       "      <th>2</th>\n",
       "      <td>2015-02-21</td>\n",
       "      <td>2</td>\n",
       "      <td>0.30</td>\n",
       "      <td>0.006772</td>\n",
       "      <td>0.019344</td>\n",
       "      <td>0.012534</td>\n",
       "      <td>0.042227</td>\n",
       "      <td>0.000157</td>\n",
       "    </tr>\n",
       "    <tr>\n",
       "      <th>3</th>\n",
       "      <td>2015-02-21</td>\n",
       "      <td>3</td>\n",
       "      <td>0.24</td>\n",
       "      <td>0.006610</td>\n",
       "      <td>0.019347</td>\n",
       "      <td>0.012054</td>\n",
       "      <td>0.034434</td>\n",
       "      <td>0.000134</td>\n",
       "    </tr>\n",
       "    <tr>\n",
       "      <th>4</th>\n",
       "      <td>2015-02-21</td>\n",
       "      <td>4</td>\n",
       "      <td>0.24</td>\n",
       "      <td>0.006610</td>\n",
       "      <td>0.019347</td>\n",
       "      <td>0.012054</td>\n",
       "      <td>0.034434</td>\n",
       "      <td>0.000134</td>\n",
       "    </tr>\n",
       "    <tr>\n",
       "      <th>...</th>\n",
       "      <td>...</td>\n",
       "      <td>...</td>\n",
       "      <td>...</td>\n",
       "      <td>...</td>\n",
       "      <td>...</td>\n",
       "      <td>...</td>\n",
       "      <td>...</td>\n",
       "      <td>...</td>\n",
       "    </tr>\n",
       "    <tr>\n",
       "      <th>26299</th>\n",
       "      <td>2018-02-20</td>\n",
       "      <td>19</td>\n",
       "      <td>1.14</td>\n",
       "      <td>0.009034</td>\n",
       "      <td>0.019311</td>\n",
       "      <td>0.019266</td>\n",
       "      <td>0.151325</td>\n",
       "      <td>0.000480</td>\n",
       "    </tr>\n",
       "    <tr>\n",
       "      <th>26300</th>\n",
       "      <td>2018-02-20</td>\n",
       "      <td>20</td>\n",
       "      <td>0.29</td>\n",
       "      <td>0.006745</td>\n",
       "      <td>0.019345</td>\n",
       "      <td>0.012454</td>\n",
       "      <td>0.040928</td>\n",
       "      <td>0.000153</td>\n",
       "    </tr>\n",
       "    <tr>\n",
       "      <th>26301</th>\n",
       "      <td>2018-02-20</td>\n",
       "      <td>21</td>\n",
       "      <td>0.27</td>\n",
       "      <td>0.006691</td>\n",
       "      <td>0.019345</td>\n",
       "      <td>0.012294</td>\n",
       "      <td>0.038331</td>\n",
       "      <td>0.000145</td>\n",
       "    </tr>\n",
       "    <tr>\n",
       "      <th>26302</th>\n",
       "      <td>2018-02-20</td>\n",
       "      <td>22</td>\n",
       "      <td>0.25</td>\n",
       "      <td>0.006637</td>\n",
       "      <td>0.019346</td>\n",
       "      <td>0.012134</td>\n",
       "      <td>0.035733</td>\n",
       "      <td>0.000137</td>\n",
       "    </tr>\n",
       "    <tr>\n",
       "      <th>26303</th>\n",
       "      <td>2018-02-20</td>\n",
       "      <td>23</td>\n",
       "      <td>0.19</td>\n",
       "      <td>0.006475</td>\n",
       "      <td>0.019349</td>\n",
       "      <td>0.011653</td>\n",
       "      <td>0.027941</td>\n",
       "      <td>0.000114</td>\n",
       "    </tr>\n",
       "  </tbody>\n",
       "</table>\n",
       "<p>26100 rows × 8 columns</p>\n",
       "</div>"
      ],
      "text/plain": [
       "             date  hour  energy_kWh  electronics workbench energy  \\\n",
       "0      2015-02-21     0        0.29                      0.006745   \n",
       "1      2015-02-21     1        0.28                      0.006718   \n",
       "2      2015-02-21     2        0.30                      0.006772   \n",
       "3      2015-02-21     3        0.24                      0.006610   \n",
       "4      2015-02-21     4        0.24                      0.006610   \n",
       "...           ...   ...         ...                           ...   \n",
       "26299  2018-02-20    19        1.14                      0.009034   \n",
       "26300  2018-02-20    20        0.29                      0.006745   \n",
       "26301  2018-02-20    21        0.27                      0.006691   \n",
       "26302  2018-02-20    22        0.25                      0.006637   \n",
       "26303  2018-02-20    23        0.19                      0.006475   \n",
       "\n",
       "       network energy  Homeoffice Energy  Home Office Energy 2  \\\n",
       "0            0.019345           0.012454              0.040928   \n",
       "1            0.019345           0.012374              0.039630   \n",
       "2            0.019344           0.012534              0.042227   \n",
       "3            0.019347           0.012054              0.034434   \n",
       "4            0.019347           0.012054              0.034434   \n",
       "...               ...                ...                   ...   \n",
       "26299        0.019311           0.019266              0.151325   \n",
       "26300        0.019345           0.012454              0.040928   \n",
       "26301        0.019345           0.012294              0.038331   \n",
       "26302        0.019346           0.012134              0.035733   \n",
       "26303        0.019349           0.011653              0.027941   \n",
       "\n",
       "       Mobile Phone Charger Energy  \n",
       "0                         0.000153  \n",
       "1                         0.000149  \n",
       "2                         0.000157  \n",
       "3                         0.000134  \n",
       "4                         0.000134  \n",
       "...                            ...  \n",
       "26299                     0.000480  \n",
       "26300                     0.000153  \n",
       "26301                     0.000145  \n",
       "26302                     0.000137  \n",
       "26303                     0.000114  \n",
       "\n",
       "[26100 rows x 8 columns]"
      ]
     },
     "execution_count": 64,
     "metadata": {},
     "output_type": "execute_result"
    }
   ],
   "source": [
    "HUE_12_df"
   ]
  },
  {
   "cell_type": "markdown",
   "metadata": {},
   "source": [
    "### Consolidated regression models"
   ]
  },
  {
   "cell_type": "code",
   "execution_count": 65,
   "metadata": {},
   "outputs": [],
   "source": [
    "# Sample code\n",
    "# HUE_12_total_energy = np.array(HUE_12_df['energy_kWh'])\n",
    "# HUE_12_df['electronics workbench energy'] = workbench_reg.predict(HUE_12_total_energy.reshape(-1,1))"
   ]
  },
  {
   "cell_type": "code",
   "execution_count": 66,
   "metadata": {},
   "outputs": [],
   "source": [
    "# Models \n",
    "# Electronics Workbench : workbench_reg\n",
    "# Network Equipment Energy: network_reg\n",
    "# Home Office Energy: homeoffice_reg\n",
    "# RAE Home Office Energy: house1_reg\n",
    "# RAE Mobile Phone Charger Energy: house2_reg"
   ]
  },
  {
   "cell_type": "code",
   "execution_count": 67,
   "metadata": {},
   "outputs": [],
   "source": [
    "HUE_first_df = pd.read_csv('./Intermediate Datasets/HUE_first_df.csv')\n",
    "HUE_second_df = pd.read_csv('./Intermediate Datasets/HUE_second_df.csv')\n",
    "HUE_third_df = pd.read_csv('./Intermediate Datasets/HUE_third_df.csv')\n",
    "HUE_fourth_df = pd.read_csv('./Intermediate Datasets/HUE_fourth_df.csv')"
   ]
  },
  {
   "cell_type": "code",
   "execution_count": 68,
   "metadata": {},
   "outputs": [],
   "source": [
    "HUE_datasets = [HUE_first_df,HUE_second_df,HUE_third_df,HUE_fourth_df]"
   ]
  },
  {
   "cell_type": "code",
   "execution_count": 69,
   "metadata": {},
   "outputs": [],
   "source": [
    "HUE_df = pd.concat(HUE_datasets)\n",
    "HUE_df.dropna(inplace = True)"
   ]
  },
  {
   "cell_type": "code",
   "execution_count": 70,
   "metadata": {},
   "outputs": [],
   "source": [
    "HUE_total_energy = np.array(HUE_df['energy_kWh'])\n",
    "HUE_df['electronics workbench energy'] = workbench_reg.predict(HUE_total_energy.reshape(-1,1))\n",
    "HUE_df['network equipment energy'] = network_reg.predict(HUE_total_energy.reshape(-1,1))\n",
    "HUE_df['home office energy'] = homeoffice_reg.predict(HUE_total_energy.reshape(-1,1))\n",
    "HUE_df['RAE home office energy'] = house1_reg.predict(HUE_total_energy.reshape(-1,1))\n",
    "HUE_df['RAE Mobile Phone Charger Energy'] = house2_reg.predict(HUE_total_energy.reshape(-1,1))"
   ]
  },
  {
   "cell_type": "code",
   "execution_count": 71,
   "metadata": {},
   "outputs": [],
   "source": [
    "HUE_df['timestamp'] = pd.to_datetime(HUE_df['timestamp']) "
   ]
  },
  {
   "cell_type": "code",
   "execution_count": 72,
   "metadata": {},
   "outputs": [
    {
     "data": {
      "text/plain": [
       "0.1709733321759676"
      ]
     },
     "execution_count": 72,
     "metadata": {},
     "output_type": "execute_result"
    }
   ],
   "source": [
    "# Ratio of smart devices in total energy\n",
    "HUE_df.loc[HUE_df['timestamp'] > pd.Timestamp('2020-03-11'), ['electronics workbench energy', 'network equipment energy',\n",
    "       'home office energy', 'RAE home office energy',\n",
    "       'RAE Mobile Phone Charger Energy']].iloc[0].sum()/float(HUE_df.loc[HUE_df['timestamp'] > pd.Timestamp('2020-03-11'), ['energy_kWh']].iloc[0])"
   ]
  },
  {
   "cell_type": "code",
   "execution_count": 73,
   "metadata": {},
   "outputs": [
    {
     "data": {
      "text/html": [
       "<div>\n",
       "<style scoped>\n",
       "    .dataframe tbody tr th:only-of-type {\n",
       "        vertical-align: middle;\n",
       "    }\n",
       "\n",
       "    .dataframe tbody tr th {\n",
       "        vertical-align: top;\n",
       "    }\n",
       "\n",
       "    .dataframe thead th {\n",
       "        text-align: right;\n",
       "    }\n",
       "</style>\n",
       "<table border=\"1\" class=\"dataframe\">\n",
       "  <thead>\n",
       "    <tr style=\"text-align: right;\">\n",
       "      <th></th>\n",
       "      <th>timestamp</th>\n",
       "      <th>energy_kWh</th>\n",
       "      <th>House Number</th>\n",
       "      <th>electronics workbench energy</th>\n",
       "      <th>network equipment energy</th>\n",
       "      <th>home office energy</th>\n",
       "      <th>RAE home office energy</th>\n",
       "      <th>RAE Mobile Phone Charger Energy</th>\n",
       "    </tr>\n",
       "  </thead>\n",
       "  <tbody>\n",
       "    <tr>\n",
       "      <th>39961</th>\n",
       "      <td>2020-03-11 01:00:00</td>\n",
       "      <td>1.5093</td>\n",
       "      <td>23</td>\n",
       "      <td>0.018875</td>\n",
       "      <td>0.038610</td>\n",
       "      <td>0.040937</td>\n",
       "      <td>0.341613</td>\n",
       "      <td>0.001077</td>\n",
       "    </tr>\n",
       "    <tr>\n",
       "      <th>39962</th>\n",
       "      <td>2020-03-11 02:00:00</td>\n",
       "      <td>3.1707</td>\n",
       "      <td>23</td>\n",
       "      <td>0.026523</td>\n",
       "      <td>0.038498</td>\n",
       "      <td>0.063697</td>\n",
       "      <td>0.710466</td>\n",
       "      <td>0.002171</td>\n",
       "    </tr>\n",
       "    <tr>\n",
       "      <th>39963</th>\n",
       "      <td>2020-03-11 03:00:00</td>\n",
       "      <td>0.6435</td>\n",
       "      <td>23</td>\n",
       "      <td>0.014890</td>\n",
       "      <td>0.038669</td>\n",
       "      <td>0.029076</td>\n",
       "      <td>0.149393</td>\n",
       "      <td>0.000506</td>\n",
       "    </tr>\n",
       "    <tr>\n",
       "      <th>39964</th>\n",
       "      <td>2020-03-11 04:00:00</td>\n",
       "      <td>0.9477</td>\n",
       "      <td>23</td>\n",
       "      <td>0.016290</td>\n",
       "      <td>0.038648</td>\n",
       "      <td>0.033243</td>\n",
       "      <td>0.216930</td>\n",
       "      <td>0.000707</td>\n",
       "    </tr>\n",
       "    <tr>\n",
       "      <th>39965</th>\n",
       "      <td>2020-03-11 05:00:00</td>\n",
       "      <td>0.9009</td>\n",
       "      <td>23</td>\n",
       "      <td>0.016074</td>\n",
       "      <td>0.038651</td>\n",
       "      <td>0.032602</td>\n",
       "      <td>0.206540</td>\n",
       "      <td>0.000676</td>\n",
       "    </tr>\n",
       "    <tr>\n",
       "      <th>...</th>\n",
       "      <td>...</td>\n",
       "      <td>...</td>\n",
       "      <td>...</td>\n",
       "      <td>...</td>\n",
       "      <td>...</td>\n",
       "      <td>...</td>\n",
       "      <td>...</td>\n",
       "      <td>...</td>\n",
       "    </tr>\n",
       "    <tr>\n",
       "      <th>123761</th>\n",
       "      <td>2020-05-19 19:00:00</td>\n",
       "      <td>3.5802</td>\n",
       "      <td>28</td>\n",
       "      <td>0.028408</td>\n",
       "      <td>0.038470</td>\n",
       "      <td>0.069307</td>\n",
       "      <td>0.801381</td>\n",
       "      <td>0.002441</td>\n",
       "    </tr>\n",
       "    <tr>\n",
       "      <th>123762</th>\n",
       "      <td>2020-05-19 20:00:00</td>\n",
       "      <td>3.4398</td>\n",
       "      <td>28</td>\n",
       "      <td>0.027762</td>\n",
       "      <td>0.038479</td>\n",
       "      <td>0.067384</td>\n",
       "      <td>0.770210</td>\n",
       "      <td>0.002348</td>\n",
       "    </tr>\n",
       "    <tr>\n",
       "      <th>123763</th>\n",
       "      <td>2020-05-19 21:00:00</td>\n",
       "      <td>2.3049</td>\n",
       "      <td>28</td>\n",
       "      <td>0.022537</td>\n",
       "      <td>0.038556</td>\n",
       "      <td>0.051836</td>\n",
       "      <td>0.518247</td>\n",
       "      <td>0.001601</td>\n",
       "    </tr>\n",
       "    <tr>\n",
       "      <th>123764</th>\n",
       "      <td>2020-05-19 22:00:00</td>\n",
       "      <td>2.4921</td>\n",
       "      <td>28</td>\n",
       "      <td>0.023399</td>\n",
       "      <td>0.038544</td>\n",
       "      <td>0.054401</td>\n",
       "      <td>0.559808</td>\n",
       "      <td>0.001724</td>\n",
       "    </tr>\n",
       "    <tr>\n",
       "      <th>123765</th>\n",
       "      <td>2020-05-19 23:00:00</td>\n",
       "      <td>1.1817</td>\n",
       "      <td>28</td>\n",
       "      <td>0.017367</td>\n",
       "      <td>0.038632</td>\n",
       "      <td>0.036449</td>\n",
       "      <td>0.268881</td>\n",
       "      <td>0.000861</td>\n",
       "    </tr>\n",
       "  </tbody>\n",
       "</table>\n",
       "<p>8766 rows × 8 columns</p>\n",
       "</div>"
      ],
      "text/plain": [
       "                 timestamp  energy_kWh  House Number  \\\n",
       "39961  2020-03-11 01:00:00      1.5093            23   \n",
       "39962  2020-03-11 02:00:00      3.1707            23   \n",
       "39963  2020-03-11 03:00:00      0.6435            23   \n",
       "39964  2020-03-11 04:00:00      0.9477            23   \n",
       "39965  2020-03-11 05:00:00      0.9009            23   \n",
       "...                    ...         ...           ...   \n",
       "123761 2020-05-19 19:00:00      3.5802            28   \n",
       "123762 2020-05-19 20:00:00      3.4398            28   \n",
       "123763 2020-05-19 21:00:00      2.3049            28   \n",
       "123764 2020-05-19 22:00:00      2.4921            28   \n",
       "123765 2020-05-19 23:00:00      1.1817            28   \n",
       "\n",
       "        electronics workbench energy  network equipment energy  \\\n",
       "39961                       0.018875                  0.038610   \n",
       "39962                       0.026523                  0.038498   \n",
       "39963                       0.014890                  0.038669   \n",
       "39964                       0.016290                  0.038648   \n",
       "39965                       0.016074                  0.038651   \n",
       "...                              ...                       ...   \n",
       "123761                      0.028408                  0.038470   \n",
       "123762                      0.027762                  0.038479   \n",
       "123763                      0.022537                  0.038556   \n",
       "123764                      0.023399                  0.038544   \n",
       "123765                      0.017367                  0.038632   \n",
       "\n",
       "        home office energy  RAE home office energy  \\\n",
       "39961             0.040937                0.341613   \n",
       "39962             0.063697                0.710466   \n",
       "39963             0.029076                0.149393   \n",
       "39964             0.033243                0.216930   \n",
       "39965             0.032602                0.206540   \n",
       "...                    ...                     ...   \n",
       "123761            0.069307                0.801381   \n",
       "123762            0.067384                0.770210   \n",
       "123763            0.051836                0.518247   \n",
       "123764            0.054401                0.559808   \n",
       "123765            0.036449                0.268881   \n",
       "\n",
       "        RAE Mobile Phone Charger Energy  \n",
       "39961                          0.001077  \n",
       "39962                          0.002171  \n",
       "39963                          0.000506  \n",
       "39964                          0.000707  \n",
       "39965                          0.000676  \n",
       "...                                 ...  \n",
       "123761                         0.002441  \n",
       "123762                         0.002348  \n",
       "123763                         0.001601  \n",
       "123764                         0.001724  \n",
       "123765                         0.000861  \n",
       "\n",
       "[8766 rows x 8 columns]"
      ]
     },
     "execution_count": 73,
     "metadata": {},
     "output_type": "execute_result"
    }
   ],
   "source": [
    "# https://en.wikipedia.org/wiki/Timeline_of_the_COVID-19_pandemic_in_Canada#February\n",
    "# March 11 is when COVID really started in Canada\n",
    "\n",
    "HUE_df.loc[HUE_df['timestamp'] > pd.Timestamp('2020-03-11'),  ['electronics workbench energy', 'network equipment energy',\n",
    "       'home office energy', 'RAE home office energy',\n",
    "       'RAE Mobile Phone Charger Energy']] = HUE_df.loc[HUE_df['timestamp'] > pd.Timestamp('2020-03-11'),  ['electronics workbench energy', 'network equipment energy',\n",
    "       'home office energy', 'RAE home office energy',\n",
    "       'RAE Mobile Phone Charger Energy']].applymap(lambda x: x * 2)\n",
    "\n",
    "\n",
    "HUE_df.loc[HUE_df['timestamp'] > pd.Timestamp('2020-03-11'),  ['energy_kWh']] = HUE_df.loc[HUE_df['timestamp'] > pd.Timestamp('2020-03-11'),  ['energy_kWh']].applymap(lambda x: x * 1.17)\n",
    "\n",
    "HUE_df.loc[HUE_df['timestamp'] > pd.Timestamp('2020-03-11')]\n",
    "# df1.loc[df1['stream'] == 2, cols ] = df1 / 2\n",
    "# print df1"
   ]
  },
  {
   "cell_type": "code",
   "execution_count": 74,
   "metadata": {},
   "outputs": [],
   "source": [
    "# Earlier values for reference\n",
    "# Smart device features have been multiplied by c=2 and total energy has been multiplied by c=1.17\n",
    "# 39961  2020-03-11 01:00:00\t1.29\t23\t0.009437\t0.019305\t0.020468\t0.170806\t0.000538\n",
    "# 123765 2020-05-19 23:00:00\t1.01\t28\t0.008683\t0.019316\t0.018224\t0.134440\t0.000430\n"
   ]
  },
  {
   "cell_type": "code",
   "execution_count": 75,
   "metadata": {},
   "outputs": [
    {
     "data": {
      "text/html": [
       "<div>\n",
       "<style scoped>\n",
       "    .dataframe tbody tr th:only-of-type {\n",
       "        vertical-align: middle;\n",
       "    }\n",
       "\n",
       "    .dataframe tbody tr th {\n",
       "        vertical-align: top;\n",
       "    }\n",
       "\n",
       "    .dataframe thead th {\n",
       "        text-align: right;\n",
       "    }\n",
       "</style>\n",
       "<table border=\"1\" class=\"dataframe\">\n",
       "  <thead>\n",
       "    <tr style=\"text-align: right;\">\n",
       "      <th></th>\n",
       "      <th>timestamp</th>\n",
       "      <th>energy_kWh</th>\n",
       "      <th>House Number</th>\n",
       "      <th>electronics workbench energy</th>\n",
       "      <th>network equipment energy</th>\n",
       "      <th>home office energy</th>\n",
       "      <th>RAE home office energy</th>\n",
       "      <th>RAE Mobile Phone Charger Energy</th>\n",
       "    </tr>\n",
       "  </thead>\n",
       "  <tbody>\n",
       "    <tr>\n",
       "      <th>0</th>\n",
       "      <td>2012-06-01 01:00:00</td>\n",
       "      <td>1.0110</td>\n",
       "      <td>1</td>\n",
       "      <td>0.008686</td>\n",
       "      <td>0.019316</td>\n",
       "      <td>0.018232</td>\n",
       "      <td>0.134570</td>\n",
       "      <td>0.000431</td>\n",
       "    </tr>\n",
       "    <tr>\n",
       "      <th>1</th>\n",
       "      <td>2012-06-01 02:00:00</td>\n",
       "      <td>0.4510</td>\n",
       "      <td>1</td>\n",
       "      <td>0.007178</td>\n",
       "      <td>0.019338</td>\n",
       "      <td>0.013745</td>\n",
       "      <td>0.061839</td>\n",
       "      <td>0.000215</td>\n",
       "    </tr>\n",
       "    <tr>\n",
       "      <th>2</th>\n",
       "      <td>2012-06-01 03:00:00</td>\n",
       "      <td>0.5050</td>\n",
       "      <td>1</td>\n",
       "      <td>0.007324</td>\n",
       "      <td>0.019336</td>\n",
       "      <td>0.014177</td>\n",
       "      <td>0.068852</td>\n",
       "      <td>0.000236</td>\n",
       "    </tr>\n",
       "    <tr>\n",
       "      <th>3</th>\n",
       "      <td>2012-06-01 04:00:00</td>\n",
       "      <td>0.4410</td>\n",
       "      <td>1</td>\n",
       "      <td>0.007151</td>\n",
       "      <td>0.019339</td>\n",
       "      <td>0.013664</td>\n",
       "      <td>0.060540</td>\n",
       "      <td>0.000211</td>\n",
       "    </tr>\n",
       "    <tr>\n",
       "      <th>4</th>\n",
       "      <td>2012-06-01 05:00:00</td>\n",
       "      <td>0.4680</td>\n",
       "      <td>1</td>\n",
       "      <td>0.007224</td>\n",
       "      <td>0.019338</td>\n",
       "      <td>0.013881</td>\n",
       "      <td>0.064047</td>\n",
       "      <td>0.000221</td>\n",
       "    </tr>\n",
       "    <tr>\n",
       "      <th>...</th>\n",
       "      <td>...</td>\n",
       "      <td>...</td>\n",
       "      <td>...</td>\n",
       "      <td>...</td>\n",
       "      <td>...</td>\n",
       "      <td>...</td>\n",
       "      <td>...</td>\n",
       "      <td>...</td>\n",
       "    </tr>\n",
       "    <tr>\n",
       "      <th>123761</th>\n",
       "      <td>2020-05-19 19:00:00</td>\n",
       "      <td>3.5802</td>\n",
       "      <td>28</td>\n",
       "      <td>0.028408</td>\n",
       "      <td>0.038470</td>\n",
       "      <td>0.069307</td>\n",
       "      <td>0.801381</td>\n",
       "      <td>0.002441</td>\n",
       "    </tr>\n",
       "    <tr>\n",
       "      <th>123762</th>\n",
       "      <td>2020-05-19 20:00:00</td>\n",
       "      <td>3.4398</td>\n",
       "      <td>28</td>\n",
       "      <td>0.027762</td>\n",
       "      <td>0.038479</td>\n",
       "      <td>0.067384</td>\n",
       "      <td>0.770210</td>\n",
       "      <td>0.002348</td>\n",
       "    </tr>\n",
       "    <tr>\n",
       "      <th>123763</th>\n",
       "      <td>2020-05-19 21:00:00</td>\n",
       "      <td>2.3049</td>\n",
       "      <td>28</td>\n",
       "      <td>0.022537</td>\n",
       "      <td>0.038556</td>\n",
       "      <td>0.051836</td>\n",
       "      <td>0.518247</td>\n",
       "      <td>0.001601</td>\n",
       "    </tr>\n",
       "    <tr>\n",
       "      <th>123764</th>\n",
       "      <td>2020-05-19 22:00:00</td>\n",
       "      <td>2.4921</td>\n",
       "      <td>28</td>\n",
       "      <td>0.023399</td>\n",
       "      <td>0.038544</td>\n",
       "      <td>0.054401</td>\n",
       "      <td>0.559808</td>\n",
       "      <td>0.001724</td>\n",
       "    </tr>\n",
       "    <tr>\n",
       "      <th>123765</th>\n",
       "      <td>2020-05-19 23:00:00</td>\n",
       "      <td>1.1817</td>\n",
       "      <td>28</td>\n",
       "      <td>0.017367</td>\n",
       "      <td>0.038632</td>\n",
       "      <td>0.036449</td>\n",
       "      <td>0.268881</td>\n",
       "      <td>0.000861</td>\n",
       "    </tr>\n",
       "  </tbody>\n",
       "</table>\n",
       "<p>611018 rows × 8 columns</p>\n",
       "</div>"
      ],
      "text/plain": [
       "                 timestamp  energy_kWh  House Number  \\\n",
       "0      2012-06-01 01:00:00      1.0110             1   \n",
       "1      2012-06-01 02:00:00      0.4510             1   \n",
       "2      2012-06-01 03:00:00      0.5050             1   \n",
       "3      2012-06-01 04:00:00      0.4410             1   \n",
       "4      2012-06-01 05:00:00      0.4680             1   \n",
       "...                    ...         ...           ...   \n",
       "123761 2020-05-19 19:00:00      3.5802            28   \n",
       "123762 2020-05-19 20:00:00      3.4398            28   \n",
       "123763 2020-05-19 21:00:00      2.3049            28   \n",
       "123764 2020-05-19 22:00:00      2.4921            28   \n",
       "123765 2020-05-19 23:00:00      1.1817            28   \n",
       "\n",
       "        electronics workbench energy  network equipment energy  \\\n",
       "0                           0.008686                  0.019316   \n",
       "1                           0.007178                  0.019338   \n",
       "2                           0.007324                  0.019336   \n",
       "3                           0.007151                  0.019339   \n",
       "4                           0.007224                  0.019338   \n",
       "...                              ...                       ...   \n",
       "123761                      0.028408                  0.038470   \n",
       "123762                      0.027762                  0.038479   \n",
       "123763                      0.022537                  0.038556   \n",
       "123764                      0.023399                  0.038544   \n",
       "123765                      0.017367                  0.038632   \n",
       "\n",
       "        home office energy  RAE home office energy  \\\n",
       "0                 0.018232                0.134570   \n",
       "1                 0.013745                0.061839   \n",
       "2                 0.014177                0.068852   \n",
       "3                 0.013664                0.060540   \n",
       "4                 0.013881                0.064047   \n",
       "...                    ...                     ...   \n",
       "123761            0.069307                0.801381   \n",
       "123762            0.067384                0.770210   \n",
       "123763            0.051836                0.518247   \n",
       "123764            0.054401                0.559808   \n",
       "123765            0.036449                0.268881   \n",
       "\n",
       "        RAE Mobile Phone Charger Energy  \n",
       "0                              0.000431  \n",
       "1                              0.000215  \n",
       "2                              0.000236  \n",
       "3                              0.000211  \n",
       "4                              0.000221  \n",
       "...                                 ...  \n",
       "123761                         0.002441  \n",
       "123762                         0.002348  \n",
       "123763                         0.001601  \n",
       "123764                         0.001724  \n",
       "123765                         0.000861  \n",
       "\n",
       "[611018 rows x 8 columns]"
      ]
     },
     "execution_count": 75,
     "metadata": {},
     "output_type": "execute_result"
    }
   ],
   "source": [
    "HUE_df"
   ]
  },
  {
   "cell_type": "code",
   "execution_count": 76,
   "metadata": {},
   "outputs": [],
   "source": [
    "HUE_df.to_csv('Final Datasets/energy_consumption.csv')"
   ]
  }
 ],
 "metadata": {
  "kernelspec": {
   "display_name": "Python 3 (ipykernel)",
   "language": "python",
   "name": "python3"
  },
  "language_info": {
   "codemirror_mode": {
    "name": "ipython",
    "version": 3
   },
   "file_extension": ".py",
   "mimetype": "text/x-python",
   "name": "python",
   "nbconvert_exporter": "python",
   "pygments_lexer": "ipython3",
   "version": "3.9.7"
  }
 },
 "nbformat": 4,
 "nbformat_minor": 4
}
